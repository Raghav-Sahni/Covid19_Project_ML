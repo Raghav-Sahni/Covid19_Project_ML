{
  "nbformat": 4,
  "nbformat_minor": 0,
  "metadata": {
    "colab": {
      "name": "Covid19.ipynb",
      "provenance": [],
      "collapsed_sections": [
        "AlA4O34kldyY"
      ]
    },
    "kernelspec": {
      "name": "python3",
      "display_name": "Python 3"
    },
    "language_info": {
      "name": "python"
    }
  },
  "cells": [
    {
      "cell_type": "markdown",
      "metadata": {
        "id": "AwO3vwU3HigI"
      },
      "source": [
        "## **Covid-19 Study**\n"
      ]
    },
    {
      "cell_type": "markdown",
      "metadata": {
        "id": "pzYN98woHsXZ"
      },
      "source": [
        "### **Team:**"
      ]
    },
    {
      "cell_type": "markdown",
      "metadata": {
        "id": "Kgx5Swn1HvCY"
      },
      "source": [
        "  * Ananya Sadana\n",
        "  * Ibtisam \n",
        "  * Jai Aravind\n",
        "  * Raghav Sahni"
      ]
    },
    {
      "cell_type": "markdown",
      "metadata": {
        "id": "mJ1tI5D5-W9p"
      },
      "source": [
        "## Importing Libraries"
      ]
    },
    {
      "cell_type": "code",
      "metadata": {
        "id": "1S-l7XLpmW09"
      },
      "source": [
        "import requests\n",
        "from IPython.core.display import HTML\n",
        "from statistics import mode"
      ],
      "execution_count": null,
      "outputs": []
    },
    {
      "cell_type": "code",
      "metadata": {
        "id": "EL5-qOM8XmMK"
      },
      "source": [
        "# Import libraries\n",
        "%matplotlib inline\n",
        "import math\n",
        "import numpy as np\n",
        "import pandas as pd\n",
        "import seaborn as sns\n",
        "from collections import Counter\n",
        "import matplotlib.pyplot as plt\n",
        "from sklearn.utils import shuffle\n",
        "from sklearn import base\n",
        "from sklearn.linear_model import Lasso\n",
        "from sklearn import preprocessing\n",
        "from sklearn.preprocessing import StandardScaler\n",
        "from sklearn.metrics import mean_squared_error\n",
        "from sklearn.linear_model import LinearRegression\n",
        "from sklearn.pipeline import Pipeline\n",
        "from sklearn.model_selection import cross_validate\n",
        "from sklearn.model_selection import train_test_split\n",
        "from sklearn.preprocessing import PolynomialFeatures\n",
        "from sklearn.linear_model import LogisticRegression\n",
        "from sklearn.model_selection import cross_val_score\n",
        "from sklearn.metrics import accuracy_score\n",
        "from sklearn.model_selection import KFold\n",
        "from sklearn.metrics import roc_auc_score\n",
        "from sklearn.metrics import roc_curve\n",
        "sns.set()\n",
        "import tensorflow as tf\n",
        "from datetime import datetime\n",
        "from sklearn.metrics import mean_absolute_error\n",
        "tf.keras.backend.clear_session()\n",
        "\n",
        "import warnings"
      ],
      "execution_count": null,
      "outputs": []
    },
    {
      "cell_type": "markdown",
      "metadata": {
        "id": "3yctbr2zogTi"
      },
      "source": [
        "#Italy"
      ]
    },
    {
      "cell_type": "markdown",
      "metadata": {
        "id": "kG_0rnAjI3fp"
      },
      "source": [
        "## Data Exploration"
      ]
    },
    {
      "cell_type": "code",
      "metadata": {
        "colab": {
          "base_uri": "https://localhost:8080/",
          "height": 307
        },
        "id": "YOWnTChuamy2",
        "outputId": "4857172b-df39-497b-d45e-766d61f579e6"
      },
      "source": [
        "df = pd.read_csv(\"covid19_italy_region.csv\")\n",
        "df.head()"
      ],
      "execution_count": null,
      "outputs": [
        {
          "output_type": "execute_result",
          "data": {
            "text/html": [
              "<div>\n",
              "<style scoped>\n",
              "    .dataframe tbody tr th:only-of-type {\n",
              "        vertical-align: middle;\n",
              "    }\n",
              "\n",
              "    .dataframe tbody tr th {\n",
              "        vertical-align: top;\n",
              "    }\n",
              "\n",
              "    .dataframe thead th {\n",
              "        text-align: right;\n",
              "    }\n",
              "</style>\n",
              "<table border=\"1\" class=\"dataframe\">\n",
              "  <thead>\n",
              "    <tr style=\"text-align: right;\">\n",
              "      <th></th>\n",
              "      <th>SNo</th>\n",
              "      <th>Date</th>\n",
              "      <th>Country</th>\n",
              "      <th>RegionCode</th>\n",
              "      <th>RegionName</th>\n",
              "      <th>Latitude</th>\n",
              "      <th>Longitude</th>\n",
              "      <th>HospitalizedPatients</th>\n",
              "      <th>IntensiveCarePatients</th>\n",
              "      <th>TotalHospitalizedPatients</th>\n",
              "      <th>HomeConfinement</th>\n",
              "      <th>CurrentPositiveCases</th>\n",
              "      <th>NewPositiveCases</th>\n",
              "      <th>Recovered</th>\n",
              "      <th>Deaths</th>\n",
              "      <th>TotalPositiveCases</th>\n",
              "      <th>TestsPerformed</th>\n",
              "    </tr>\n",
              "  </thead>\n",
              "  <tbody>\n",
              "    <tr>\n",
              "      <th>0</th>\n",
              "      <td>0</td>\n",
              "      <td>2020-02-24T18:00:00</td>\n",
              "      <td>ITA</td>\n",
              "      <td>13</td>\n",
              "      <td>Abruzzo</td>\n",
              "      <td>42.351222</td>\n",
              "      <td>13.398438</td>\n",
              "      <td>0</td>\n",
              "      <td>0</td>\n",
              "      <td>0</td>\n",
              "      <td>0</td>\n",
              "      <td>0</td>\n",
              "      <td>0</td>\n",
              "      <td>0</td>\n",
              "      <td>0</td>\n",
              "      <td>0</td>\n",
              "      <td>NaN</td>\n",
              "    </tr>\n",
              "    <tr>\n",
              "      <th>1</th>\n",
              "      <td>1</td>\n",
              "      <td>2020-02-24T18:00:00</td>\n",
              "      <td>ITA</td>\n",
              "      <td>17</td>\n",
              "      <td>Basilicata</td>\n",
              "      <td>40.639471</td>\n",
              "      <td>15.805148</td>\n",
              "      <td>0</td>\n",
              "      <td>0</td>\n",
              "      <td>0</td>\n",
              "      <td>0</td>\n",
              "      <td>0</td>\n",
              "      <td>0</td>\n",
              "      <td>0</td>\n",
              "      <td>0</td>\n",
              "      <td>0</td>\n",
              "      <td>NaN</td>\n",
              "    </tr>\n",
              "    <tr>\n",
              "      <th>2</th>\n",
              "      <td>2</td>\n",
              "      <td>2020-02-24T18:00:00</td>\n",
              "      <td>ITA</td>\n",
              "      <td>18</td>\n",
              "      <td>Calabria</td>\n",
              "      <td>38.905976</td>\n",
              "      <td>16.594402</td>\n",
              "      <td>0</td>\n",
              "      <td>0</td>\n",
              "      <td>0</td>\n",
              "      <td>0</td>\n",
              "      <td>0</td>\n",
              "      <td>0</td>\n",
              "      <td>0</td>\n",
              "      <td>0</td>\n",
              "      <td>0</td>\n",
              "      <td>NaN</td>\n",
              "    </tr>\n",
              "    <tr>\n",
              "      <th>3</th>\n",
              "      <td>3</td>\n",
              "      <td>2020-02-24T18:00:00</td>\n",
              "      <td>ITA</td>\n",
              "      <td>15</td>\n",
              "      <td>Campania</td>\n",
              "      <td>40.839566</td>\n",
              "      <td>14.250850</td>\n",
              "      <td>0</td>\n",
              "      <td>0</td>\n",
              "      <td>0</td>\n",
              "      <td>0</td>\n",
              "      <td>0</td>\n",
              "      <td>0</td>\n",
              "      <td>0</td>\n",
              "      <td>0</td>\n",
              "      <td>0</td>\n",
              "      <td>NaN</td>\n",
              "    </tr>\n",
              "    <tr>\n",
              "      <th>4</th>\n",
              "      <td>4</td>\n",
              "      <td>2020-02-24T18:00:00</td>\n",
              "      <td>ITA</td>\n",
              "      <td>8</td>\n",
              "      <td>Emilia-Romagna</td>\n",
              "      <td>44.494367</td>\n",
              "      <td>11.341721</td>\n",
              "      <td>10</td>\n",
              "      <td>2</td>\n",
              "      <td>12</td>\n",
              "      <td>6</td>\n",
              "      <td>18</td>\n",
              "      <td>18</td>\n",
              "      <td>0</td>\n",
              "      <td>0</td>\n",
              "      <td>18</td>\n",
              "      <td>NaN</td>\n",
              "    </tr>\n",
              "  </tbody>\n",
              "</table>\n",
              "</div>"
            ],
            "text/plain": [
              "   SNo                 Date Country  ...  Deaths TotalPositiveCases  TestsPerformed\n",
              "0    0  2020-02-24T18:00:00     ITA  ...       0                  0             NaN\n",
              "1    1  2020-02-24T18:00:00     ITA  ...       0                  0             NaN\n",
              "2    2  2020-02-24T18:00:00     ITA  ...       0                  0             NaN\n",
              "3    3  2020-02-24T18:00:00     ITA  ...       0                  0             NaN\n",
              "4    4  2020-02-24T18:00:00     ITA  ...       0                 18             NaN\n",
              "\n",
              "[5 rows x 17 columns]"
            ]
          },
          "metadata": {},
          "execution_count": 9
        }
      ]
    },
    {
      "cell_type": "code",
      "metadata": {
        "id": "IL70R_TVb9yQ",
        "colab": {
          "base_uri": "https://localhost:8080/"
        },
        "outputId": "3c89e693-6390-44fb-b4f2-5f7f9d6c88ac"
      },
      "source": [
        "df.shape"
      ],
      "execution_count": null,
      "outputs": [
        {
          "output_type": "execute_result",
          "data": {
            "text/plain": [
              "(6027, 17)"
            ]
          },
          "metadata": {},
          "execution_count": 10
        }
      ]
    },
    {
      "cell_type": "code",
      "metadata": {
        "id": "vwb7kN13ccSd",
        "colab": {
          "base_uri": "https://localhost:8080/"
        },
        "outputId": "8f658a6d-4337-437b-f4eb-62eb66416345"
      },
      "source": [
        "df[\"RegionName\"].value_counts()"
      ],
      "execution_count": null,
      "outputs": [
        {
          "output_type": "execute_result",
          "data": {
            "text/plain": [
              "Basilicata               287\n",
              "Puglia                   287\n",
              "Calabria                 287\n",
              "Valle d'Aosta            287\n",
              "Marche                   287\n",
              "Toscana                  287\n",
              "Campania                 287\n",
              "Sardegna                 287\n",
              "Abruzzo                  287\n",
              "P.A. Bolzano             287\n",
              "Emilia-Romagna           287\n",
              "Friuli Venezia Giulia    287\n",
              "Lazio                    287\n",
              "Umbria                   287\n",
              "Liguria                  287\n",
              "Piemonte                 287\n",
              "Sicilia                  287\n",
              "Molise                   287\n",
              "Veneto                   287\n",
              "Lombardia                287\n",
              "P.A. Trento              287\n",
              "Name: RegionName, dtype: int64"
            ]
          },
          "metadata": {},
          "execution_count": 11
        }
      ]
    },
    {
      "cell_type": "code",
      "metadata": {
        "colab": {
          "base_uri": "https://localhost:8080/",
          "height": 172
        },
        "id": "OiwSWqEvctRg",
        "outputId": "a37102c6-68c7-4879-bbb9-3ef5aaf373d7"
      },
      "source": [
        "#Describes categotical columns\n",
        "df.describe(include = \"O\") "
      ],
      "execution_count": null,
      "outputs": [
        {
          "output_type": "execute_result",
          "data": {
            "text/html": [
              "<div>\n",
              "<style scoped>\n",
              "    .dataframe tbody tr th:only-of-type {\n",
              "        vertical-align: middle;\n",
              "    }\n",
              "\n",
              "    .dataframe tbody tr th {\n",
              "        vertical-align: top;\n",
              "    }\n",
              "\n",
              "    .dataframe thead th {\n",
              "        text-align: right;\n",
              "    }\n",
              "</style>\n",
              "<table border=\"1\" class=\"dataframe\">\n",
              "  <thead>\n",
              "    <tr style=\"text-align: right;\">\n",
              "      <th></th>\n",
              "      <th>Date</th>\n",
              "      <th>Country</th>\n",
              "      <th>RegionName</th>\n",
              "    </tr>\n",
              "  </thead>\n",
              "  <tbody>\n",
              "    <tr>\n",
              "      <th>count</th>\n",
              "      <td>6027</td>\n",
              "      <td>6027</td>\n",
              "      <td>6027</td>\n",
              "    </tr>\n",
              "    <tr>\n",
              "      <th>unique</th>\n",
              "      <td>287</td>\n",
              "      <td>1</td>\n",
              "      <td>21</td>\n",
              "    </tr>\n",
              "    <tr>\n",
              "      <th>top</th>\n",
              "      <td>2020-11-17T17:00:00</td>\n",
              "      <td>ITA</td>\n",
              "      <td>Basilicata</td>\n",
              "    </tr>\n",
              "    <tr>\n",
              "      <th>freq</th>\n",
              "      <td>21</td>\n",
              "      <td>6027</td>\n",
              "      <td>287</td>\n",
              "    </tr>\n",
              "  </tbody>\n",
              "</table>\n",
              "</div>"
            ],
            "text/plain": [
              "                       Date Country  RegionName\n",
              "count                  6027    6027        6027\n",
              "unique                  287       1          21\n",
              "top     2020-11-17T17:00:00     ITA  Basilicata\n",
              "freq                     21    6027         287"
            ]
          },
          "metadata": {},
          "execution_count": 12
        }
      ]
    },
    {
      "cell_type": "code",
      "metadata": {
        "colab": {
          "base_uri": "https://localhost:8080/"
        },
        "id": "rVsHQzZ0c5Ug",
        "outputId": "029d41d7-b02b-45d1-aebb-7f6836e8e00f"
      },
      "source": [
        "#Checks for null values in all columns\n",
        "df.isna().any()"
      ],
      "execution_count": null,
      "outputs": [
        {
          "output_type": "execute_result",
          "data": {
            "text/plain": [
              "SNo                          False\n",
              "Date                         False\n",
              "Country                      False\n",
              "RegionCode                   False\n",
              "RegionName                   False\n",
              "Latitude                     False\n",
              "Longitude                    False\n",
              "HospitalizedPatients         False\n",
              "IntensiveCarePatients        False\n",
              "TotalHospitalizedPatients    False\n",
              "HomeConfinement              False\n",
              "CurrentPositiveCases         False\n",
              "NewPositiveCases             False\n",
              "Recovered                    False\n",
              "Deaths                       False\n",
              "TotalPositiveCases           False\n",
              "TestsPerformed                True\n",
              "dtype: bool"
            ]
          },
          "metadata": {},
          "execution_count": 13
        }
      ]
    },
    {
      "cell_type": "code",
      "metadata": {
        "colab": {
          "base_uri": "https://localhost:8080/",
          "height": 307
        },
        "id": "lB0PQztIdXSZ",
        "outputId": "f0bbdab2-d3b6-4d3f-fdd5-b6e62e1e2448"
      },
      "source": [
        "df.tail()"
      ],
      "execution_count": null,
      "outputs": [
        {
          "output_type": "execute_result",
          "data": {
            "text/html": [
              "<div>\n",
              "<style scoped>\n",
              "    .dataframe tbody tr th:only-of-type {\n",
              "        vertical-align: middle;\n",
              "    }\n",
              "\n",
              "    .dataframe tbody tr th {\n",
              "        vertical-align: top;\n",
              "    }\n",
              "\n",
              "    .dataframe thead th {\n",
              "        text-align: right;\n",
              "    }\n",
              "</style>\n",
              "<table border=\"1\" class=\"dataframe\">\n",
              "  <thead>\n",
              "    <tr style=\"text-align: right;\">\n",
              "      <th></th>\n",
              "      <th>SNo</th>\n",
              "      <th>Date</th>\n",
              "      <th>Country</th>\n",
              "      <th>RegionCode</th>\n",
              "      <th>RegionName</th>\n",
              "      <th>Latitude</th>\n",
              "      <th>Longitude</th>\n",
              "      <th>HospitalizedPatients</th>\n",
              "      <th>IntensiveCarePatients</th>\n",
              "      <th>TotalHospitalizedPatients</th>\n",
              "      <th>HomeConfinement</th>\n",
              "      <th>CurrentPositiveCases</th>\n",
              "      <th>NewPositiveCases</th>\n",
              "      <th>Recovered</th>\n",
              "      <th>Deaths</th>\n",
              "      <th>TotalPositiveCases</th>\n",
              "      <th>TestsPerformed</th>\n",
              "    </tr>\n",
              "  </thead>\n",
              "  <tbody>\n",
              "    <tr>\n",
              "      <th>6022</th>\n",
              "      <td>6022</td>\n",
              "      <td>2020-12-06T17:00:00</td>\n",
              "      <td>ITA</td>\n",
              "      <td>19</td>\n",
              "      <td>Sicilia</td>\n",
              "      <td>38.115697</td>\n",
              "      <td>13.362357</td>\n",
              "      <td>1367</td>\n",
              "      <td>213</td>\n",
              "      <td>1580</td>\n",
              "      <td>38166</td>\n",
              "      <td>39746</td>\n",
              "      <td>1022</td>\n",
              "      <td>29984</td>\n",
              "      <td>1759</td>\n",
              "      <td>71489</td>\n",
              "      <td>692062.0</td>\n",
              "    </tr>\n",
              "    <tr>\n",
              "      <th>6023</th>\n",
              "      <td>6023</td>\n",
              "      <td>2020-12-06T17:00:00</td>\n",
              "      <td>ITA</td>\n",
              "      <td>9</td>\n",
              "      <td>Toscana</td>\n",
              "      <td>43.769231</td>\n",
              "      <td>11.255889</td>\n",
              "      <td>1360</td>\n",
              "      <td>252</td>\n",
              "      <td>1612</td>\n",
              "      <td>27587</td>\n",
              "      <td>29199</td>\n",
              "      <td>753</td>\n",
              "      <td>76331</td>\n",
              "      <td>2867</td>\n",
              "      <td>108397</td>\n",
              "      <td>983103.0</td>\n",
              "    </tr>\n",
              "    <tr>\n",
              "      <th>6024</th>\n",
              "      <td>6024</td>\n",
              "      <td>2020-12-06T17:00:00</td>\n",
              "      <td>ITA</td>\n",
              "      <td>10</td>\n",
              "      <td>Umbria</td>\n",
              "      <td>43.106758</td>\n",
              "      <td>12.388247</td>\n",
              "      <td>332</td>\n",
              "      <td>60</td>\n",
              "      <td>392</td>\n",
              "      <td>5673</td>\n",
              "      <td>6065</td>\n",
              "      <td>234</td>\n",
              "      <td>18619</td>\n",
              "      <td>460</td>\n",
              "      <td>25144</td>\n",
              "      <td>231538.0</td>\n",
              "    </tr>\n",
              "    <tr>\n",
              "      <th>6025</th>\n",
              "      <td>6025</td>\n",
              "      <td>2020-12-06T17:00:00</td>\n",
              "      <td>ITA</td>\n",
              "      <td>2</td>\n",
              "      <td>Valle d'Aosta</td>\n",
              "      <td>45.737503</td>\n",
              "      <td>7.320149</td>\n",
              "      <td>102</td>\n",
              "      <td>8</td>\n",
              "      <td>110</td>\n",
              "      <td>877</td>\n",
              "      <td>987</td>\n",
              "      <td>34</td>\n",
              "      <td>5406</td>\n",
              "      <td>333</td>\n",
              "      <td>6726</td>\n",
              "      <td>34644.0</td>\n",
              "    </tr>\n",
              "    <tr>\n",
              "      <th>6026</th>\n",
              "      <td>6026</td>\n",
              "      <td>2020-12-06T17:00:00</td>\n",
              "      <td>ITA</td>\n",
              "      <td>5</td>\n",
              "      <td>Veneto</td>\n",
              "      <td>45.434905</td>\n",
              "      <td>12.338452</td>\n",
              "      <td>2508</td>\n",
              "      <td>308</td>\n",
              "      <td>2816</td>\n",
              "      <td>73988</td>\n",
              "      <td>76804</td>\n",
              "      <td>3444</td>\n",
              "      <td>84235</td>\n",
              "      <td>4210</td>\n",
              "      <td>165249</td>\n",
              "      <td>1090932.0</td>\n",
              "    </tr>\n",
              "  </tbody>\n",
              "</table>\n",
              "</div>"
            ],
            "text/plain": [
              "       SNo                 Date  ... TotalPositiveCases  TestsPerformed\n",
              "6022  6022  2020-12-06T17:00:00  ...              71489        692062.0\n",
              "6023  6023  2020-12-06T17:00:00  ...             108397        983103.0\n",
              "6024  6024  2020-12-06T17:00:00  ...              25144        231538.0\n",
              "6025  6025  2020-12-06T17:00:00  ...               6726         34644.0\n",
              "6026  6026  2020-12-06T17:00:00  ...             165249       1090932.0\n",
              "\n",
              "[5 rows x 17 columns]"
            ]
          },
          "metadata": {},
          "execution_count": 14
        }
      ]
    },
    {
      "cell_type": "code",
      "metadata": {
        "colab": {
          "base_uri": "https://localhost:8080/",
          "height": 628
        },
        "id": "aajRE8TWflj2",
        "outputId": "b26b1a92-ab7e-4a32-a7b8-2a83e613af18"
      },
      "source": [
        "#To check the trend of new cases per day\n",
        "import seaborn as sns\n",
        "sns.set(rc = {\"figure.figsize\":(15,10)})\n",
        "sns.lineplot(x = \"Date\", y = \"NewPositiveCases\",data = df)\n",
        "plt.legend()\n",
        "plt.show()"
      ],
      "execution_count": null,
      "outputs": [
        {
          "output_type": "stream",
          "name": "stderr",
          "text": [
            "No handles with labels found to put in legend.\n"
          ]
        },
        {
          "output_type": "display_data",
          "data": {
            "image/png": "[encoded data removed]",
            "text/plain": [
              "<Figure size 1080x720 with 1 Axes>"
            ]
          },
          "metadata": {}
        }
      ]
    },
    {
      "cell_type": "code",
      "metadata": {
        "colab": {
          "base_uri": "https://localhost:8080/"
        },
        "id": "e8GvzF3Ngaie",
        "outputId": "9758dee7-2d3a-4938-e12d-2d7bddd5ef47"
      },
      "source": [
        "#Plotting to see how the total cases increase everyday\n",
        "sns.set(rc = {\"figure.figsize\":(15,10)})\n",
        "sns.lineplot(x = \"Date\", y = \"TotalPositiveCases\",data = df)\n",
        "plt.show()"
      ],
      "execution_count": null,
      "outputs": [
        {
          "output_type": "display_data",
          "data": {
            "image/png": "[encoded data removed]",
            "text/plain": [
              "<Figure size 1080x720 with 1 Axes>"
            ]
          },
          "metadata": {}
        }
      ]
    },
    {
      "cell_type": "code",
      "metadata": {
        "colab": {
          "base_uri": "https://localhost:8080/",
          "height": 203
        },
        "id": "U0AEfzcCkfMG",
        "outputId": "f86dd21b-4c76-4f5f-c824-07b935c87ff4"
      },
      "source": [
        "brazil = pd.read_csv(\"brazil_covid19_macro.csv\")\n",
        "brazil.head()"
      ],
      "execution_count": null,
      "outputs": [
        {
          "output_type": "execute_result",
          "data": {
            "text/html": [
              "<div>\n",
              "<style scoped>\n",
              "    .dataframe tbody tr th:only-of-type {\n",
              "        vertical-align: middle;\n",
              "    }\n",
              "\n",
              "    .dataframe tbody tr th {\n",
              "        vertical-align: top;\n",
              "    }\n",
              "\n",
              "    .dataframe thead th {\n",
              "        text-align: right;\n",
              "    }\n",
              "</style>\n",
              "<table border=\"1\" class=\"dataframe\">\n",
              "  <thead>\n",
              "    <tr style=\"text-align: right;\">\n",
              "      <th></th>\n",
              "      <th>date</th>\n",
              "      <th>country</th>\n",
              "      <th>week</th>\n",
              "      <th>cases</th>\n",
              "      <th>deaths</th>\n",
              "      <th>recovered</th>\n",
              "      <th>monitoring</th>\n",
              "    </tr>\n",
              "  </thead>\n",
              "  <tbody>\n",
              "    <tr>\n",
              "      <th>0</th>\n",
              "      <td>2020-02-25</td>\n",
              "      <td>Brasil</td>\n",
              "      <td>9</td>\n",
              "      <td>0.0</td>\n",
              "      <td>0</td>\n",
              "      <td>NaN</td>\n",
              "      <td>NaN</td>\n",
              "    </tr>\n",
              "    <tr>\n",
              "      <th>1</th>\n",
              "      <td>2020-02-26</td>\n",
              "      <td>Brasil</td>\n",
              "      <td>9</td>\n",
              "      <td>1.0</td>\n",
              "      <td>0</td>\n",
              "      <td>NaN</td>\n",
              "      <td>NaN</td>\n",
              "    </tr>\n",
              "    <tr>\n",
              "      <th>2</th>\n",
              "      <td>2020-02-27</td>\n",
              "      <td>Brasil</td>\n",
              "      <td>9</td>\n",
              "      <td>1.0</td>\n",
              "      <td>0</td>\n",
              "      <td>NaN</td>\n",
              "      <td>NaN</td>\n",
              "    </tr>\n",
              "    <tr>\n",
              "      <th>3</th>\n",
              "      <td>2020-02-28</td>\n",
              "      <td>Brasil</td>\n",
              "      <td>9</td>\n",
              "      <td>1.0</td>\n",
              "      <td>0</td>\n",
              "      <td>NaN</td>\n",
              "      <td>NaN</td>\n",
              "    </tr>\n",
              "    <tr>\n",
              "      <th>4</th>\n",
              "      <td>2020-02-29</td>\n",
              "      <td>Brasil</td>\n",
              "      <td>9</td>\n",
              "      <td>2.0</td>\n",
              "      <td>0</td>\n",
              "      <td>NaN</td>\n",
              "      <td>NaN</td>\n",
              "    </tr>\n",
              "  </tbody>\n",
              "</table>\n",
              "</div>"
            ],
            "text/plain": [
              "         date country  week  cases  deaths  recovered  monitoring\n",
              "0  2020-02-25  Brasil     9    0.0       0        NaN         NaN\n",
              "1  2020-02-26  Brasil     9    1.0       0        NaN         NaN\n",
              "2  2020-02-27  Brasil     9    1.0       0        NaN         NaN\n",
              "3  2020-02-28  Brasil     9    1.0       0        NaN         NaN\n",
              "4  2020-02-29  Brasil     9    2.0       0        NaN         NaN"
            ]
          },
          "metadata": {},
          "execution_count": 16
        }
      ]
    },
    {
      "cell_type": "code",
      "metadata": {
        "colab": {
          "base_uri": "https://localhost:8080/"
        },
        "id": "TF9YzQcmniaV",
        "outputId": "f6ac23d7-7484-4d44-e446-fb677b23a840"
      },
      "source": [
        "#Checking for Null Values\n",
        "brazil.isna().any()"
      ],
      "execution_count": null,
      "outputs": [
        {
          "output_type": "execute_result",
          "data": {
            "text/plain": [
              "date          False\n",
              "country       False\n",
              "week          False\n",
              "cases         False\n",
              "deaths        False\n",
              "recovered      True\n",
              "monitoring     True\n",
              "dtype: bool"
            ]
          },
          "metadata": {},
          "execution_count": 12
        }
      ]
    },
    {
      "cell_type": "code",
      "metadata": {
        "colab": {
          "base_uri": "https://localhost:8080/"
        },
        "id": "HUMU0n6jlfTd",
        "outputId": "d3d6ad8b-f970-4271-d195-1d042d95ed4b"
      },
      "source": [
        "#Plotting to see how the total cases increase everyday\n",
        "sns.set(rc = {\"figure.figsize\":(15,10)})\n",
        "sns.lineplot(x = \"date\", y = \"cases\",data = brazil)\n",
        "plt.show()"
      ],
      "execution_count": null,
      "outputs": [
        {
          "output_type": "display_data",
          "data": {
            "image/png": "[encoded data removed]",
            "text/plain": [
              "<Figure size 1080x720 with 1 Axes>"
            ]
          },
          "metadata": {}
        }
      ]
    },
    {
      "cell_type": "code",
      "metadata": {
        "colab": {
          "base_uri": "https://localhost:8080/",
          "height": 391
        },
        "id": "y_HFxrHdmfYB",
        "outputId": "1fb20a71-e1d9-46f4-e3c1-55b921bce434"
      },
      "source": [
        "import datetime as dt\n",
        "df[\"Date\"] = pd.to_datetime(df[\"Date\"])\n",
        "df.head()"
      ],
      "execution_count": null,
      "outputs": [
        {
          "output_type": "execute_result",
          "data": {
            "text/html": [
              "<div>\n",
              "<style scoped>\n",
              "    .dataframe tbody tr th:only-of-type {\n",
              "        vertical-align: middle;\n",
              "    }\n",
              "\n",
              "    .dataframe tbody tr th {\n",
              "        vertical-align: top;\n",
              "    }\n",
              "\n",
              "    .dataframe thead th {\n",
              "        text-align: right;\n",
              "    }\n",
              "</style>\n",
              "<table border=\"1\" class=\"dataframe\">\n",
              "  <thead>\n",
              "    <tr style=\"text-align: right;\">\n",
              "      <th></th>\n",
              "      <th>SNo</th>\n",
              "      <th>Date</th>\n",
              "      <th>Country</th>\n",
              "      <th>RegionCode</th>\n",
              "      <th>RegionName</th>\n",
              "      <th>Latitude</th>\n",
              "      <th>Longitude</th>\n",
              "      <th>HospitalizedPatients</th>\n",
              "      <th>IntensiveCarePatients</th>\n",
              "      <th>TotalHospitalizedPatients</th>\n",
              "      <th>HomeConfinement</th>\n",
              "      <th>CurrentPositiveCases</th>\n",
              "      <th>NewPositiveCases</th>\n",
              "      <th>Recovered</th>\n",
              "      <th>Deaths</th>\n",
              "      <th>TotalPositiveCases</th>\n",
              "      <th>TestsPerformed</th>\n",
              "    </tr>\n",
              "  </thead>\n",
              "  <tbody>\n",
              "    <tr>\n",
              "      <th>0</th>\n",
              "      <td>0</td>\n",
              "      <td>2020-02-24 18:00:00</td>\n",
              "      <td>ITA</td>\n",
              "      <td>13</td>\n",
              "      <td>Abruzzo</td>\n",
              "      <td>42.351222</td>\n",
              "      <td>13.398438</td>\n",
              "      <td>0</td>\n",
              "      <td>0</td>\n",
              "      <td>0</td>\n",
              "      <td>0</td>\n",
              "      <td>0</td>\n",
              "      <td>0</td>\n",
              "      <td>0</td>\n",
              "      <td>0</td>\n",
              "      <td>0</td>\n",
              "      <td>NaN</td>\n",
              "    </tr>\n",
              "    <tr>\n",
              "      <th>1</th>\n",
              "      <td>1</td>\n",
              "      <td>2020-02-24 18:00:00</td>\n",
              "      <td>ITA</td>\n",
              "      <td>17</td>\n",
              "      <td>Basilicata</td>\n",
              "      <td>40.639471</td>\n",
              "      <td>15.805148</td>\n",
              "      <td>0</td>\n",
              "      <td>0</td>\n",
              "      <td>0</td>\n",
              "      <td>0</td>\n",
              "      <td>0</td>\n",
              "      <td>0</td>\n",
              "      <td>0</td>\n",
              "      <td>0</td>\n",
              "      <td>0</td>\n",
              "      <td>NaN</td>\n",
              "    </tr>\n",
              "    <tr>\n",
              "      <th>2</th>\n",
              "      <td>2</td>\n",
              "      <td>2020-02-24 18:00:00</td>\n",
              "      <td>ITA</td>\n",
              "      <td>18</td>\n",
              "      <td>Calabria</td>\n",
              "      <td>38.905976</td>\n",
              "      <td>16.594402</td>\n",
              "      <td>0</td>\n",
              "      <td>0</td>\n",
              "      <td>0</td>\n",
              "      <td>0</td>\n",
              "      <td>0</td>\n",
              "      <td>0</td>\n",
              "      <td>0</td>\n",
              "      <td>0</td>\n",
              "      <td>0</td>\n",
              "      <td>NaN</td>\n",
              "    </tr>\n",
              "    <tr>\n",
              "      <th>3</th>\n",
              "      <td>3</td>\n",
              "      <td>2020-02-24 18:00:00</td>\n",
              "      <td>ITA</td>\n",
              "      <td>15</td>\n",
              "      <td>Campania</td>\n",
              "      <td>40.839566</td>\n",
              "      <td>14.250850</td>\n",
              "      <td>0</td>\n",
              "      <td>0</td>\n",
              "      <td>0</td>\n",
              "      <td>0</td>\n",
              "      <td>0</td>\n",
              "      <td>0</td>\n",
              "      <td>0</td>\n",
              "      <td>0</td>\n",
              "      <td>0</td>\n",
              "      <td>NaN</td>\n",
              "    </tr>\n",
              "    <tr>\n",
              "      <th>4</th>\n",
              "      <td>4</td>\n",
              "      <td>2020-02-24 18:00:00</td>\n",
              "      <td>ITA</td>\n",
              "      <td>8</td>\n",
              "      <td>Emilia-Romagna</td>\n",
              "      <td>44.494367</td>\n",
              "      <td>11.341721</td>\n",
              "      <td>10</td>\n",
              "      <td>2</td>\n",
              "      <td>12</td>\n",
              "      <td>6</td>\n",
              "      <td>18</td>\n",
              "      <td>18</td>\n",
              "      <td>0</td>\n",
              "      <td>0</td>\n",
              "      <td>18</td>\n",
              "      <td>NaN</td>\n",
              "    </tr>\n",
              "  </tbody>\n",
              "</table>\n",
              "</div>"
            ],
            "text/plain": [
              "   SNo                Date Country  ...  Deaths TotalPositiveCases  TestsPerformed\n",
              "0    0 2020-02-24 18:00:00     ITA  ...       0                  0             NaN\n",
              "1    1 2020-02-24 18:00:00     ITA  ...       0                  0             NaN\n",
              "2    2 2020-02-24 18:00:00     ITA  ...       0                  0             NaN\n",
              "3    3 2020-02-24 18:00:00     ITA  ...       0                  0             NaN\n",
              "4    4 2020-02-24 18:00:00     ITA  ...       0                 18             NaN\n",
              "\n",
              "[5 rows x 17 columns]"
            ]
          },
          "metadata": {},
          "execution_count": 17
        }
      ]
    },
    {
      "cell_type": "code",
      "metadata": {
        "colab": {
          "base_uri": "https://localhost:8080/",
          "height": 240
        },
        "id": "OlC0Luckrb1B",
        "outputId": "a0379d6d-7916-46f7-e194-05a4be51f298"
      },
      "source": [
        "df[\"Date\"] = df[\"Date\"].map(dt.datetime.toordinal)\n",
        "df.head()"
      ],
      "execution_count": null,
      "outputs": [
        {
          "output_type": "execute_result",
          "data": {
            "text/html": [
              "<div>\n",
              "<style scoped>\n",
              "    .dataframe tbody tr th:only-of-type {\n",
              "        vertical-align: middle;\n",
              "    }\n",
              "\n",
              "    .dataframe tbody tr th {\n",
              "        vertical-align: top;\n",
              "    }\n",
              "\n",
              "    .dataframe thead th {\n",
              "        text-align: right;\n",
              "    }\n",
              "</style>\n",
              "<table border=\"1\" class=\"dataframe\">\n",
              "  <thead>\n",
              "    <tr style=\"text-align: right;\">\n",
              "      <th></th>\n",
              "      <th>SNo</th>\n",
              "      <th>Date</th>\n",
              "      <th>Country</th>\n",
              "      <th>RegionCode</th>\n",
              "      <th>RegionName</th>\n",
              "      <th>Latitude</th>\n",
              "      <th>Longitude</th>\n",
              "      <th>HospitalizedPatients</th>\n",
              "      <th>IntensiveCarePatients</th>\n",
              "      <th>TotalHospitalizedPatients</th>\n",
              "      <th>HomeConfinement</th>\n",
              "      <th>CurrentPositiveCases</th>\n",
              "      <th>NewPositiveCases</th>\n",
              "      <th>Recovered</th>\n",
              "      <th>Deaths</th>\n",
              "      <th>TotalPositiveCases</th>\n",
              "      <th>TestsPerformed</th>\n",
              "    </tr>\n",
              "  </thead>\n",
              "  <tbody>\n",
              "    <tr>\n",
              "      <th>0</th>\n",
              "      <td>0</td>\n",
              "      <td>737479</td>\n",
              "      <td>ITA</td>\n",
              "      <td>13</td>\n",
              "      <td>Abruzzo</td>\n",
              "      <td>42.351222</td>\n",
              "      <td>13.398438</td>\n",
              "      <td>0</td>\n",
              "      <td>0</td>\n",
              "      <td>0</td>\n",
              "      <td>0</td>\n",
              "      <td>0</td>\n",
              "      <td>0</td>\n",
              "      <td>0</td>\n",
              "      <td>0</td>\n",
              "      <td>0</td>\n",
              "      <td>NaN</td>\n",
              "    </tr>\n",
              "    <tr>\n",
              "      <th>1</th>\n",
              "      <td>1</td>\n",
              "      <td>737479</td>\n",
              "      <td>ITA</td>\n",
              "      <td>17</td>\n",
              "      <td>Basilicata</td>\n",
              "      <td>40.639471</td>\n",
              "      <td>15.805148</td>\n",
              "      <td>0</td>\n",
              "      <td>0</td>\n",
              "      <td>0</td>\n",
              "      <td>0</td>\n",
              "      <td>0</td>\n",
              "      <td>0</td>\n",
              "      <td>0</td>\n",
              "      <td>0</td>\n",
              "      <td>0</td>\n",
              "      <td>NaN</td>\n",
              "    </tr>\n",
              "    <tr>\n",
              "      <th>2</th>\n",
              "      <td>2</td>\n",
              "      <td>737479</td>\n",
              "      <td>ITA</td>\n",
              "      <td>18</td>\n",
              "      <td>Calabria</td>\n",
              "      <td>38.905976</td>\n",
              "      <td>16.594402</td>\n",
              "      <td>0</td>\n",
              "      <td>0</td>\n",
              "      <td>0</td>\n",
              "      <td>0</td>\n",
              "      <td>0</td>\n",
              "      <td>0</td>\n",
              "      <td>0</td>\n",
              "      <td>0</td>\n",
              "      <td>0</td>\n",
              "      <td>NaN</td>\n",
              "    </tr>\n",
              "    <tr>\n",
              "      <th>3</th>\n",
              "      <td>3</td>\n",
              "      <td>737479</td>\n",
              "      <td>ITA</td>\n",
              "      <td>15</td>\n",
              "      <td>Campania</td>\n",
              "      <td>40.839566</td>\n",
              "      <td>14.250850</td>\n",
              "      <td>0</td>\n",
              "      <td>0</td>\n",
              "      <td>0</td>\n",
              "      <td>0</td>\n",
              "      <td>0</td>\n",
              "      <td>0</td>\n",
              "      <td>0</td>\n",
              "      <td>0</td>\n",
              "      <td>0</td>\n",
              "      <td>NaN</td>\n",
              "    </tr>\n",
              "    <tr>\n",
              "      <th>4</th>\n",
              "      <td>4</td>\n",
              "      <td>737479</td>\n",
              "      <td>ITA</td>\n",
              "      <td>8</td>\n",
              "      <td>Emilia-Romagna</td>\n",
              "      <td>44.494367</td>\n",
              "      <td>11.341721</td>\n",
              "      <td>10</td>\n",
              "      <td>2</td>\n",
              "      <td>12</td>\n",
              "      <td>6</td>\n",
              "      <td>18</td>\n",
              "      <td>18</td>\n",
              "      <td>0</td>\n",
              "      <td>0</td>\n",
              "      <td>18</td>\n",
              "      <td>NaN</td>\n",
              "    </tr>\n",
              "  </tbody>\n",
              "</table>\n",
              "</div>"
            ],
            "text/plain": [
              "   SNo    Date Country  ...  Deaths TotalPositiveCases  TestsPerformed\n",
              "0    0  737479     ITA  ...       0                  0             NaN\n",
              "1    1  737479     ITA  ...       0                  0             NaN\n",
              "2    2  737479     ITA  ...       0                  0             NaN\n",
              "3    3  737479     ITA  ...       0                  0             NaN\n",
              "4    4  737479     ITA  ...       0                 18             NaN\n",
              "\n",
              "[5 rows x 17 columns]"
            ]
          },
          "metadata": {},
          "execution_count": 18
        }
      ]
    },
    {
      "cell_type": "code",
      "metadata": {
        "colab": {
          "base_uri": "https://localhost:8080/",
          "height": 203
        },
        "id": "Xfm2g2PNqKQV",
        "outputId": "600a3172-5682-41b4-a366-7030c675f889"
      },
      "source": [
        "brazil[\"date\"] = pd.to_datetime(brazil[\"date\"])\n",
        "brazil[\"date\"] = brazil[\"date\"].map(dt.datetime.toordinal)\n",
        "brazil.head()"
      ],
      "execution_count": null,
      "outputs": [
        {
          "output_type": "execute_result",
          "data": {
            "text/html": [
              "<div>\n",
              "<style scoped>\n",
              "    .dataframe tbody tr th:only-of-type {\n",
              "        vertical-align: middle;\n",
              "    }\n",
              "\n",
              "    .dataframe tbody tr th {\n",
              "        vertical-align: top;\n",
              "    }\n",
              "\n",
              "    .dataframe thead th {\n",
              "        text-align: right;\n",
              "    }\n",
              "</style>\n",
              "<table border=\"1\" class=\"dataframe\">\n",
              "  <thead>\n",
              "    <tr style=\"text-align: right;\">\n",
              "      <th></th>\n",
              "      <th>date</th>\n",
              "      <th>country</th>\n",
              "      <th>week</th>\n",
              "      <th>cases</th>\n",
              "      <th>deaths</th>\n",
              "      <th>recovered</th>\n",
              "      <th>monitoring</th>\n",
              "    </tr>\n",
              "  </thead>\n",
              "  <tbody>\n",
              "    <tr>\n",
              "      <th>0</th>\n",
              "      <td>737480</td>\n",
              "      <td>Brasil</td>\n",
              "      <td>9</td>\n",
              "      <td>0.0</td>\n",
              "      <td>0</td>\n",
              "      <td>NaN</td>\n",
              "      <td>NaN</td>\n",
              "    </tr>\n",
              "    <tr>\n",
              "      <th>1</th>\n",
              "      <td>737481</td>\n",
              "      <td>Brasil</td>\n",
              "      <td>9</td>\n",
              "      <td>1.0</td>\n",
              "      <td>0</td>\n",
              "      <td>NaN</td>\n",
              "      <td>NaN</td>\n",
              "    </tr>\n",
              "    <tr>\n",
              "      <th>2</th>\n",
              "      <td>737482</td>\n",
              "      <td>Brasil</td>\n",
              "      <td>9</td>\n",
              "      <td>1.0</td>\n",
              "      <td>0</td>\n",
              "      <td>NaN</td>\n",
              "      <td>NaN</td>\n",
              "    </tr>\n",
              "    <tr>\n",
              "      <th>3</th>\n",
              "      <td>737483</td>\n",
              "      <td>Brasil</td>\n",
              "      <td>9</td>\n",
              "      <td>1.0</td>\n",
              "      <td>0</td>\n",
              "      <td>NaN</td>\n",
              "      <td>NaN</td>\n",
              "    </tr>\n",
              "    <tr>\n",
              "      <th>4</th>\n",
              "      <td>737484</td>\n",
              "      <td>Brasil</td>\n",
              "      <td>9</td>\n",
              "      <td>2.0</td>\n",
              "      <td>0</td>\n",
              "      <td>NaN</td>\n",
              "      <td>NaN</td>\n",
              "    </tr>\n",
              "  </tbody>\n",
              "</table>\n",
              "</div>"
            ],
            "text/plain": [
              "     date country  week  cases  deaths  recovered  monitoring\n",
              "0  737480  Brasil     9    0.0       0        NaN         NaN\n",
              "1  737481  Brasil     9    1.0       0        NaN         NaN\n",
              "2  737482  Brasil     9    1.0       0        NaN         NaN\n",
              "3  737483  Brasil     9    1.0       0        NaN         NaN\n",
              "4  737484  Brasil     9    2.0       0        NaN         NaN"
            ]
          },
          "metadata": {},
          "execution_count": 19
        }
      ]
    },
    {
      "cell_type": "code",
      "metadata": {
        "colab": {
          "base_uri": "https://localhost:8080/"
        },
        "id": "L6vkY6WgrK_L",
        "outputId": "f7566e3d-f0ec-440c-bf52-030bc7e40f6b"
      },
      "source": [
        "brazil.tail()"
      ],
      "execution_count": null,
      "outputs": [
        {
          "output_type": "execute_result",
          "data": {
            "text/html": [
              "<div>\n",
              "<style scoped>\n",
              "    .dataframe tbody tr th:only-of-type {\n",
              "        vertical-align: middle;\n",
              "    }\n",
              "\n",
              "    .dataframe tbody tr th {\n",
              "        vertical-align: top;\n",
              "    }\n",
              "\n",
              "    .dataframe thead th {\n",
              "        text-align: right;\n",
              "    }\n",
              "</style>\n",
              "<table border=\"1\" class=\"dataframe\">\n",
              "  <thead>\n",
              "    <tr style=\"text-align: right;\">\n",
              "      <th></th>\n",
              "      <th>date</th>\n",
              "      <th>country</th>\n",
              "      <th>week</th>\n",
              "      <th>cases</th>\n",
              "      <th>deaths</th>\n",
              "      <th>recovered</th>\n",
              "      <th>monitoring</th>\n",
              "    </tr>\n",
              "  </thead>\n",
              "  <tbody>\n",
              "    <tr>\n",
              "      <th>451</th>\n",
              "      <td>737929</td>\n",
              "      <td>Brasil</td>\n",
              "      <td>20</td>\n",
              "      <td>15812055.0</td>\n",
              "      <td>441691</td>\n",
              "      <td>14330118.0</td>\n",
              "      <td>1040246.0</td>\n",
              "    </tr>\n",
              "    <tr>\n",
              "      <th>452</th>\n",
              "      <td>737930</td>\n",
              "      <td>Brasil</td>\n",
              "      <td>20</td>\n",
              "      <td>15894094.0</td>\n",
              "      <td>444094</td>\n",
              "      <td>14385962.0</td>\n",
              "      <td>1064038.0</td>\n",
              "    </tr>\n",
              "    <tr>\n",
              "      <th>453</th>\n",
              "      <td>737931</td>\n",
              "      <td>Brasil</td>\n",
              "      <td>20</td>\n",
              "      <td>15970949.0</td>\n",
              "      <td>446309</td>\n",
              "      <td>14422209.0</td>\n",
              "      <td>1102431.0</td>\n",
              "    </tr>\n",
              "    <tr>\n",
              "      <th>454</th>\n",
              "      <td>737932</td>\n",
              "      <td>Brasil</td>\n",
              "      <td>20</td>\n",
              "      <td>16047439.0</td>\n",
              "      <td>448208</td>\n",
              "      <td>14462432.0</td>\n",
              "      <td>1136799.0</td>\n",
              "    </tr>\n",
              "    <tr>\n",
              "      <th>455</th>\n",
              "      <td>737933</td>\n",
              "      <td>Brasil</td>\n",
              "      <td>21</td>\n",
              "      <td>16083258.0</td>\n",
              "      <td>449068</td>\n",
              "      <td>14492167.0</td>\n",
              "      <td>1142023.0</td>\n",
              "    </tr>\n",
              "  </tbody>\n",
              "</table>\n",
              "</div>"
            ],
            "text/plain": [
              "       date country  week       cases  deaths   recovered  monitoring\n",
              "451  737929  Brasil    20  15812055.0  441691  14330118.0   1040246.0\n",
              "452  737930  Brasil    20  15894094.0  444094  14385962.0   1064038.0\n",
              "453  737931  Brasil    20  15970949.0  446309  14422209.0   1102431.0\n",
              "454  737932  Brasil    20  16047439.0  448208  14462432.0   1136799.0\n",
              "455  737933  Brasil    21  16083258.0  449068  14492167.0   1142023.0"
            ]
          },
          "metadata": {},
          "execution_count": 17
        }
      ]
    },
    {
      "cell_type": "markdown",
      "metadata": {
        "id": "AlA4O34kldyY"
      },
      "source": [
        "## Polynomial Regression "
      ]
    },
    {
      "cell_type": "code",
      "metadata": {
        "id": "uf-YwVZMTVlC"
      },
      "source": [
        "Italy  = {}\n",
        "for ind, i in enumerate(df[\"Date\"].values):\n",
        "    if i in Italy.keys():\n",
        "        Italy[i] += df[\"TotalPositiveCases\"].values[ind]\n",
        "    else:\n",
        "        Italy[i] = df[\"TotalPositiveCases\"].values[ind]"
      ],
      "execution_count": null,
      "outputs": []
    },
    {
      "cell_type": "code",
      "metadata": {
        "id": "WEGgOMqCrzT8"
      },
      "source": [
        "#Define predictor and variable to be predicted\n",
        "x = np.fromiter(Italy.keys(), dtype=int)\n",
        "y = np.fromiter(Italy.values(), dtype=int)"
      ],
      "execution_count": null,
      "outputs": []
    },
    {
      "cell_type": "code",
      "metadata": {
        "colab": {
          "base_uri": "https://localhost:8080/",
          "height": 605
        },
        "id": "1EKOrSVPYd7w",
        "outputId": "168015fb-779a-4d5c-ef86-58ed8b419984"
      },
      "source": [
        "sns.set(rc = {\"figure.figsize\":(15,10)})\n",
        "sns.lineplot(x = x, y = y)\n",
        "plt.show()"
      ],
      "execution_count": null,
      "outputs": [
        {
          "output_type": "display_data",
          "data": {
            "image/png": "[encoded data removed]",
            "text/plain": [
              "<Figure size 1080x720 with 1 Axes>"
            ]
          },
          "metadata": {}
        }
      ]
    },
    {
      "cell_type": "code",
      "metadata": {
        "id": "3Stb7fXhsO2x"
      },
      "source": [
        "x_train,x_val,y_train,y_val = train_test_split(x,y,train_size = 0.8)"
      ],
      "execution_count": null,
      "outputs": []
    },
    {
      "cell_type": "code",
      "metadata": {
        "id": "EIBG7hyZmq7M"
      },
      "source": [
        "X_poly_train = PolynomialFeatures(3).fit_transform(x_train.reshape(-1,1))\n",
        "X_poly_val = PolynomialFeatures(3).fit_transform(x_val.reshape(-1,1))\n"
      ],
      "execution_count": null,
      "outputs": []
    },
    {
      "cell_type": "code",
      "metadata": {
        "colab": {
          "base_uri": "https://localhost:8080/"
        },
        "id": "96VIE1Iepnd0",
        "outputId": "046897f5-bf01-4821-bf38-830046a6c6aa"
      },
      "source": [
        "len(X_poly_train)"
      ],
      "execution_count": null,
      "outputs": [
        {
          "output_type": "execute_result",
          "data": {
            "text/plain": [
              "229"
            ]
          },
          "metadata": {},
          "execution_count": 21
        }
      ]
    },
    {
      "cell_type": "code",
      "metadata": {
        "id": "pIpH_mftpczg"
      },
      "source": [
        "linreg = LinearRegression()\n",
        "linreg.fit(X_poly_train, y_train)\n",
        "y_val_pred = linreg.predict(X_poly_val)\n",
        "mse_final = mean_squared_error(y_val, y_val_pred)"
      ],
      "execution_count": null,
      "outputs": []
    },
    {
      "cell_type": "code",
      "metadata": {
        "colab": {
          "base_uri": "https://localhost:8080/"
        },
        "id": "Hy8e_lPSpt5Z",
        "outputId": "ac584150-db20-409a-ec76-393f3a95ca9f"
      },
      "source": [
        "print(mse_final)"
      ],
      "execution_count": null,
      "outputs": [
        {
          "output_type": "stream",
          "name": "stdout",
          "text": [
            "38401649583.96728\n"
          ]
        }
      ]
    },
    {
      "cell_type": "code",
      "metadata": {
        "id": "ny_QMgTIZE78"
      },
      "source": [
        "X_t = x_val.reshape(-1,1)"
      ],
      "execution_count": null,
      "outputs": []
    },
    {
      "cell_type": "code",
      "metadata": {
        "id": "9VDfavacZKqO"
      },
      "source": [
        "idx = np.argsort(X_t[:,0])\n",
        "x_t = X_t[idx]\n",
        "y_v = y_val_pred[idx]"
      ],
      "execution_count": null,
      "outputs": []
    },
    {
      "cell_type": "code",
      "metadata": {
        "colab": {
          "base_uri": "https://localhost:8080/",
          "height": 627
        },
        "id": "FL7S0wcdZOBm",
        "outputId": "6e2a12a4-cb1e-42c7-ff24-9530f0afde88"
      },
      "source": [
        "plt.close()\n",
        "plt.scatter(x, y)\n",
        "plt.plot(x_t,y_v, color = \"red\",label=\"Polynomial fit\", alpha=0.6)\n",
        "plt.xlabel(\"Spreading Factor\")\n",
        "plt.ylabel(\"Perc_population\")\n",
        "plt.title(\"Scatter plot showing relationship between Spreading factor and perc_population\")\n",
        "plt.legend()\n",
        "plt.show()"
      ],
      "execution_count": null,
      "outputs": [
        {
          "output_type": "display_data",
          "data": {
            "image/png": "[encoded data removed]",
            "text/plain": [
              "<Figure size 1080x720 with 1 Axes>"
            ]
          },
          "metadata": {}
        }
      ]
    },
    {
      "cell_type": "code",
      "metadata": {
        "id": "pb_c60l8qeJz"
      },
      "source": [
        "# your code here\n",
        "maxdeg = 30\n",
        "alpha = [0.001,0.01,0.1,1,10,100,1000]"
      ],
      "execution_count": null,
      "outputs": []
    },
    {
      "cell_type": "code",
      "metadata": {
        "id": "FHfPOV5RqC0k"
      },
      "source": [
        "training_mse, validation_mse = [],[]\n",
        "cve_mean = {}\n",
        "for a in alpha:\n",
        "    X_poly = PolynomialFeatures(maxdeg).fit_transform(x.reshape(-1,1))\n",
        "    X_poly_train =  PolynomialFeatures(maxdeg).fit_transform(x_train.reshape(-1,1))\n",
        "    X_poly_val= PolynomialFeatures(maxdeg).fit_transform(x_val.reshape(-1,1))\n",
        "    lasso_reg = Lasso(alpha=a,fit_intercept=True)\n",
        "    lasso_reg.fit(X_poly_train, y_train)\n",
        "    y_train_pred = lasso_reg.predict(X_poly_train)\n",
        "    y_val_pred = lasso_reg.predict(X_poly_val)\n",
        "    training_mse.append(mean_squared_error(y_train_pred, y_train))\n",
        "    validation_mse.append(mean_squared_error(y_val, y_val_pred))\n",
        "    mse_score = cross_validate(estimator = lasso_reg,X = X_poly,y = y, scoring = \"neg_mean_squared_error\", cv = 10)\n",
        "    cve_mean[abs(mse_score[\"test_score\"].mean())] = a\n",
        "    \n",
        "best_alpha = cve_mean[min(cve_mean.keys())]"
      ],
      "execution_count": null,
      "outputs": []
    },
    {
      "cell_type": "code",
      "metadata": {
        "colab": {
          "base_uri": "https://localhost:8080/"
        },
        "id": "JvFhUweTJvt0",
        "outputId": "ab01395b-86b8-4d4c-a6c1-f3f753bb718e"
      },
      "source": [
        "best_alpha"
      ],
      "execution_count": null,
      "outputs": [
        {
          "output_type": "execute_result",
          "data": {
            "text/plain": [
              "1000"
            ]
          },
          "metadata": {},
          "execution_count": 29
        }
      ]
    },
    {
      "cell_type": "code",
      "metadata": {
        "colab": {
          "base_uri": "https://localhost:8080/"
        },
        "id": "iQEBzeSsm471",
        "outputId": "cc05d212-a6b0-4431-93b6-76bc86490bd5"
      },
      "source": [
        "cve_mean"
      ],
      "execution_count": null,
      "outputs": [
        {
          "output_type": "execute_result",
          "data": {
            "text/plain": [
              "{120371085815.48471: 1000,\n",
              " 120371503104.304: 100,\n",
              " 120371544833.19693: 10,\n",
              " 120371549006.19572: 1,\n",
              " 120371549423.46329: 0.1,\n",
              " 120371549465.16129: 0.01,\n",
              " 120371549469.31865: 0.001}"
            ]
          },
          "metadata": {},
          "execution_count": 30
        }
      ]
    },
    {
      "cell_type": "code",
      "metadata": {
        "id": "FGrBbGrzqusI"
      },
      "source": [
        "# your code here\n",
        "degree=30\n",
        "significant_degrees = {}\n",
        "for i in range(degree):\n",
        "    X_poly_train =  PolynomialFeatures(degree).fit_transform(x_train.reshape(-1,1))\n",
        "    X_poly_val= PolynomialFeatures(degree).fit_transform(x_val.reshape(-1,1))\n",
        "    lasso_reg = Lasso(alpha=0.01,fit_intercept=False)\n",
        "    lasso_reg.fit(X_poly_train, y_train) \n",
        "    y_train_pred = lasso_reg.predict(X_poly_train) \n",
        "    y_val_pred = lasso_reg.predict(X_poly_val)\n",
        "    for  i,beta in enumerate(lasso_reg.coef_):\n",
        "        if abs(beta) > 0.1:\n",
        "            if i in significant_degrees.keys():\n",
        "                significant_degrees[i] = significant_degrees[i] + 1\n",
        "            else:\n",
        "                significant_degrees[i] = 1"
      ],
      "execution_count": null,
      "outputs": []
    },
    {
      "cell_type": "code",
      "metadata": {
        "colab": {
          "base_uri": "https://localhost:8080/"
        },
        "id": "EfCkK3dFrBxh",
        "outputId": "1fcdc20f-e3e6-4c86-bc6c-8f6fa34a537d"
      },
      "source": [
        "significant_degrees"
      ],
      "execution_count": null,
      "outputs": [
        {
          "output_type": "execute_result",
          "data": {
            "text/plain": [
              "{0: 30}"
            ]
          },
          "metadata": {},
          "execution_count": 32
        }
      ]
    },
    {
      "cell_type": "code",
      "metadata": {
        "colab": {
          "base_uri": "https://localhost:8080/",
          "height": 628
        },
        "id": "6YotCQLrnSai",
        "outputId": "fe231abf-1125-4ecc-9e81-62ac29a1a902"
      },
      "source": [
        "plt.bar(significant_degrees.keys(), significant_degrees.values(), width = 0.1, color = \"blue\")\n",
        "plt.xlabel(\"Degrees\")\n",
        "plt.ylabel(\"Frequencies\")"
      ],
      "execution_count": null,
      "outputs": [
        {
          "output_type": "execute_result",
          "data": {
            "text/plain": [
              "Text(0, 0.5, 'Frequencies')"
            ]
          },
          "metadata": {},
          "execution_count": 33
        },
        {
          "output_type": "display_data",
          "data": {
            "image/png": "[encoded data removed]",
            "text/plain": [
              "<Figure size 1080x720 with 1 Axes>"
            ]
          },
          "metadata": {}
        }
      ]
    },
    {
      "cell_type": "code",
      "metadata": {
        "colab": {
          "base_uri": "https://localhost:8080/"
        },
        "id": "9ceSpUuJntGs",
        "outputId": "5e9833d5-c9a7-4909-beac-ac6c087cdf74"
      },
      "source": [
        "print(\"The plot will be linear\")"
      ],
      "execution_count": null,
      "outputs": [
        {
          "output_type": "stream",
          "name": "stdout",
          "text": [
            "The plot will be linear\n"
          ]
        }
      ]
    },
    {
      "cell_type": "code",
      "metadata": {
        "colab": {
          "base_uri": "https://localhost:8080/"
        },
        "id": "PDZXiZVFrWLI",
        "outputId": "ef943c60-cfe0-4df3-ae43-156508017ce7"
      },
      "source": [
        "X_poly_train =  PolynomialFeatures(0).fit_transform(x_train.reshape(-1,1))\n",
        "X_poly_val= PolynomialFeatures(0).fit_transform(x_val.reshape(-1,1))\n",
        "lasso_reg = Lasso(alpha=0.01,fit_intercept=False)\n",
        "lasso_reg.fit(X_poly_train, y_train)\n",
        "y_train_pred = lasso_reg.predict(X_poly_train)\n",
        "y_val_pred = lasso_reg.predict(X_poly_val)\n",
        "mse = mean_squared_error(y_val, y_val_pred)\n",
        "print(mse)"
      ],
      "execution_count": null,
      "outputs": [
        {
          "output_type": "stream",
          "name": "stdout",
          "text": [
            "134245960643.33313\n"
          ]
        }
      ]
    },
    {
      "cell_type": "code",
      "metadata": {
        "id": "hbGMRvbgsmqn"
      },
      "source": [
        "X_t = x_val.reshape(-1,1)"
      ],
      "execution_count": null,
      "outputs": []
    },
    {
      "cell_type": "code",
      "metadata": {
        "id": "1rXI4EXrrrLX"
      },
      "source": [
        "idx = np.argsort(X_t[:,0])\n",
        "x_t = X_t[idx]\n",
        "y_v = y_val_pred[idx]"
      ],
      "execution_count": null,
      "outputs": []
    },
    {
      "cell_type": "code",
      "metadata": {
        "colab": {
          "base_uri": "https://localhost:8080/",
          "height": 627
        },
        "id": "Oy4cw_sMsX08",
        "outputId": "cfd327d4-165d-43f3-c531-0b47a5719031"
      },
      "source": [
        "plt.close()\n",
        "plt.scatter(x, y)\n",
        "plt.plot(x_t,y_v, color = \"red\",label=\"Polynomial fit\", alpha=0.6)\n",
        "plt.xlabel(\"Spreading Factor\")\n",
        "plt.ylabel(\"Perc_population\")\n",
        "plt.title(\"Scatter plot showing relationship between Spreading factor and perc_population\")\n",
        "plt.legend()\n",
        "plt.show()"
      ],
      "execution_count": null,
      "outputs": [
        {
          "output_type": "display_data",
          "data": {
            "image/png": "[encoded data removed]",
            "text/plain": [
              "<Figure size 1080x720 with 1 Axes>"
            ]
          },
          "metadata": {}
        }
      ]
    },
    {
      "cell_type": "code",
      "metadata": {
        "id": "K4mtxqepsbof"
      },
      "source": [
        ""
      ],
      "execution_count": null,
      "outputs": []
    },
    {
      "cell_type": "markdown",
      "metadata": {
        "id": "wYXLEfn593vy"
      },
      "source": [
        "## Time Series Pipeline"
      ]
    },
    {
      "cell_type": "code",
      "metadata": {
        "id": "l6xP5kBfVEI1"
      },
      "source": [
        "df = pd.read_csv(\"covid19_italy_region.csv\")\n",
        "df.head()"
      ],
      "execution_count": null,
      "outputs": []
    },
    {
      "cell_type": "code",
      "metadata": {
        "id": "w7qnvCirVKgq"
      },
      "source": [
        "brazil = pd.read_csv(\"brazil_covid19_macro.csv\")\n",
        "brazil.head()"
      ],
      "execution_count": null,
      "outputs": []
    },
    {
      "cell_type": "code",
      "metadata": {
        "id": "fTRnANI-VLJG"
      },
      "source": [
        "import datetime as dt\n",
        "df[\"Date\"] = pd.to_datetime(df[\"Date\"])\n",
        "df[\"Date\"] = df[\"Date\"].map(dt.datetime.toordinal)\n",
        "df.head()"
      ],
      "execution_count": null,
      "outputs": []
    },
    {
      "cell_type": "code",
      "metadata": {
        "id": "Elu5-6v4VTRR"
      },
      "source": [
        "brazil[\"date\"] = pd.to_datetime(brazil[\"date\"])\n",
        "brazil[\"date\"] = brazil[\"date\"].map(dt.datetime.toordinal)\n",
        "brazil.head()"
      ],
      "execution_count": null,
      "outputs": []
    },
    {
      "cell_type": "code",
      "metadata": {
        "id": "zDfgNH7zW1n3"
      },
      "source": [
        "class ToSupervised(base.BaseEstimator,base.TransformerMixin):\n",
        "    \n",
        "    def __init__(self,col,groupCol,numLags,dropna=False):\n",
        "        \n",
        "        self.col = col\n",
        "        self.groupCol = groupCol\n",
        "        self.numLags = numLags\n",
        "        self.dropna = dropna\n",
        "        \n",
        "    def fit(self,X,y=None):\n",
        "        self.X = X\n",
        "        return self\n",
        "    \n",
        "    def transform(self,X):\n",
        "        tmp = self.X.copy()\n",
        "        for i in range(1,self.numLags+1):\n",
        "            tmp[str(i)+'_Week_Ago'+\"_\"+self.col] = tmp.groupby([self.groupCol])[self.col].shift(i) \n",
        "            \n",
        "        if self.dropna:\n",
        "            tmp = tmp.dropna()\n",
        "            tmp = tmp.reset_index(drop=True)\n",
        "            \n",
        "        \n",
        "            \n",
        "        return tmp"
      ],
      "execution_count": null,
      "outputs": []
    },
    {
      "cell_type": "code",
      "metadata": {
        "id": "kyaC9qSkVp9d"
      },
      "source": [
        "class ToSupervisedDiff(base.BaseEstimator,base.TransformerMixin):\n",
        "    \n",
        "    def __init__(self,col,groupCol,numLags,dropna=False):\n",
        "        \n",
        "        self.col = col\n",
        "        self.groupCol = groupCol\n",
        "        self.numLags = numLags\n",
        "        self.dropna = dropna\n",
        "        \n",
        "    def fit(self,X,y=None):\n",
        "        self.X = X\n",
        "        return self\n",
        "    \n",
        "    def transform(self,X):\n",
        "        tmp = self.X.copy()\n",
        "        for i in range(1,self.numLags+1):\n",
        "            tmp[str(i)+'_Week_Ago_Diff_'+\"_\"+self.col] = tmp.groupby([self.groupCol])[self.col].diff(i) \n",
        "            \n",
        "        if self.dropna:\n",
        "            tmp = tmp.dropna()\n",
        "            tmp = tmp.reset_index(drop=True)\n",
        "            \n",
        "        return tmp"
      ],
      "execution_count": null,
      "outputs": []
    },
    {
      "cell_type": "code",
      "metadata": {
        "id": "np4zxxN0Vt8q"
      },
      "source": [
        "from itertools import chain\n",
        "class Kfold_time(object):\n",
        "    \n",
        "    def __init__(self,**options):\n",
        "        \n",
        "        \n",
        "        self.target     = options.pop('target', None)\n",
        "        self.date_col   = options.pop('date_col', None)\n",
        "        self.date_init  = options.pop('date_init', None)\n",
        "        self.date_final = options.pop('date_final', None)\n",
        "\n",
        "        if options:\n",
        "            raise TypeError(\"Invalid parameters passed: %s\" % str(options))\n",
        "            \n",
        "        if ((self.target==None )| (self.date_col==None )| (self.date_init==None ) | (self.date_final==None )):\n",
        "            raise TypeError(\"Incomplete inputs\")\n",
        "    \n",
        "    def _train_test_split_time(self,X):\n",
        "        n_arrays = len(X)\n",
        "        if n_arrays == 0:\n",
        "            raise ValueError(\"At least one array required as input\")\n",
        "\n",
        "        for i in range(self.date_init,self.date_final):\n",
        "\n",
        "            train = X[X[self.date_col] < i]\n",
        "            val   = X[X[self.date_col] == i]\n",
        "\n",
        "            X_train, X_test = train.drop([self.target], axis=1), val.drop([self.target], axis=1)\n",
        "            y_train, y_test = train[self.target].values, val[self.target].values\n",
        "\n",
        "            yield X_train, X_test, y_train, y_test\n",
        "\n",
        "    \n",
        "    def split(self,X):\n",
        "        cv_t = self._train_test_split_time(X)\n",
        "        return chain(cv_t)"
      ],
      "execution_count": null,
      "outputs": []
    },
    {
      "cell_type": "code",
      "metadata": {
        "id": "Xc9qrAfoWMIc"
      },
      "source": [
        "class TimeSeriesRegressor(base.BaseEstimator, base.RegressorMixin):\n",
        "    \n",
        "    def __init__(self,model,cv,scoring,verbosity=True):\n",
        "        self.model = model\n",
        "        self.cv = cv\n",
        "        self.verbosity = verbosity\n",
        "        self.scoring = scoring \n",
        "        \n",
        "            \n",
        "    def fit(self,X,y=None):\n",
        "        return self\n",
        "        \n",
        "    \n",
        "    def predict(self,X=None):\n",
        "        \n",
        "        pred = {}\n",
        "        for indx,fold in enumerate(self.cv.split(X)):\n",
        "\n",
        "            X_train, X_test, y_train, y_test = fold    \n",
        "            self.model.fit(X_train, y_train)\n",
        "            pred[str(indx)+'_fold'] = self.model.predict(X_test)\n",
        "            \n",
        "        prediction = pd.DataFrame(pred)\n",
        "    \n",
        "        return prediction\n",
        "    \n",
        "\n",
        "    def score(self,X,y=None):\n",
        "\n",
        "\n",
        "        errors = []\n",
        "        for indx,fold in enumerate(self.cv.split(X)):\n",
        "\n",
        "            X_train, X_test, y_train, y_test = fold    \n",
        "            self.model.fit(X_train, y_train)\n",
        "            prediction = self.model.predict(X_test)\n",
        "            error = self.scoring(y_test, prediction)\n",
        "            errors.append(error)\n",
        "\n",
        "            if self.verbosity:\n",
        "                print(\"Fold: {}, Error: {:.4f}\".format(indx,error))\n",
        "\n",
        "        if self.verbosity:\n",
        "            print('Total Error {:.4f}'.format(np.mean(errors)))\n",
        "\n",
        "        return errors"
      ],
      "execution_count": null,
      "outputs": []
    },
    {
      "cell_type": "code",
      "metadata": {
        "id": "cp7N-HiFl6BN"
      },
      "source": [
        "def getDataFramePipeline(i):\n",
        "    steps = [(str(i)+'_step',ToSupervised('TotalPositiveCases','RegionCode',i))]\n",
        "    for j in range(1,i+1):\n",
        "        if i==j:\n",
        "\n",
        "            pp = (str(j)+'_step_diff',\n",
        "                  ToSupervisedDiff(str(i)+'_Week_Ago_TotalPositiveCases','RegionCode',1,dropna=True))\n",
        "            steps.append(pp)\n",
        "        else:\n",
        "\n",
        "            pp = (str(j)+'_step_diff',\n",
        "                  ToSupervisedDiff(str(i)+'_Week_Ago_TotalPositiveCases','RegionCode',1))\n",
        "            steps.append(pp)\n",
        "            \n",
        "    return steps"
      ],
      "execution_count": null,
      "outputs": []
    },
    {
      "cell_type": "code",
      "metadata": {
        "id": "zAcirbRqmuAx"
      },
      "source": [
        "df = df.drop(['Country', 'RegionName'], axis=1)"
      ],
      "execution_count": null,
      "outputs": []
    },
    {
      "cell_type": "code",
      "metadata": {
        "id": "PfF2N546Z0cX"
      },
      "source": [
        "steps = [('1_step',ToSupervised('TotalPositiveCases', 'RegionCode',1)),\n",
        "         ('1_step_diff',ToSupervisedDiff('1_Week_Ago_TotalPositiveCases', 'RegionCode',1,dropna=True))]\n",
        "super_1 = Pipeline(steps).fit_transform(df)"
      ],
      "execution_count": null,
      "outputs": []
    },
    {
      "cell_type": "code",
      "metadata": {
        "colab": {
          "base_uri": "https://localhost:8080/",
          "height": 223
        },
        "id": "LjZcYLmKc8Ar",
        "outputId": "ac1690df-db5e-4dde-fa8e-1736ea40bc7b"
      },
      "source": [
        "super_1.head()"
      ],
      "execution_count": null,
      "outputs": [
        {
          "output_type": "execute_result",
          "data": {
            "text/html": [
              "<div>\n",
              "<style scoped>\n",
              "    .dataframe tbody tr th:only-of-type {\n",
              "        vertical-align: middle;\n",
              "    }\n",
              "\n",
              "    .dataframe tbody tr th {\n",
              "        vertical-align: top;\n",
              "    }\n",
              "\n",
              "    .dataframe thead th {\n",
              "        text-align: right;\n",
              "    }\n",
              "</style>\n",
              "<table border=\"1\" class=\"dataframe\">\n",
              "  <thead>\n",
              "    <tr style=\"text-align: right;\">\n",
              "      <th></th>\n",
              "      <th>SNo</th>\n",
              "      <th>Date</th>\n",
              "      <th>RegionCode</th>\n",
              "      <th>Latitude</th>\n",
              "      <th>Longitude</th>\n",
              "      <th>HospitalizedPatients</th>\n",
              "      <th>IntensiveCarePatients</th>\n",
              "      <th>TotalHospitalizedPatients</th>\n",
              "      <th>HomeConfinement</th>\n",
              "      <th>CurrentPositiveCases</th>\n",
              "      <th>NewPositiveCases</th>\n",
              "      <th>Recovered</th>\n",
              "      <th>Deaths</th>\n",
              "      <th>TotalPositiveCases</th>\n",
              "      <th>TestsPerformed</th>\n",
              "      <th>1_Week_Ago_TotalPositiveCases</th>\n",
              "      <th>1_Week_Ago_Diff__1_Week_Ago_TotalPositiveCases</th>\n",
              "    </tr>\n",
              "  </thead>\n",
              "  <tbody>\n",
              "    <tr>\n",
              "      <th>0</th>\n",
              "      <td>1155</td>\n",
              "      <td>737534</td>\n",
              "      <td>13</td>\n",
              "      <td>42.351222</td>\n",
              "      <td>13.398438</td>\n",
              "      <td>317</td>\n",
              "      <td>40</td>\n",
              "      <td>357</td>\n",
              "      <td>1630</td>\n",
              "      <td>1987</td>\n",
              "      <td>34</td>\n",
              "      <td>276</td>\n",
              "      <td>258</td>\n",
              "      <td>2521</td>\n",
              "      <td>22424.0</td>\n",
              "      <td>2487.0</td>\n",
              "      <td>44.0</td>\n",
              "    </tr>\n",
              "    <tr>\n",
              "      <th>1</th>\n",
              "      <td>1156</td>\n",
              "      <td>737534</td>\n",
              "      <td>17</td>\n",
              "      <td>40.639471</td>\n",
              "      <td>15.805148</td>\n",
              "      <td>59</td>\n",
              "      <td>8</td>\n",
              "      <td>67</td>\n",
              "      <td>180</td>\n",
              "      <td>247</td>\n",
              "      <td>3</td>\n",
              "      <td>71</td>\n",
              "      <td>24</td>\n",
              "      <td>342</td>\n",
              "      <td>6528.0</td>\n",
              "      <td>339.0</td>\n",
              "      <td>2.0</td>\n",
              "    </tr>\n",
              "    <tr>\n",
              "      <th>2</th>\n",
              "      <td>1157</td>\n",
              "      <td>737534</td>\n",
              "      <td>18</td>\n",
              "      <td>38.905976</td>\n",
              "      <td>16.594402</td>\n",
              "      <td>142</td>\n",
              "      <td>6</td>\n",
              "      <td>148</td>\n",
              "      <td>696</td>\n",
              "      <td>844</td>\n",
              "      <td>24</td>\n",
              "      <td>116</td>\n",
              "      <td>75</td>\n",
              "      <td>1035</td>\n",
              "      <td>22234.0</td>\n",
              "      <td>1011.0</td>\n",
              "      <td>20.0</td>\n",
              "    </tr>\n",
              "    <tr>\n",
              "      <th>3</th>\n",
              "      <td>1158</td>\n",
              "      <td>737534</td>\n",
              "      <td>15</td>\n",
              "      <td>40.839566</td>\n",
              "      <td>14.250850</td>\n",
              "      <td>590</td>\n",
              "      <td>61</td>\n",
              "      <td>651</td>\n",
              "      <td>2371</td>\n",
              "      <td>3022</td>\n",
              "      <td>41</td>\n",
              "      <td>703</td>\n",
              "      <td>304</td>\n",
              "      <td>4029</td>\n",
              "      <td>34994.0</td>\n",
              "      <td>3988.0</td>\n",
              "      <td>37.0</td>\n",
              "    </tr>\n",
              "    <tr>\n",
              "      <th>4</th>\n",
              "      <td>1159</td>\n",
              "      <td>737534</td>\n",
              "      <td>8</td>\n",
              "      <td>44.494367</td>\n",
              "      <td>11.341721</td>\n",
              "      <td>3166</td>\n",
              "      <td>289</td>\n",
              "      <td>3455</td>\n",
              "      <td>10097</td>\n",
              "      <td>13552</td>\n",
              "      <td>376</td>\n",
              "      <td>5985</td>\n",
              "      <td>3023</td>\n",
              "      <td>22560</td>\n",
              "      <td>88776.0</td>\n",
              "      <td>22184.0</td>\n",
              "      <td>350.0</td>\n",
              "    </tr>\n",
              "  </tbody>\n",
              "</table>\n",
              "</div>"
            ],
            "text/plain": [
              "    SNo  ...  1_Week_Ago_Diff__1_Week_Ago_TotalPositiveCases\n",
              "0  1155  ...                                            44.0\n",
              "1  1156  ...                                             2.0\n",
              "2  1157  ...                                            20.0\n",
              "3  1158  ...                                            37.0\n",
              "4  1159  ...                                           350.0\n",
              "\n",
              "[5 rows x 17 columns]"
            ]
          },
          "metadata": {},
          "execution_count": 27
        }
      ]
    },
    {
      "cell_type": "code",
      "metadata": {
        "colab": {
          "base_uri": "https://localhost:8080/",
          "height": 223
        },
        "id": "7NWtKHiGeqwR",
        "outputId": "38ee0ff6-35b4-4ede-b24a-2ffc453c7fb1"
      },
      "source": [
        "super_1.drop([0])\n",
        "super_1.head()"
      ],
      "execution_count": null,
      "outputs": [
        {
          "output_type": "execute_result",
          "data": {
            "text/html": [
              "<div>\n",
              "<style scoped>\n",
              "    .dataframe tbody tr th:only-of-type {\n",
              "        vertical-align: middle;\n",
              "    }\n",
              "\n",
              "    .dataframe tbody tr th {\n",
              "        vertical-align: top;\n",
              "    }\n",
              "\n",
              "    .dataframe thead th {\n",
              "        text-align: right;\n",
              "    }\n",
              "</style>\n",
              "<table border=\"1\" class=\"dataframe\">\n",
              "  <thead>\n",
              "    <tr style=\"text-align: right;\">\n",
              "      <th></th>\n",
              "      <th>SNo</th>\n",
              "      <th>Date</th>\n",
              "      <th>RegionCode</th>\n",
              "      <th>Latitude</th>\n",
              "      <th>Longitude</th>\n",
              "      <th>HospitalizedPatients</th>\n",
              "      <th>IntensiveCarePatients</th>\n",
              "      <th>TotalHospitalizedPatients</th>\n",
              "      <th>HomeConfinement</th>\n",
              "      <th>CurrentPositiveCases</th>\n",
              "      <th>NewPositiveCases</th>\n",
              "      <th>Recovered</th>\n",
              "      <th>Deaths</th>\n",
              "      <th>TotalPositiveCases</th>\n",
              "      <th>TestsPerformed</th>\n",
              "      <th>1_Week_Ago_TotalPositiveCases</th>\n",
              "      <th>1_Week_Ago_Diff__1_Week_Ago_TotalPositiveCases</th>\n",
              "    </tr>\n",
              "  </thead>\n",
              "  <tbody>\n",
              "    <tr>\n",
              "      <th>0</th>\n",
              "      <td>1155</td>\n",
              "      <td>737534</td>\n",
              "      <td>13</td>\n",
              "      <td>42.351222</td>\n",
              "      <td>13.398438</td>\n",
              "      <td>317</td>\n",
              "      <td>40</td>\n",
              "      <td>357</td>\n",
              "      <td>1630</td>\n",
              "      <td>1987</td>\n",
              "      <td>34</td>\n",
              "      <td>276</td>\n",
              "      <td>258</td>\n",
              "      <td>2521</td>\n",
              "      <td>22424.0</td>\n",
              "      <td>2487.0</td>\n",
              "      <td>44.0</td>\n",
              "    </tr>\n",
              "    <tr>\n",
              "      <th>1</th>\n",
              "      <td>1156</td>\n",
              "      <td>737534</td>\n",
              "      <td>17</td>\n",
              "      <td>40.639471</td>\n",
              "      <td>15.805148</td>\n",
              "      <td>59</td>\n",
              "      <td>8</td>\n",
              "      <td>67</td>\n",
              "      <td>180</td>\n",
              "      <td>247</td>\n",
              "      <td>3</td>\n",
              "      <td>71</td>\n",
              "      <td>24</td>\n",
              "      <td>342</td>\n",
              "      <td>6528.0</td>\n",
              "      <td>339.0</td>\n",
              "      <td>2.0</td>\n",
              "    </tr>\n",
              "    <tr>\n",
              "      <th>2</th>\n",
              "      <td>1157</td>\n",
              "      <td>737534</td>\n",
              "      <td>18</td>\n",
              "      <td>38.905976</td>\n",
              "      <td>16.594402</td>\n",
              "      <td>142</td>\n",
              "      <td>6</td>\n",
              "      <td>148</td>\n",
              "      <td>696</td>\n",
              "      <td>844</td>\n",
              "      <td>24</td>\n",
              "      <td>116</td>\n",
              "      <td>75</td>\n",
              "      <td>1035</td>\n",
              "      <td>22234.0</td>\n",
              "      <td>1011.0</td>\n",
              "      <td>20.0</td>\n",
              "    </tr>\n",
              "    <tr>\n",
              "      <th>3</th>\n",
              "      <td>1158</td>\n",
              "      <td>737534</td>\n",
              "      <td>15</td>\n",
              "      <td>40.839566</td>\n",
              "      <td>14.250850</td>\n",
              "      <td>590</td>\n",
              "      <td>61</td>\n",
              "      <td>651</td>\n",
              "      <td>2371</td>\n",
              "      <td>3022</td>\n",
              "      <td>41</td>\n",
              "      <td>703</td>\n",
              "      <td>304</td>\n",
              "      <td>4029</td>\n",
              "      <td>34994.0</td>\n",
              "      <td>3988.0</td>\n",
              "      <td>37.0</td>\n",
              "    </tr>\n",
              "    <tr>\n",
              "      <th>4</th>\n",
              "      <td>1159</td>\n",
              "      <td>737534</td>\n",
              "      <td>8</td>\n",
              "      <td>44.494367</td>\n",
              "      <td>11.341721</td>\n",
              "      <td>3166</td>\n",
              "      <td>289</td>\n",
              "      <td>3455</td>\n",
              "      <td>10097</td>\n",
              "      <td>13552</td>\n",
              "      <td>376</td>\n",
              "      <td>5985</td>\n",
              "      <td>3023</td>\n",
              "      <td>22560</td>\n",
              "      <td>88776.0</td>\n",
              "      <td>22184.0</td>\n",
              "      <td>350.0</td>\n",
              "    </tr>\n",
              "  </tbody>\n",
              "</table>\n",
              "</div>"
            ],
            "text/plain": [
              "    SNo  ...  1_Week_Ago_Diff__1_Week_Ago_TotalPositiveCases\n",
              "0  1155  ...                                            44.0\n",
              "1  1156  ...                                             2.0\n",
              "2  1157  ...                                            20.0\n",
              "3  1158  ...                                            37.0\n",
              "4  1159  ...                                           350.0\n",
              "\n",
              "[5 rows x 17 columns]"
            ]
          },
          "metadata": {},
          "execution_count": 28
        }
      ]
    },
    {
      "cell_type": "code",
      "metadata": {
        "colab": {
          "base_uri": "https://localhost:8080/",
          "height": 223
        },
        "id": "aXBQGWSXi7m6",
        "outputId": "4138b52a-562a-4616-8644-762fd96056a9"
      },
      "source": [
        "super_1.tail()"
      ],
      "execution_count": null,
      "outputs": [
        {
          "output_type": "execute_result",
          "data": {
            "text/html": [
              "<div>\n",
              "<style scoped>\n",
              "    .dataframe tbody tr th:only-of-type {\n",
              "        vertical-align: middle;\n",
              "    }\n",
              "\n",
              "    .dataframe tbody tr th {\n",
              "        vertical-align: top;\n",
              "    }\n",
              "\n",
              "    .dataframe thead th {\n",
              "        text-align: right;\n",
              "    }\n",
              "</style>\n",
              "<table border=\"1\" class=\"dataframe\">\n",
              "  <thead>\n",
              "    <tr style=\"text-align: right;\">\n",
              "      <th></th>\n",
              "      <th>SNo</th>\n",
              "      <th>Date</th>\n",
              "      <th>RegionCode</th>\n",
              "      <th>Latitude</th>\n",
              "      <th>Longitude</th>\n",
              "      <th>HospitalizedPatients</th>\n",
              "      <th>IntensiveCarePatients</th>\n",
              "      <th>TotalHospitalizedPatients</th>\n",
              "      <th>HomeConfinement</th>\n",
              "      <th>CurrentPositiveCases</th>\n",
              "      <th>NewPositiveCases</th>\n",
              "      <th>Recovered</th>\n",
              "      <th>Deaths</th>\n",
              "      <th>TotalPositiveCases</th>\n",
              "      <th>TestsPerformed</th>\n",
              "      <th>1_Week_Ago_TotalPositiveCases</th>\n",
              "      <th>1_Week_Ago_Diff__1_Week_Ago_TotalPositiveCases</th>\n",
              "    </tr>\n",
              "  </thead>\n",
              "  <tbody>\n",
              "    <tr>\n",
              "      <th>4867</th>\n",
              "      <td>6022</td>\n",
              "      <td>737765</td>\n",
              "      <td>19</td>\n",
              "      <td>38.115697</td>\n",
              "      <td>13.362357</td>\n",
              "      <td>1367</td>\n",
              "      <td>213</td>\n",
              "      <td>1580</td>\n",
              "      <td>38166</td>\n",
              "      <td>39746</td>\n",
              "      <td>1022</td>\n",
              "      <td>29984</td>\n",
              "      <td>1759</td>\n",
              "      <td>71489</td>\n",
              "      <td>692062.0</td>\n",
              "      <td>70467.0</td>\n",
              "      <td>1240.0</td>\n",
              "    </tr>\n",
              "    <tr>\n",
              "      <th>4868</th>\n",
              "      <td>6023</td>\n",
              "      <td>737765</td>\n",
              "      <td>9</td>\n",
              "      <td>43.769231</td>\n",
              "      <td>11.255889</td>\n",
              "      <td>1360</td>\n",
              "      <td>252</td>\n",
              "      <td>1612</td>\n",
              "      <td>27587</td>\n",
              "      <td>29199</td>\n",
              "      <td>753</td>\n",
              "      <td>76331</td>\n",
              "      <td>2867</td>\n",
              "      <td>108397</td>\n",
              "      <td>983103.0</td>\n",
              "      <td>107644.0</td>\n",
              "      <td>769.0</td>\n",
              "    </tr>\n",
              "    <tr>\n",
              "      <th>4869</th>\n",
              "      <td>6024</td>\n",
              "      <td>737765</td>\n",
              "      <td>10</td>\n",
              "      <td>43.106758</td>\n",
              "      <td>12.388247</td>\n",
              "      <td>332</td>\n",
              "      <td>60</td>\n",
              "      <td>392</td>\n",
              "      <td>5673</td>\n",
              "      <td>6065</td>\n",
              "      <td>234</td>\n",
              "      <td>18619</td>\n",
              "      <td>460</td>\n",
              "      <td>25144</td>\n",
              "      <td>231538.0</td>\n",
              "      <td>24910.0</td>\n",
              "      <td>226.0</td>\n",
              "    </tr>\n",
              "    <tr>\n",
              "      <th>4870</th>\n",
              "      <td>6025</td>\n",
              "      <td>737765</td>\n",
              "      <td>2</td>\n",
              "      <td>45.737503</td>\n",
              "      <td>7.320149</td>\n",
              "      <td>102</td>\n",
              "      <td>8</td>\n",
              "      <td>110</td>\n",
              "      <td>877</td>\n",
              "      <td>987</td>\n",
              "      <td>34</td>\n",
              "      <td>5406</td>\n",
              "      <td>333</td>\n",
              "      <td>6726</td>\n",
              "      <td>34644.0</td>\n",
              "      <td>6692.0</td>\n",
              "      <td>46.0</td>\n",
              "    </tr>\n",
              "    <tr>\n",
              "      <th>4871</th>\n",
              "      <td>6026</td>\n",
              "      <td>737765</td>\n",
              "      <td>5</td>\n",
              "      <td>45.434905</td>\n",
              "      <td>12.338452</td>\n",
              "      <td>2508</td>\n",
              "      <td>308</td>\n",
              "      <td>2816</td>\n",
              "      <td>73988</td>\n",
              "      <td>76804</td>\n",
              "      <td>3444</td>\n",
              "      <td>84235</td>\n",
              "      <td>4210</td>\n",
              "      <td>165249</td>\n",
              "      <td>1090932.0</td>\n",
              "      <td>161805.0</td>\n",
              "      <td>3607.0</td>\n",
              "    </tr>\n",
              "  </tbody>\n",
              "</table>\n",
              "</div>"
            ],
            "text/plain": [
              "       SNo  ...  1_Week_Ago_Diff__1_Week_Ago_TotalPositiveCases\n",
              "4867  6022  ...                                          1240.0\n",
              "4868  6023  ...                                           769.0\n",
              "4869  6024  ...                                           226.0\n",
              "4870  6025  ...                                            46.0\n",
              "4871  6026  ...                                          3607.0\n",
              "\n",
              "[5 rows x 17 columns]"
            ]
          },
          "metadata": {},
          "execution_count": 29
        }
      ]
    },
    {
      "cell_type": "code",
      "metadata": {
        "id": "StgwkCXNiW76"
      },
      "source": [
        "model = LinearRegression()"
      ],
      "execution_count": null,
      "outputs": []
    },
    {
      "cell_type": "code",
      "metadata": {
        "id": "4Suc8_lri0Lq"
      },
      "source": [
        "kf = Kfold_time(target='TotalPositiveCases',date_col = 'Date',date_init=737534,date_final=737754)"
      ],
      "execution_count": null,
      "outputs": []
    },
    {
      "cell_type": "code",
      "metadata": {
        "id": "zPhhZMyGhlc6"
      },
      "source": [
        "steps_3 = [('1_step',ToSupervised('TotalPositiveCases','RegionCode',3)),\n",
        "         ('1_step_diff',ToSupervisedDiff('1_Week_Ago_TotalPositiveCases','RegionCode',1)),\n",
        "         ('2_step_diff',ToSupervisedDiff('2_Week_Ago_TotalPositiveCases','RegionCode',1)),\n",
        "         ('3_step_diff',ToSupervisedDiff('3_Week_Ago_TotalPositiveCases','RegionCode',1,dropna=True)),\n",
        "         ('predic_3',TimeSeriesRegressor(model=model,cv=kf,scoring=mean_squared_error))]\n",
        "super_3_p = Pipeline(steps_3).fit(df)"
      ],
      "execution_count": null,
      "outputs": []
    },
    {
      "cell_type": "code",
      "metadata": {
        "id": "Iz74AFWRjOUW"
      },
      "source": [
        "kf_test = Kfold_time(target='TotalPositiveCases',date_col = 'Date',date_init=737755,date_final=737765)"
      ],
      "execution_count": null,
      "outputs": []
    },
    {
      "cell_type": "code",
      "metadata": {
        "id": "xoxPLVwtjkVD"
      },
      "source": [
        "steps_10 = getDataFramePipeline(10)\n",
        "super_10 = Pipeline(steps_10).fit_transform(df)\n",
        "T = TimeSeriesRegressor(model=model,cv=kf_test,scoring=mean_squared_error, verbosity=True)\n",
        "T.fit(super_10)\n",
        "prediction =T.predict(super_10)"
      ],
      "execution_count": null,
      "outputs": []
    },
    {
      "cell_type": "code",
      "metadata": {
        "colab": {
          "base_uri": "https://localhost:8080/",
          "height": 223
        },
        "id": "Jn7dgZxDnLnY",
        "outputId": "f5f7dcbf-4f8f-4667-cbf1-6b4adf8e603d"
      },
      "source": [
        "prediction.head()"
      ],
      "execution_count": null,
      "outputs": [
        {
          "output_type": "execute_result",
          "data": {
            "text/html": [
              "<div>\n",
              "<style scoped>\n",
              "    .dataframe tbody tr th:only-of-type {\n",
              "        vertical-align: middle;\n",
              "    }\n",
              "\n",
              "    .dataframe tbody tr th {\n",
              "        vertical-align: top;\n",
              "    }\n",
              "\n",
              "    .dataframe thead th {\n",
              "        text-align: right;\n",
              "    }\n",
              "</style>\n",
              "<table border=\"1\" class=\"dataframe\">\n",
              "  <thead>\n",
              "    <tr style=\"text-align: right;\">\n",
              "      <th></th>\n",
              "      <th>0_fold</th>\n",
              "      <th>1_fold</th>\n",
              "      <th>2_fold</th>\n",
              "      <th>3_fold</th>\n",
              "      <th>4_fold</th>\n",
              "      <th>5_fold</th>\n",
              "      <th>6_fold</th>\n",
              "      <th>7_fold</th>\n",
              "      <th>8_fold</th>\n",
              "      <th>9_fold</th>\n",
              "    </tr>\n",
              "  </thead>\n",
              "  <tbody>\n",
              "    <tr>\n",
              "      <th>0</th>\n",
              "      <td>26014.997125</td>\n",
              "      <td>26524.986866</td>\n",
              "      <td>27055.995461</td>\n",
              "      <td>27469.000675</td>\n",
              "      <td>28023.984103</td>\n",
              "      <td>28419.996827</td>\n",
              "      <td>28800.983804</td>\n",
              "      <td>29195.990261</td>\n",
              "      <td>29603.991005</td>\n",
              "      <td>29980.002250</td>\n",
              "    </tr>\n",
              "    <tr>\n",
              "      <th>1</th>\n",
              "      <td>7454.007580</td>\n",
              "      <td>7662.999355</td>\n",
              "      <td>7877.991655</td>\n",
              "      <td>8050.010954</td>\n",
              "      <td>8142.014769</td>\n",
              "      <td>8297.998677</td>\n",
              "      <td>8454.992540</td>\n",
              "      <td>8586.003948</td>\n",
              "      <td>8728.005164</td>\n",
              "      <td>8858.997272</td>\n",
              "    </tr>\n",
              "    <tr>\n",
              "      <th>2</th>\n",
              "      <td>15256.033179</td>\n",
              "      <td>15724.053942</td>\n",
              "      <td>16150.007045</td>\n",
              "      <td>16444.003042</td>\n",
              "      <td>16713.998022</td>\n",
              "      <td>17032.008685</td>\n",
              "      <td>17262.007661</td>\n",
              "      <td>17541.991209</td>\n",
              "      <td>17890.979442</td>\n",
              "      <td>18196.995566</td>\n",
              "    </tr>\n",
              "    <tr>\n",
              "      <th>3</th>\n",
              "      <td>146017.896404</td>\n",
              "      <td>148941.831958</td>\n",
              "      <td>151670.734429</td>\n",
              "      <td>153692.845899</td>\n",
              "      <td>155318.901861</td>\n",
              "      <td>156431.922540</td>\n",
              "      <td>158273.816739</td>\n",
              "      <td>160568.816035</td>\n",
              "      <td>162219.857648</td>\n",
              "      <td>163740.846688</td>\n",
              "    </tr>\n",
              "    <tr>\n",
              "      <th>4</th>\n",
              "      <td>114854.957453</td>\n",
              "      <td>117018.977000</td>\n",
              "      <td>119183.935723</td>\n",
              "      <td>121031.987847</td>\n",
              "      <td>123072.955125</td>\n",
              "      <td>124541.007266</td>\n",
              "      <td>126109.946818</td>\n",
              "      <td>127869.998823</td>\n",
              "      <td>130008.945982</td>\n",
              "      <td>131972.973352</td>\n",
              "    </tr>\n",
              "  </tbody>\n",
              "</table>\n",
              "</div>"
            ],
            "text/plain": [
              "          0_fold         1_fold  ...         8_fold         9_fold\n",
              "0   26014.997125   26524.986866  ...   29603.991005   29980.002250\n",
              "1    7454.007580    7662.999355  ...    8728.005164    8858.997272\n",
              "2   15256.033179   15724.053942  ...   17890.979442   18196.995566\n",
              "3  146017.896404  148941.831958  ...  162219.857648  163740.846688\n",
              "4  114854.957453  117018.977000  ...  130008.945982  131972.973352\n",
              "\n",
              "[5 rows x 10 columns]"
            ]
          },
          "metadata": {},
          "execution_count": 35
        }
      ]
    },
    {
      "cell_type": "code",
      "metadata": {
        "colab": {
          "base_uri": "https://localhost:8080/"
        },
        "id": "HfTolHp7pzDx",
        "outputId": "713fe6d4-1536-4b6a-f5eb-7583c6b5a1f6"
      },
      "source": [
        "T.score(super_10)"
      ],
      "execution_count": null,
      "outputs": [
        {
          "output_type": "stream",
          "name": "stdout",
          "text": [
            "Fold: 0, Error: 0.0038\n",
            "Fold: 1, Error: 0.0115\n",
            "Fold: 2, Error: 0.0091\n",
            "Fold: 3, Error: 0.0031\n",
            "Fold: 4, Error: 0.0013\n",
            "Fold: 5, Error: 0.0058\n",
            "Fold: 6, Error: 0.0038\n",
            "Fold: 7, Error: 0.0116\n",
            "Fold: 8, Error: 0.0086\n",
            "Fold: 9, Error: 0.0057\n",
            "Total Error 0.0064\n"
          ]
        },
        {
          "output_type": "execute_result",
          "data": {
            "text/plain": [
              "[0.0037727130129542067,\n",
              " 0.011501398588172002,\n",
              " 0.009081193306450016,\n",
              " 0.003129492789934372,\n",
              " 0.0013028744355160348,\n",
              " 0.005835677689420736,\n",
              " 0.0038077769948305766,\n",
              " 0.011625088589953609,\n",
              " 0.008563712793130233,\n",
              " 0.005749732915122704]"
            ]
          },
          "metadata": {},
          "execution_count": 36
        }
      ]
    },
    {
      "cell_type": "code",
      "metadata": {
        "colab": {
          "base_uri": "https://localhost:8080/",
          "height": 523
        },
        "id": "FazMY8tkz6RK",
        "outputId": "5f64a281-0cd2-4fc3-9202-3c02e00be926"
      },
      "source": [
        "plt.figure(figsize=(8,8))\n",
        "plt.scatter(prediction['0_fold'], df[df['Date']==737755].TotalPositiveCases)\n",
        "plt.scatter(prediction['9_fold'], df[df['Date']==737765].TotalPositiveCases)\n",
        "plt.xlabel('Total Positive Cases',fontsize=14)\n",
        "plt.ylabel('Prediction',fontsize=14)\n",
        "plt.title('Predicted vs Actual cases',fontsize=18)\n",
        "plt.show()"
      ],
      "execution_count": null,
      "outputs": [
        {
          "output_type": "display_data",
          "data": {
            "image/png": "[encoded data removed]",
            "text/plain": [
              "<Figure size 576x576 with 1 Axes>"
            ]
          },
          "metadata": {}
        }
      ]
    },
    {
      "cell_type": "code",
      "metadata": {
        "colab": {
          "base_uri": "https://localhost:8080/"
        },
        "id": "zYVyVrs1j4lt",
        "outputId": "604b7933-71cb-4575-c788-af94c0440280"
      },
      "source": [
        "df[df['Date']==737755].TotalPositiveCases"
      ],
      "execution_count": null,
      "outputs": [
        {
          "output_type": "execute_result",
          "data": {
            "text/plain": [
              "5796     26015\n",
              "5797      7454\n",
              "5798     15256\n",
              "5799    146018\n",
              "5800    114855\n",
              "5801     27099\n",
              "5802    111852\n",
              "5803     49951\n",
              "5804    392655\n",
              "5805     28073\n",
              "5806      4285\n",
              "5807     22253\n",
              "5808     14844\n",
              "5809    159004\n",
              "5810     49001\n",
              "5811     20044\n",
              "5812     58769\n",
              "5813     99327\n",
              "5814     22821\n",
              "5815      6243\n",
              "5816    134056\n",
              "Name: TotalPositiveCases, dtype: int64"
            ]
          },
          "metadata": {},
          "execution_count": 39
        }
      ]
    },
    {
      "cell_type": "markdown",
      "metadata": {
        "id": "5UIWJi_t9TjX"
      },
      "source": [
        "Testing on Brazil's dataset"
      ]
    },
    {
      "cell_type": "code",
      "metadata": {
        "id": "CZz6C23ft57E"
      },
      "source": [
        "brazil.rename(columns = {'country':'RegionCode'}, inplace = True)\n",
        "brazil.rename(columns = {'cases':'TotalPositiveCases'}, inplace = True)\n",
        "brazil.rename(columns = {'date':'Date'}, inplace = True)"
      ],
      "execution_count": null,
      "outputs": []
    },
    {
      "cell_type": "code",
      "metadata": {
        "id": "h0D6Mh2d1ivU"
      },
      "source": [
        "brazil = brazil.drop(['recovered', 'monitoring'], axis=1)"
      ],
      "execution_count": null,
      "outputs": []
    },
    {
      "cell_type": "code",
      "metadata": {
        "id": "Cd_OdEsR2vG2"
      },
      "source": [
        "le = preprocessing.LabelEncoder()\n",
        "brazil['RegionCode'] = le.fit_transform(brazil['RegionCode'])"
      ],
      "execution_count": null,
      "outputs": []
    },
    {
      "cell_type": "code",
      "metadata": {
        "id": "FV6GdZjqtHm9"
      },
      "source": [
        "steps_2 = [('1_step',ToSupervised('TotalPositiveCases', 'RegionCode',1)),\n",
        "         ('1_step_diff',ToSupervisedDiff('1_Week_Ago_TotalPositiveCases', 'RegionCode',1,dropna=True))]\n",
        "super_2 = Pipeline(steps).fit_transform(brazil)"
      ],
      "execution_count": null,
      "outputs": []
    },
    {
      "cell_type": "code",
      "metadata": {
        "colab": {
          "base_uri": "https://localhost:8080/",
          "height": 203
        },
        "id": "xdqno0nq1J4K",
        "outputId": "bb262b7c-83f5-4df4-aa46-114c82411cfd"
      },
      "source": [
        "super_2.head()"
      ],
      "execution_count": null,
      "outputs": [
        {
          "output_type": "execute_result",
          "data": {
            "text/html": [
              "<div>\n",
              "<style scoped>\n",
              "    .dataframe tbody tr th:only-of-type {\n",
              "        vertical-align: middle;\n",
              "    }\n",
              "\n",
              "    .dataframe tbody tr th {\n",
              "        vertical-align: top;\n",
              "    }\n",
              "\n",
              "    .dataframe thead th {\n",
              "        text-align: right;\n",
              "    }\n",
              "</style>\n",
              "<table border=\"1\" class=\"dataframe\">\n",
              "  <thead>\n",
              "    <tr style=\"text-align: right;\">\n",
              "      <th></th>\n",
              "      <th>Date</th>\n",
              "      <th>RegionCode</th>\n",
              "      <th>week</th>\n",
              "      <th>TotalPositiveCases</th>\n",
              "      <th>deaths</th>\n",
              "      <th>1_Week_Ago_TotalPositiveCases</th>\n",
              "      <th>1_Week_Ago_Diff__1_Week_Ago_TotalPositiveCases</th>\n",
              "    </tr>\n",
              "  </thead>\n",
              "  <tbody>\n",
              "    <tr>\n",
              "      <th>0</th>\n",
              "      <td>737482</td>\n",
              "      <td>0</td>\n",
              "      <td>9</td>\n",
              "      <td>1.0</td>\n",
              "      <td>0</td>\n",
              "      <td>1.0</td>\n",
              "      <td>1.0</td>\n",
              "    </tr>\n",
              "    <tr>\n",
              "      <th>1</th>\n",
              "      <td>737483</td>\n",
              "      <td>0</td>\n",
              "      <td>9</td>\n",
              "      <td>1.0</td>\n",
              "      <td>0</td>\n",
              "      <td>1.0</td>\n",
              "      <td>0.0</td>\n",
              "    </tr>\n",
              "    <tr>\n",
              "      <th>2</th>\n",
              "      <td>737484</td>\n",
              "      <td>0</td>\n",
              "      <td>9</td>\n",
              "      <td>2.0</td>\n",
              "      <td>0</td>\n",
              "      <td>1.0</td>\n",
              "      <td>0.0</td>\n",
              "    </tr>\n",
              "    <tr>\n",
              "      <th>3</th>\n",
              "      <td>737485</td>\n",
              "      <td>0</td>\n",
              "      <td>10</td>\n",
              "      <td>2.0</td>\n",
              "      <td>0</td>\n",
              "      <td>2.0</td>\n",
              "      <td>1.0</td>\n",
              "    </tr>\n",
              "    <tr>\n",
              "      <th>4</th>\n",
              "      <td>737486</td>\n",
              "      <td>0</td>\n",
              "      <td>10</td>\n",
              "      <td>2.0</td>\n",
              "      <td>0</td>\n",
              "      <td>2.0</td>\n",
              "      <td>0.0</td>\n",
              "    </tr>\n",
              "  </tbody>\n",
              "</table>\n",
              "</div>"
            ],
            "text/plain": [
              "     Date  ...  1_Week_Ago_Diff__1_Week_Ago_TotalPositiveCases\n",
              "0  737482  ...                                             1.0\n",
              "1  737483  ...                                             0.0\n",
              "2  737484  ...                                             0.0\n",
              "3  737485  ...                                             1.0\n",
              "4  737486  ...                                             0.0\n",
              "\n",
              "[5 rows x 7 columns]"
            ]
          },
          "metadata": {},
          "execution_count": 45
        }
      ]
    },
    {
      "cell_type": "code",
      "metadata": {
        "colab": {
          "base_uri": "https://localhost:8080/",
          "height": 80
        },
        "id": "KjqRG_Pv5Ko7",
        "outputId": "8c9b5725-36a4-48dc-af80-2577e5637c8e"
      },
      "source": [
        "steps_50_b = getDataFramePipeline(50)\n",
        "super_50_b = Pipeline(steps_50_b).fit_transform(brazil)\n",
        "predict_brazil =T.predict(super_50_b)\n",
        "predict_brazil.head()"
      ],
      "execution_count": null,
      "outputs": [
        {
          "output_type": "execute_result",
          "data": {
            "text/html": [
              "<div>\n",
              "<style scoped>\n",
              "    .dataframe tbody tr th:only-of-type {\n",
              "        vertical-align: middle;\n",
              "    }\n",
              "\n",
              "    .dataframe tbody tr th {\n",
              "        vertical-align: top;\n",
              "    }\n",
              "\n",
              "    .dataframe thead th {\n",
              "        text-align: right;\n",
              "    }\n",
              "</style>\n",
              "<table border=\"1\" class=\"dataframe\">\n",
              "  <thead>\n",
              "    <tr style=\"text-align: right;\">\n",
              "      <th></th>\n",
              "      <th>0_fold</th>\n",
              "      <th>1_fold</th>\n",
              "      <th>2_fold</th>\n",
              "      <th>3_fold</th>\n",
              "      <th>4_fold</th>\n",
              "      <th>5_fold</th>\n",
              "      <th>6_fold</th>\n",
              "      <th>7_fold</th>\n",
              "      <th>8_fold</th>\n",
              "      <th>9_fold</th>\n",
              "    </tr>\n",
              "  </thead>\n",
              "  <tbody>\n",
              "    <tr>\n",
              "      <th>0</th>\n",
              "      <td>6.207880e+06</td>\n",
              "      <td>6.240049e+06</td>\n",
              "      <td>6.274262e+06</td>\n",
              "      <td>6.324908e+06</td>\n",
              "      <td>6.332287e+06</td>\n",
              "      <td>6.379050e+06</td>\n",
              "      <td>6.439120e+06</td>\n",
              "      <td>6.473577e+06</td>\n",
              "      <td>6.537831e+06</td>\n",
              "      <td>6.578463e+06</td>\n",
              "    </tr>\n",
              "  </tbody>\n",
              "</table>\n",
              "</div>"
            ],
            "text/plain": [
              "         0_fold        1_fold  ...        8_fold        9_fold\n",
              "0  6.207880e+06  6.240049e+06  ...  6.537831e+06  6.578463e+06\n",
              "\n",
              "[1 rows x 10 columns]"
            ]
          },
          "metadata": {},
          "execution_count": 46
        }
      ]
    },
    {
      "cell_type": "code",
      "metadata": {
        "colab": {
          "base_uri": "https://localhost:8080/"
        },
        "id": "I1G3PLbn5hA6",
        "outputId": "b00d36df-0840-4a17-b991-04ef01949cd3"
      },
      "source": [
        "T.score(super_50_b)"
      ],
      "execution_count": null,
      "outputs": [
        {
          "output_type": "stream",
          "name": "stdout",
          "text": [
            "Fold: 0, Error: 13395186.6827\n",
            "Fold: 1, Error: 2888229.0079\n",
            "Fold: 2, Error: 256316125.1663\n",
            "Fold: 3, Error: 103380363.8417\n",
            "Fold: 4, Error: 12895267.4932\n",
            "Fold: 5, Error: 59858870.5064\n",
            "Fold: 6, Error: 6100731.8519\n",
            "Fold: 7, Error: 182450576.1298\n",
            "Fold: 8, Error: 14919305.4666\n",
            "Fold: 9, Error: 1655078.8911\n",
            "Total Error 65385973.5038\n"
          ]
        },
        {
          "output_type": "execute_result",
          "data": {
            "text/plain": [
              "[13395186.682661168,\n",
              " 2888229.0078951414,\n",
              " 256316125.1663479,\n",
              " 103380363.84174378,\n",
              " 12895267.493205747,\n",
              " 59858870.50641639,\n",
              " 6100731.85193051,\n",
              " 182450576.12983438,\n",
              " 14919305.4666165,\n",
              " 1655078.8910507318]"
            ]
          },
          "metadata": {},
          "execution_count": 47
        }
      ]
    },
    {
      "cell_type": "code",
      "metadata": {
        "colab": {
          "base_uri": "https://localhost:8080/",
          "height": 523
        },
        "id": "QECykdRgela_",
        "outputId": "72314be0-2593-4e17-aa41-f26e5f29a7e5"
      },
      "source": [
        "plt.figure(figsize=(8,8))\n",
        "plt.scatter(predict_brazil['0_fold'], brazil[brazil['Date']==737755].TotalPositiveCases)\n",
        "plt.scatter(predict_brazil['9_fold'], brazil[brazil['Date']==737765].TotalPositiveCases)\n",
        "plt.xlabel('Total Positive Cases',fontsize=14)\n",
        "plt.ylabel('Prediction',fontsize=14)\n",
        "plt.title('Predicted vs Actual cases',fontsize=18)\n",
        "plt.show()"
      ],
      "execution_count": null,
      "outputs": [
        {
          "output_type": "display_data",
          "data": {
            "image/png": "[encoded data removed]",
            "text/plain": [
              "<Figure size 576x576 with 1 Axes>"
            ]
          },
          "metadata": {}
        }
      ]
    },
    {
      "cell_type": "code",
      "metadata": {
        "colab": {
          "base_uri": "https://localhost:8080/"
        },
        "id": "n802ZTw5kwfm",
        "outputId": "f4724b1c-9452-48a7-9be2-3659085a4b42"
      },
      "source": [
        "print(f\"Actual Case recorded: {brazil[brazil['Date']==737755].TotalPositiveCases.values[0]}\\nPrediction for that date: {predict_brazil['0_fold'].values[0]}\")"
      ],
      "execution_count": null,
      "outputs": [
        {
          "output_type": "stream",
          "name": "stdout",
          "text": [
            "Actual Case recorded: 6204220.0\n",
            "Prediction for that date: 6207879.943535447\n"
          ]
        }
      ]
    },
    {
      "cell_type": "code",
      "metadata": {
        "colab": {
          "base_uri": "https://localhost:8080/"
        },
        "id": "P2SRWmw4kw0l",
        "outputId": "75c16ca1-90f8-4713-fda4-55cd33f72452"
      },
      "source": [
        "print(f\"Actual Case recorded: {brazil[brazil['Date']==737765].TotalPositiveCases.values[0]}\\nPrediction for that date: {predict_brazil['9_fold'].values[0]}\")"
      ],
      "execution_count": null,
      "outputs": [
        {
          "output_type": "stream",
          "name": "stdout",
          "text": [
            "Actual Case recorded: 6603540.0\n",
            "Prediction for that date: 6578463.498694539\n"
          ]
        }
      ]
    },
    {
      "cell_type": "markdown",
      "metadata": {
        "id": "zm-4VbVli6pj"
      },
      "source": [
        "# **India** \n",
        "\n",
        "---\n",
        " **Taking a look at the future cases in India and judging the future of Brazil**"
      ]
    },
    {
      "cell_type": "markdown",
      "metadata": {
        "id": "XA0o0o1OxDO6"
      },
      "source": [
        "Region wise italian data"
      ]
    },
    {
      "cell_type": "code",
      "metadata": {
        "id": "chy99jdeTZCu"
      },
      "source": [
        "ity_reg=pd.read_csv('covid19_italy_region.csv')\n",
        "#cleaning data\n",
        "ity_reg['Date']=pd.to_datetime(ity_reg['Date']).dt.date\n",
        "ity_reg=ity_reg.sort_values(by=['RegionName','Date']).reset_index(drop=True)\n",
        "ity_reg=ity_reg.drop(['Latitude',\n",
        "       'Longitude', 'HospitalizedPatients', 'IntensiveCarePatients',\n",
        "       'TotalHospitalizedPatients', 'HomeConfinement','Recovered','TestsPerformed','Country'],axis=1)"
      ],
      "execution_count": null,
      "outputs": []
    },
    {
      "cell_type": "markdown",
      "metadata": {
        "id": "LKfWBJxQxHyS"
      },
      "source": [
        "Brazil covid data"
      ]
    },
    {
      "cell_type": "code",
      "metadata": {
        "id": "H6Ntfh2LZi5H"
      },
      "source": [
        "br_state=pd.read_csv('brazil_covid19.csv')\n",
        "#cleaning data\n",
        "br_state.dropna(inplace=True)\n",
        "br_state['date'] = pd.to_datetime(br_state['date']).dt.date\n",
        "br_state=br_state.sort_values(by=['state','date']).reset_index(drop=True)\n"
      ],
      "execution_count": null,
      "outputs": []
    },
    {
      "cell_type": "markdown",
      "metadata": {
        "id": "hVfagXX8xLV9"
      },
      "source": [
        "Brazil old covid data"
      ]
    },
    {
      "cell_type": "code",
      "metadata": {
        "id": "iS3v2sBnURYI"
      },
      "source": [
        "br_old=pd.read_csv('brazil_covid19_old.csv')\n",
        "#cleaning data\n",
        "br_old['date'] = pd.to_datetime(br_old['date']).dt.date\n",
        "br_old=br_old.sort_values(by=['state','date']).reset_index(drop=True)\n",
        "br_old=br_old.drop(['suspects','refuses','hour'],axis=1)\n",
        "br_old"
      ],
      "execution_count": null,
      "outputs": []
    },
    {
      "cell_type": "markdown",
      "metadata": {
        "id": "Ix-Fk1p5xSyj"
      },
      "source": [
        "For plotting deaths vs cases and dates for old Brazillian data"
      ]
    },
    {
      "cell_type": "code",
      "metadata": {
        "id": "LYRtVzpNaijZ",
        "colab": {
          "base_uri": "https://localhost:8080/",
          "height": 713
        },
        "outputId": "d89f4e24-2e51-4c67-b6bf-b513981cc65d"
      },
      "source": [
        "fig,(ax0,ax1)=plt.subplots(1,2,figsize=(20,10))\n",
        "sns.lineplot(x='date',y=\"deaths\",data=br_old,ax=ax0,color='maroon')\n",
        "ax1.axes.get_xaxis().set_ticks([])\n",
        "sns.lineplot(x='cases',y=\"deaths\",data=br_old,ax=ax1)\n",
        "fig.autofmt_xdate()\n",
        "plt.show"
      ],
      "execution_count": null,
      "outputs": [
        {
          "output_type": "error",
          "ename": "NameError",
          "evalue": "ignored",
          "traceback": [
            "\u001b[0;31m---------------------------------------------------------------------------\u001b[0m",
            "\u001b[0;31mNameError\u001b[0m                                 Traceback (most recent call last)",
            "\u001b[0;32m<ipython-input-4-3e26b82af01d>\u001b[0m in \u001b[0;36m<module>\u001b[0;34m()\u001b[0m\n\u001b[1;32m      1\u001b[0m \u001b[0mfig\u001b[0m\u001b[0;34m,\u001b[0m\u001b[0;34m(\u001b[0m\u001b[0max0\u001b[0m\u001b[0;34m,\u001b[0m\u001b[0max1\u001b[0m\u001b[0;34m)\u001b[0m\u001b[0;34m=\u001b[0m\u001b[0mplt\u001b[0m\u001b[0;34m.\u001b[0m\u001b[0msubplots\u001b[0m\u001b[0;34m(\u001b[0m\u001b[0;36m1\u001b[0m\u001b[0;34m,\u001b[0m\u001b[0;36m2\u001b[0m\u001b[0;34m,\u001b[0m\u001b[0mfigsize\u001b[0m\u001b[0;34m=\u001b[0m\u001b[0;34m(\u001b[0m\u001b[0;36m20\u001b[0m\u001b[0;34m,\u001b[0m\u001b[0;36m10\u001b[0m\u001b[0;34m)\u001b[0m\u001b[0;34m)\u001b[0m\u001b[0;34m\u001b[0m\u001b[0;34m\u001b[0m\u001b[0m\n\u001b[0;32m----> 2\u001b[0;31m \u001b[0msns\u001b[0m\u001b[0;34m.\u001b[0m\u001b[0mlineplot\u001b[0m\u001b[0;34m(\u001b[0m\u001b[0mx\u001b[0m\u001b[0;34m=\u001b[0m\u001b[0;34m'date'\u001b[0m\u001b[0;34m,\u001b[0m\u001b[0my\u001b[0m\u001b[0;34m=\u001b[0m\u001b[0;34m\"deaths\"\u001b[0m\u001b[0;34m,\u001b[0m\u001b[0mdata\u001b[0m\u001b[0;34m=\u001b[0m\u001b[0mbr_old\u001b[0m\u001b[0;34m,\u001b[0m\u001b[0max\u001b[0m\u001b[0;34m=\u001b[0m\u001b[0max0\u001b[0m\u001b[0;34m,\u001b[0m\u001b[0mcolor\u001b[0m\u001b[0;34m=\u001b[0m\u001b[0;34m'maroon'\u001b[0m\u001b[0;34m)\u001b[0m\u001b[0;34m\u001b[0m\u001b[0;34m\u001b[0m\u001b[0m\n\u001b[0m\u001b[1;32m      3\u001b[0m \u001b[0max1\u001b[0m\u001b[0;34m.\u001b[0m\u001b[0maxes\u001b[0m\u001b[0;34m.\u001b[0m\u001b[0mget_xaxis\u001b[0m\u001b[0;34m(\u001b[0m\u001b[0;34m)\u001b[0m\u001b[0;34m.\u001b[0m\u001b[0mset_ticks\u001b[0m\u001b[0;34m(\u001b[0m\u001b[0;34m[\u001b[0m\u001b[0;34m]\u001b[0m\u001b[0;34m)\u001b[0m\u001b[0;34m\u001b[0m\u001b[0;34m\u001b[0m\u001b[0m\n\u001b[1;32m      4\u001b[0m \u001b[0msns\u001b[0m\u001b[0;34m.\u001b[0m\u001b[0mlineplot\u001b[0m\u001b[0;34m(\u001b[0m\u001b[0mx\u001b[0m\u001b[0;34m=\u001b[0m\u001b[0;34m'cases'\u001b[0m\u001b[0;34m,\u001b[0m\u001b[0my\u001b[0m\u001b[0;34m=\u001b[0m\u001b[0;34m\"deaths\"\u001b[0m\u001b[0;34m,\u001b[0m\u001b[0mdata\u001b[0m\u001b[0;34m=\u001b[0m\u001b[0mbr_old\u001b[0m\u001b[0;34m,\u001b[0m\u001b[0max\u001b[0m\u001b[0;34m=\u001b[0m\u001b[0max1\u001b[0m\u001b[0;34m)\u001b[0m\u001b[0;34m\u001b[0m\u001b[0;34m\u001b[0m\u001b[0m\n\u001b[1;32m      5\u001b[0m \u001b[0mfig\u001b[0m\u001b[0;34m.\u001b[0m\u001b[0mautofmt_xdate\u001b[0m\u001b[0;34m(\u001b[0m\u001b[0;34m)\u001b[0m\u001b[0;34m\u001b[0m\u001b[0;34m\u001b[0m\u001b[0m\n",
            "\u001b[0;31mNameError\u001b[0m: name 'br_old' is not defined"
          ]
        },
        {
          "output_type": "display_data",
          "data": {
            "image/png": "[encoded data removed]",
            "text/plain": [
              "<Figure size 1440x720 with 2 Axes>"
            ]
          },
          "metadata": {}
        }
      ]
    },
    {
      "cell_type": "markdown",
      "metadata": {
        "id": "tTctXDtCxc0q"
      },
      "source": [
        "Brazil covid data city wise"
      ]
    },
    {
      "cell_type": "code",
      "metadata": {
        "id": "wc7jsdx3i6qV"
      },
      "source": [
        "\n",
        "br_city=pd.read_csv('brazil_covid19_cities.csv')\n",
        "#cleaning data\n",
        "br_city.dropna(inplace=True)\n",
        "\n",
        "# br_city['date'] = pd.to_datetime(br_city['date']).dt.date\n",
        "# br_city=br_city.sort_values(by=['code','date'])"
      ],
      "execution_count": null,
      "outputs": []
    },
    {
      "cell_type": "markdown",
      "metadata": {
        "id": "XwXQ-0BwxmEc"
      },
      "source": [
        "Indian data state wise"
      ]
    },
    {
      "cell_type": "code",
      "metadata": {
        "id": "_XLpMH-TpYtL"
      },
      "source": [
        "df_ind=pd.read_csv('covid_19_india.csv')\n",
        "#cleaning data\n",
        "from datetime import datetime\n",
        "df_ind.dropna(inplace=True)\n",
        "df_ind=df_ind.drop(['ConfirmedIndianNational','ConfirmedForeignNational','Cured','Time'],axis=1)\n",
        "\n",
        "# df_ind['Date'] = pd.to_datetime(df_ind['Date']).dt.date\n",
        "# df_ind=df_ind.sort_values(by=['State/UnionTerritory','Date']).reset_index(drop=True)"
      ],
      "execution_count": null,
      "outputs": []
    },
    {
      "cell_type": "markdown",
      "metadata": {
        "id": "9mk9sf9Vxt9e"
      },
      "source": [
        "Increase in deaths and cases with time in India"
      ]
    },
    {
      "cell_type": "code",
      "metadata": {
        "id": "CpPNiArahkUL"
      },
      "source": [
        "fig,(ax0,ax1)=plt.subplots(1,2,figsize=(20,10))\n",
        "sns.lineplot(x='Date',y=\"Deaths\",data=df_ind,ax=ax0,color='maroon')\n",
        "sns.lineplot(x='Date',y=\"Confirmed\",data=df_ind,ax=ax1,color='blue')\n",
        "\n",
        "plt.show"
      ],
      "execution_count": null,
      "outputs": []
    },
    {
      "cell_type": "markdown",
      "metadata": {
        "id": "KK3JoMWYyR83"
      },
      "source": [
        "Date on which to impose Lockdown in Brazil based on Future India"
      ]
    },
    {
      "cell_type": "code",
      "metadata": {
        "id": "OkIFe2rMqjoK"
      },
      "source": [
        "# Date on which to impose Lockdown in Brazil based on Future India\n",
        "c,d =pd.DataFrame(),pd.DataFrame()\n",
        "\n",
        "c=c.append(df_ind[df_ind['Date']=='25/03/20'],ignore_index=True)# lockdown date in India\n",
        "d=d.append(df_ind[df_ind['Date']=='31/05/20'],ignore_index=True) # lockdown lifting date in India\n",
        "\n",
        "ind_lock_death,ind_lock_case=c[\"Deaths\"].sum(),c['Confirmed'].sum()\n",
        "ind_end_death,ind_end_case=d[\"Deaths\"].sum(),d['Confirmed'].sum()\n",
        "\n",
        "j=0\n",
        "for i in br_city['date'].unique():\n",
        "  b=pd.DataFrame()\n",
        "  b=b.append(br_city[br_city['date']==i],ignore_index=True)\n",
        "  br_lock_death,br_lock_case = b[\"deaths\"].sum(),b['cases'].sum()\n",
        "    \n",
        "  \n",
        "  if (b[\"deaths\"].sum()>ind_lock_death or b['cases'].sum()>ind_lock_case)and j==0:\n",
        "    date_start=i\n",
        "    print('Impose Lockdown on:',i,'as deaths are:',br_lock_death,'and cases are:',br_lock_case)\n",
        "    j=j+1\n",
        "  if b['cases'].sum()>ind_end_case:\n",
        "    date_end=i\n",
        "    print('Lift Lockdown on:',i,'as deaths are:',br_lock_death,'and cases are:',br_lock_case)\n",
        "    break\n",
        "    "
      ],
      "execution_count": null,
      "outputs": []
    },
    {
      "cell_type": "markdown",
      "metadata": {
        "id": "F6RPYhHAweO_"
      },
      "source": [
        "Getting capital cities of Brazil using br_cord"
      ]
    },
    {
      "cell_type": "code",
      "metadata": {
        "id": "ZNd09OUsU1bE"
      },
      "source": [
        "# Brazil data from where to get the capital cities\n",
        "br_cord=pd.read_csv('/content/Data/Brazil/brazil_cities_coordinates.csv')\n",
        "br_cord.dropna(inplace=True)\n",
        "\n",
        "cap_city_br=br_cord[br_cord['capital']==True]['city_name'].values\n",
        "br_cap_city=br_city[br_city['name'].isin(cap_city_br)]\n",
        "br_cap_city['date'] = pd.to_datetime(br_cap_city['date']).dt.date\n",
        "br_cap_city_daily=br_cap_city.copy()\n",
        "#getting daily cases in capital cities\n",
        "# br_cap_city_daily['daily cases']=br_cap_city.cases.diff()\n",
        "# br_cap_city_daily['daily deaths']=br_cap_city.deaths.diff()\n",
        "# a=(br_cap_city_daily[br_cap_city_daily['daily cases']<0]).index.tolist()\n",
        "# b=(br_cap_city_daily[br_cap_city_daily['daily deaths']<0]).index.tolist()\n",
        "# br_cap_city_daily=br_cap_city_daily.drop(a)\n",
        "# br_cap_city_daily=br_cap_city_daily.drop(b,errors='ignore')\n",
        "# br_cap_city_daily.dropna(inplace=True)"
      ],
      "execution_count": null,
      "outputs": []
    },
    {
      "cell_type": "markdown",
      "metadata": {
        "id": "opMIzoVrwXR7"
      },
      "source": [
        "Plotting cases and deaths vs dates for capital cities"
      ]
    },
    {
      "cell_type": "code",
      "metadata": {
        "id": "Fa2ODrBSgQYG"
      },
      "source": [
        "fig,(ax0,ax1)=plt.subplots(1,2,figsize=(20,10))\n",
        "\n",
        "sns.lineplot(x='date',y=\"deaths\",data=br_cap_city,ax=ax0,color='maroon',hue='name',legend=False)\n",
        "ax0.axvline(x=datetime.strptime(date_start, \"%Y-%m-%d\"),color='red',label='Impose strict Lockdown')\n",
        "ax0.axvline(x=datetime.strptime(date_end, \"%Y-%m-%d\"),color='green',label='Lift Lockdown')\n",
        "\n",
        "sns.lineplot(x='date',y=\"cases\",data=br_cap_city_daily,ax=ax1,color='blue')\n",
        "ax1.axvline(x=datetime.strptime(date_start, \"%Y-%m-%d\"),color='red',label='Impose strict Lockdown')\n",
        "ax1.axvline(x=datetime.strptime(date_end, \"%Y-%m-%d\"),color='green',label='Lift Lockdown')\n",
        "\n",
        "fig.suptitle('Graphs showing at which point should Brazil impose and lift Lockdown')\n",
        "\n",
        "ax0.legend()\n",
        "ax1.legend()\n",
        "plt.show"
      ],
      "execution_count": null,
      "outputs": []
    },
    {
      "cell_type": "markdown",
      "metadata": {
        "id": "UkoM-jDtwJMy"
      },
      "source": [
        "For plotting cases vs deaths in each brazillian capital"
      ]
    },
    {
      "cell_type": "code",
      "metadata": {
        "id": "MOnElbzvYR-t"
      },
      "source": [
        "fig, axes = plt.subplots(9,3, figsize=(20,20))\n",
        "i =br_cap_city['name'].unique()\n",
        "j=0\n",
        "for ax in axes.ravel():\n",
        "  b=br_cap_city[br_cap_city['name']==i[j]]\n",
        "  sns.lineplot(x='cases',y='deaths',data=b,ax=ax)\n",
        "  ax.set_title(i[j])\n",
        "fig.tight_layout()\n",
        "plt.show()"
      ],
      "execution_count": null,
      "outputs": []
    },
    {
      "cell_type": "markdown",
      "metadata": {
        "id": "Z3YrAnJKwFSJ"
      },
      "source": [
        "For plotting covid state wise data of india"
      ]
    },
    {
      "cell_type": "code",
      "metadata": {
        "id": "D0Do2GrZp7Ul"
      },
      "source": [
        "fig, axes = plt.subplots(int((len(df_ind['State/UnionTerritory'].unique())-4)/3),3, figsize=(30,50))\n",
        "i=df_ind['State/UnionTerritory'].unique()\n",
        "j=0\n",
        "for ax in axes.ravel():\n",
        "\n",
        "    if i[j] in ['Cases being reassigned to states','Telangana***', 'Telengana***','Unassigned']:\n",
        "      continue\n",
        "    \n",
        "    b=df_ind[df_ind['State/UnionTerritory']==i[j]]\n",
        "    sns.lineplot(x='Confirmed',y='Deaths',data=b,ax=ax)\n",
        "    ax.set_title(i[j])\n",
        "    j+=1\n",
        "fig.tight_layout()\n",
        "plt.show()"
      ],
      "execution_count": null,
      "outputs": []
    },
    {
      "cell_type": "markdown",
      "metadata": {
        "id": "2UGT-XQsv-qF"
      },
      "source": [
        "Predicting brazillian state covid data using linear regression from Indian state"
      ]
    },
    {
      "cell_type": "code",
      "metadata": {
        "id": "JMHr7Lg-mlFj"
      },
      "source": [
        "min_mse2=[]\n",
        "\n",
        "for j in br_state['state'].unique():\n",
        "  mse={}\n",
        "  x_test=br_state[br_state['state']==j][['cases']]\n",
        "  y_test=br_state[br_state['state']==j][['deaths']]\n",
        "  for i in df_ind['State/UnionTerritory'].unique():\n",
        "    x_train=df_ind[df_ind['State/UnionTerritory']==i][['Confirmed']]\n",
        "    y_train=df_ind[df_ind['State/UnionTerritory']==i]['Deaths']\n",
        "\n",
        "    lreg=LinearRegression()\n",
        "    \n",
        "    x_train_poly=PolynomialFeatures(degree=1).fit_transform(x_train)\n",
        "    x_test_poly=PolynomialFeatures(degree=1).fit_transform(x_test)\n",
        "    lreg.fit(x_train_poly,y_train)\n",
        "    y_pred=lreg.predict(x_test_poly)\n",
        "\n",
        "    mse[i]=mean_absolute_error(y_test,y_pred)\n",
        "  ke=[k for k,v in mse.items() if v==min(mse.values())][0]\n",
        "  min_mse2.append( [ke,j,min(mse.values()) ])\n",
        "pd.DataFrame(min_mse2,columns=['Best State for prediction','State','Error'])"
      ],
      "execution_count": null,
      "outputs": []
    },
    {
      "cell_type": "markdown",
      "metadata": {
        "id": "1h4Epk8SvoJO"
      },
      "source": [
        "Predicting using simple Linear regression for India and Brazil"
      ]
    },
    {
      "cell_type": "code",
      "metadata": {
        "id": "1ob5PmVakTVs"
      },
      "source": [
        "min_mse3=[]\n",
        "\n",
        "for j in br_cap_city_daily['name'].unique()[:20]:   # increase the number of cities here\n",
        "  mse={}\n",
        "  x_test=br_cap_city_daily[br_cap_city['name']==j][['cases']]\n",
        "  y_test=br_cap_city_daily[br_cap_city['name']==j]['deaths']\n",
        "  for i in df_ind_daily['State/UnionTerritory'].unique():\n",
        "    x_train=df_ind_daily[df_ind_daily['State/UnionTerritory']==i][['cases']]\n",
        "    y_train=df_ind_daily[df_ind_daily['State/UnionTerritory']==i]['deaths']\n",
        "\n",
        "    lreg=LinearRegression()\n",
        "    lreg.fit(x_train,y_train)\n",
        "    y_pred=lreg.predict(x_test)\n",
        "\n",
        "    mse[i]=mean_absolute_error(y_test,y_pred)\n",
        "  ke=[k for k,v in mse.items() if v==min(mse.values())][0]\n",
        "  min_mse3.append( [ke,j,min(mse.values()) ])\n",
        "pd.DataFrame(min_mse3,columns=['Best State for prediction','City','Error'])"
      ],
      "execution_count": null,
      "outputs": []
    },
    {
      "cell_type": "markdown",
      "metadata": {
        "id": "vAf2xYOKvTVK"
      },
      "source": [
        "Trying Polynomial regression of daily cases vs daily deaths of India and Brazil"
      ]
    },
    {
      "cell_type": "code",
      "metadata": {
        "id": "l6QccnUKiDsI"
      },
      "source": [
        "min_mse2=[]\n",
        "lreg=LinearRegression()\n",
        "\n",
        "for j in br_cap_city_daily['state'].unique():\n",
        "  mse={}\n",
        "  mse_deg={}\n",
        "  x_test=br_cap_city_daily[br_cap_city_daily['state']==j][['daily cases']]\n",
        "  y_test=br_cap_city_daily[br_cap_city_daily['state']==j]['daily deaths']\n",
        "  for i in df_ind_daily['State/UnionTerritory'].unique():\n",
        "    x_train=df_ind_daily[df_ind_daily['State/UnionTerritory']==i][['daily cases']]\n",
        "    y_train=df_ind_daily[df_ind_daily['State/UnionTerritory']==i]['daily deaths']\n",
        "\n",
        "    \n",
        "    for deg in range(20):\n",
        "      x_train_poly=PolynomialFeatures(degree=deg).fit_transform(x_train)\n",
        "      x_test_poly=PolynomialFeatures(degree=deg).fit_transform(x_test)\n",
        "\n",
        "      lreg.fit(x_train_poly,y_train)\n",
        "      y_pred_poly=lreg.predict(x_test_poly)\n",
        "      mse_deg[deg]=mean_absolute_error(y_test,y_pred_poly)\n",
        "    \n",
        "    deg_ke,val=[[k,v] for k,v in mse_deg.items() if v==min(mse_deg.values())][0]\n",
        "    \n",
        "    mse[deg_ke]=val# trying Polynomial regression of daily cases vs daily deaths of India and Brazil\n",
        "  ke=[k for k,v in mse.items() if v==min(mse.values())][0]\n",
        "  min_mse2.append( [ke,j,min(mse.values()) ])\n",
        "pd.DataFrame(min_mse2,columns=['Best Degree','State','Error'])"
      ],
      "execution_count": null,
      "outputs": []
    },
    {
      "cell_type": "code",
      "metadata": {
        "id": "gmtNd6NaVy3O"
      },
      "source": [
        "# trying Polynomial regression of daily cases vs daily deaths of Italy and Brazil\n",
        "min_mse2=[]\n",
        "lreg=LinearRegression()\n",
        "\n",
        "for j in br_cap_city_daily['name'].unique():\n",
        "  mse={}\n",
        "  mse_deg={}\n",
        "  x_test=br_cap_city_daily[br_cap_city_daily['name']==j][['daily cases']]\n",
        "  y_test=br_cap_city_daily[br_cap_city_daily['name']==j]['daily deaths']\n",
        "  for i in ity_reg['RegionName'].unique():\n",
        "    x_train=ity_reg[ity_reg['RegionName']==i][['TotalPositiveCases']]\n",
        "    y_train=ity_reg[ity_reg['RegionName']==i]['Deaths']\n",
        "\n",
        "    \n",
        "    for deg in range(20):\n",
        "      x_train_poly=PolynomialFeatures(degree=deg).fit_transform(x_train)\n",
        "      x_test_poly=PolynomialFeatures(degree=deg).fit_transform(x_test)\n",
        "\n",
        "      lreg.fit(x_train_poly,y_train)\n",
        "      y_pred_poly=lreg.predict(x_test_poly)\n",
        "      mse_deg[deg]=mean_absolute_error(y_test,y_pred_poly)\n",
        "    \n",
        "    deg_ke,val=[[k,v] for k,v in mse_deg.items() if v==min(mse_deg.values())][0]\n",
        "    \n",
        "    mse[deg_ke]=val\n",
        "  ke=[k for k,v in mse.items() if v==min(mse.values())][0]\n",
        "  min_mse2.append( [ke,j,min(mse.values()) ])\n",
        "print('The data shows that Brazil covid cases can not be predicted by Italy due to different rise in cases')\n",
        "pd.DataFrame(min_mse2,columns=['Best Degree','City','MSE'])"
      ],
      "execution_count": null,
      "outputs": []
    },
    {
      "cell_type": "code",
      "metadata": {
        "id": "RQfJ-vmeL87g"
      },
      "source": [
        "  min_mse2=[]\n",
        "  lreg=LinearRegression()\n",
        "  X=df_ind[df_ind['State/UnionTerritory']=='Delhi'][['Confirmed']]\n",
        "  y=df_ind[df_ind['State/UnionTerritory']=='Delhi']['Deaths']\n",
        "  x_train,x_test,y_train,y_test=train_test_split(X,y,train_size=.8)\n",
        "  mse_deg={}\n",
        "  for deg in range(20):\n",
        "    x_train_poly=PolynomialFeatures(degree=deg).fit_transform(x_train)\n",
        "    x_test_poly=PolynomialFeatures(degree=deg).fit_transform(x_test)\n",
        "\n",
        "    lreg.fit(x_train_poly,y_train)\n",
        "    y_pred_poly=lreg.predict(x_test_poly)\n",
        "    mse_deg[deg]=mean_absolute_error(y_test,y_pred_poly)\n",
        "  best_deg=[k for k,v in mse_deg.items() if v==min(mse_deg.values())][0]\n",
        "  x_train_poly=PolynomialFeatures(degree=best_deg).fit_transform(x_train)\n",
        "  x_test_poly=PolynomialFeatures(degree=best_deg).fit_transform(x_test)\n",
        "\n",
        "  lreg.fit(x_train_poly,y_train)\n",
        "  y_pred_poly=lreg.predict(x_test_poly)\n",
        "  plt.scatter(x_train,y_train,s=5)\n",
        "  plt.scatter(x_test,y_test)\n",
        "  plt.scatter(x_test,y_pred_poly,color='maroon')"
      ],
      "execution_count": null,
      "outputs": []
    },
    {
      "cell_type": "code",
      "metadata": {
        "id": "I_rDF_EDKHT5"
      },
      "source": [
        "#Plot of brazil_old dataset \n",
        "'''                                     Useless : very little data                  '''\n",
        "# for i in br_old['state'].unique():\n",
        "#   b=br_old[br_old['state']==i]\n",
        "#   plt.figure()\n",
        "#   sns.lineplot(x='cases',y='deaths',data=b)\n",
        "#   plt.title(i)\n",
        "#   # plt.xlabel('Cases')\n",
        "#   # plt.ylabel('Deaths')\n",
        "  \n",
        "# plt.show()"
      ],
      "execution_count": null,
      "outputs": []
    },
    {
      "cell_type": "code",
      "metadata": {
        "id": "5ufOmS52EqB2"
      },
      "source": [
        "# trying Neural Network--> of daily cases vs daily deaths of India and Brazil\n",
        "# tf.keras.backend.clear_session()\n",
        "# x_train=df_ind_daily[['daily cases']]\n",
        "# y_train=df_ind_daily['daily deaths']\n",
        "# x_test=br_cap_city_daily[['cases']]\n",
        "# y_test=br_cap_city_daily['deaths']\n",
        "\n",
        "# model = tf.keras.models.Sequential(name='TLP')\n",
        "# n_hidden = 100\n",
        "# n_input = x_train.shape[1]\n",
        "# n_output = 1\n",
        "# model.add(tf.keras.layers.Dense(n_hidden,input_dim=n_input,activation='relu',name='hidden'))\n",
        "# model.add(tf.keras.layers.Dense(n_hidden,activation='relu'))\n",
        "# model.add(tf.keras.layers.Dense(n_output,activation='relu',name='output'))\n",
        "# model.compile(optimizer='sgd',\n",
        "#               loss='mean_absolute_error',\n",
        "#               metrics=['accuracy'])\n",
        "# history = model.fit(x_train, y_train, epochs = 500, validation_split=0.2, batch_size = 16, verbose=0)\n",
        "# train_accuracy = model.evaluate(x_train,y_train)[1]\n",
        "# test_accuracy = model.evaluate(x_test,y_test)[1]\n",
        "# print(f'The training set accuracy for the model is {train_accuracy:0.3f}\\\n",
        "#     \\n The test set accuracy for the model is {test_accuracy:0.3f}')"
      ],
      "execution_count": null,
      "outputs": []
    },
    {
      "cell_type": "code",
      "metadata": {
        "id": "DMAHGQFoeITZ"
      },
      "source": [
        "# # getting daily cases and deaths for India using ---> .diff()\n",
        "# df_ind_daily=df_ind.copy()\n",
        "# # df_ind_daily=df_ind_daily.sort_values(by=['State/UnionTerritory','Date']).reset_index(drop=True)\n",
        "# df_ind_daily['daily cases']=df_ind_daily.Confirmed.diff()\n",
        "# df_ind_daily['daily deaths']=df_ind_daily.Deaths.diff()\n",
        "\n",
        "# a=(df_ind_daily[df_ind_daily['daily cases']<0]).index.tolist()\n",
        "# df_ind_daily=df_ind_daily.drop(a)\n",
        "# b=(df_ind_daily[df_ind_daily['daily deaths']<0]).index.tolist()\n",
        "# df_ind_daily=df_ind_daily.drop(b)\n",
        "# df_ind_daily.dropna(inplace=True)"
      ],
      "execution_count": null,
      "outputs": []
    },
    {
      "cell_type": "code",
      "metadata": {
        "id": "M9R0xSkbi6qO"
      },
      "source": [
        "# with ZipFile('/content/drive/MyDrive/Colab Notebooks/Data.zip','r') as zip:\n",
        "#     zip.extractall(path='/content')"
      ],
      "execution_count": null,
      "outputs": []
    },
    {
      "cell_type": "markdown",
      "metadata": {
        "id": "cyXj_JTajI4_",
        "papermill": {
          "duration": 0.040831,
          "end_time": "2021-08-27T07:07:28.984189",
          "exception": false,
          "start_time": "2021-08-27T07:07:28.943358",
          "status": "completed"
        },
        "tags": []
      },
      "source": [
        "# South Korea - EDA\n",
        "\n",
        "---\n",
        "\n",
        "\n",
        "**EXPLORATORY DATA ANALYSIS - SOUTH KOREA**\n"
      ]
    },
    {
      "cell_type": "code",
      "metadata": {
        "execution": {
          "iopub.execute_input": "2021-08-27T07:07:30.132310Z",
          "iopub.status.busy": "2021-08-27T07:07:30.131713Z",
          "iopub.status.idle": "2021-08-27T07:07:30.187991Z",
          "shell.execute_reply": "2021-08-27T07:07:30.188484Z"
        },
        "id": "38UsVXzFjVR0",
        "papermill": {
          "duration": 0.108757,
          "end_time": "2021-08-27T07:07:30.188618",
          "exception": false,
          "start_time": "2021-08-27T07:07:30.079861",
          "status": "completed"
        },
        "tags": [],
        "outputId": "145f5620-7a4e-45e8-ea13-097c3a422834"
      },
      "source": [
        "data = pd.read_csv('C:/Users/test/Downloads/archive(2)/PatientInfo.csv')\n",
        "# To display the top 5 rows\n",
        "data.head(5)"
      ],
      "execution_count": null,
      "outputs": [
        {
          "data": {
            "text/html": [
              "<div>\n",
              "<style scoped>\n",
              "    .dataframe tbody tr th:only-of-type {\n",
              "        vertical-align: middle;\n",
              "    }\n",
              "\n",
              "    .dataframe tbody tr th {\n",
              "        vertical-align: top;\n",
              "    }\n",
              "\n",
              "    .dataframe thead th {\n",
              "        text-align: right;\n",
              "    }\n",
              "</style>\n",
              "<table border=\"1\" class=\"dataframe\">\n",
              "  <thead>\n",
              "    <tr style=\"text-align: right;\">\n",
              "      <th></th>\n",
              "      <th>patient_id</th>\n",
              "      <th>sex</th>\n",
              "      <th>age</th>\n",
              "      <th>country</th>\n",
              "      <th>province</th>\n",
              "      <th>city</th>\n",
              "      <th>infection_case</th>\n",
              "      <th>infected_by</th>\n",
              "      <th>contact_number</th>\n",
              "      <th>symptom_onset_date</th>\n",
              "      <th>confirmed_date</th>\n",
              "      <th>released_date</th>\n",
              "      <th>deceased_date</th>\n",
              "      <th>state</th>\n",
              "    </tr>\n",
              "  </thead>\n",
              "  <tbody>\n",
              "    <tr>\n",
              "      <td>0</td>\n",
              "      <td>1000000001</td>\n",
              "      <td>male</td>\n",
              "      <td>50s</td>\n",
              "      <td>Korea</td>\n",
              "      <td>Seoul</td>\n",
              "      <td>Gangseo-gu</td>\n",
              "      <td>overseas inflow</td>\n",
              "      <td>NaN</td>\n",
              "      <td>75</td>\n",
              "      <td>2020-01-22</td>\n",
              "      <td>2020-01-23</td>\n",
              "      <td>2020-02-05</td>\n",
              "      <td>NaN</td>\n",
              "      <td>released</td>\n",
              "    </tr>\n",
              "    <tr>\n",
              "      <td>1</td>\n",
              "      <td>1000000002</td>\n",
              "      <td>male</td>\n",
              "      <td>30s</td>\n",
              "      <td>Korea</td>\n",
              "      <td>Seoul</td>\n",
              "      <td>Jungnang-gu</td>\n",
              "      <td>overseas inflow</td>\n",
              "      <td>NaN</td>\n",
              "      <td>31</td>\n",
              "      <td>NaN</td>\n",
              "      <td>2020-01-30</td>\n",
              "      <td>2020-03-02</td>\n",
              "      <td>NaN</td>\n",
              "      <td>released</td>\n",
              "    </tr>\n",
              "    <tr>\n",
              "      <td>2</td>\n",
              "      <td>1000000003</td>\n",
              "      <td>male</td>\n",
              "      <td>50s</td>\n",
              "      <td>Korea</td>\n",
              "      <td>Seoul</td>\n",
              "      <td>Jongno-gu</td>\n",
              "      <td>contact with patient</td>\n",
              "      <td>2002000001</td>\n",
              "      <td>17</td>\n",
              "      <td>NaN</td>\n",
              "      <td>2020-01-30</td>\n",
              "      <td>2020-02-19</td>\n",
              "      <td>NaN</td>\n",
              "      <td>released</td>\n",
              "    </tr>\n",
              "    <tr>\n",
              "      <td>3</td>\n",
              "      <td>1000000004</td>\n",
              "      <td>male</td>\n",
              "      <td>20s</td>\n",
              "      <td>Korea</td>\n",
              "      <td>Seoul</td>\n",
              "      <td>Mapo-gu</td>\n",
              "      <td>overseas inflow</td>\n",
              "      <td>NaN</td>\n",
              "      <td>9</td>\n",
              "      <td>2020-01-26</td>\n",
              "      <td>2020-01-30</td>\n",
              "      <td>2020-02-15</td>\n",
              "      <td>NaN</td>\n",
              "      <td>released</td>\n",
              "    </tr>\n",
              "    <tr>\n",
              "      <td>4</td>\n",
              "      <td>1000000005</td>\n",
              "      <td>female</td>\n",
              "      <td>20s</td>\n",
              "      <td>Korea</td>\n",
              "      <td>Seoul</td>\n",
              "      <td>Seongbuk-gu</td>\n",
              "      <td>contact with patient</td>\n",
              "      <td>1000000002</td>\n",
              "      <td>2</td>\n",
              "      <td>NaN</td>\n",
              "      <td>2020-01-31</td>\n",
              "      <td>2020-02-24</td>\n",
              "      <td>NaN</td>\n",
              "      <td>released</td>\n",
              "    </tr>\n",
              "  </tbody>\n",
              "</table>\n",
              "</div>"
            ],
            "text/plain": [
              "   patient_id     sex  age country province         city  \\\n",
              "0  1000000001    male  50s   Korea    Seoul   Gangseo-gu   \n",
              "1  1000000002    male  30s   Korea    Seoul  Jungnang-gu   \n",
              "2  1000000003    male  50s   Korea    Seoul    Jongno-gu   \n",
              "3  1000000004    male  20s   Korea    Seoul      Mapo-gu   \n",
              "4  1000000005  female  20s   Korea    Seoul  Seongbuk-gu   \n",
              "\n",
              "         infection_case infected_by contact_number symptom_onset_date  \\\n",
              "0       overseas inflow         NaN             75         2020-01-22   \n",
              "1       overseas inflow         NaN             31                NaN   \n",
              "2  contact with patient  2002000001             17                NaN   \n",
              "3       overseas inflow         NaN              9         2020-01-26   \n",
              "4  contact with patient  1000000002              2                NaN   \n",
              "\n",
              "  confirmed_date released_date deceased_date     state  \n",
              "0     2020-01-23    2020-02-05           NaN  released  \n",
              "1     2020-01-30    2020-03-02           NaN  released  \n",
              "2     2020-01-30    2020-02-19           NaN  released  \n",
              "3     2020-01-30    2020-02-15           NaN  released  \n",
              "4     2020-01-31    2020-02-24           NaN  released  "
            ]
          },
          "execution_count": 2,
          "metadata": {},
          "output_type": "execute_result"
        }
      ]
    },
    {
      "cell_type": "code",
      "metadata": {
        "execution": {
          "iopub.execute_input": "2021-08-27T07:07:30.276007Z",
          "iopub.status.busy": "2021-08-27T07:07:30.275329Z",
          "iopub.status.idle": "2021-08-27T07:07:30.279100Z",
          "shell.execute_reply": "2021-08-27T07:07:30.278541Z"
        },
        "id": "4tY5IKfjzXh9",
        "papermill": {
          "duration": 0.048955,
          "end_time": "2021-08-27T07:07:30.279199",
          "exception": false,
          "start_time": "2021-08-27T07:07:30.230244",
          "status": "completed"
        },
        "tags": [],
        "outputId": "9c893118-4c28-42d8-b56d-3907c43c4903"
      },
      "source": [
        "data.shape"
      ],
      "execution_count": null,
      "outputs": [
        {
          "data": {
            "text/plain": [
              "(5165, 14)"
            ]
          },
          "execution_count": 3,
          "metadata": {},
          "output_type": "execute_result"
        }
      ]
    },
    {
      "cell_type": "markdown",
      "metadata": {
        "id": "yYN79EKEL1G4",
        "papermill": {
          "duration": 0.040954,
          "end_time": "2021-08-27T07:07:30.361963",
          "exception": false,
          "start_time": "2021-08-27T07:07:30.321009",
          "status": "completed"
        },
        "tags": []
      },
      "source": [
        "The data consists of 5165 rows and 14 columns."
      ]
    },
    {
      "cell_type": "code",
      "metadata": {
        "execution": {
          "iopub.execute_input": "2021-08-27T07:07:30.452142Z",
          "iopub.status.busy": "2021-08-27T07:07:30.451532Z",
          "iopub.status.idle": "2021-08-27T07:07:30.462829Z",
          "shell.execute_reply": "2021-08-27T07:07:30.462192Z"
        },
        "id": "-TL9L7m-zZiG",
        "papermill": {
          "duration": 0.059085,
          "end_time": "2021-08-27T07:07:30.462935",
          "exception": false,
          "start_time": "2021-08-27T07:07:30.403850",
          "status": "completed"
        },
        "tags": [],
        "outputId": "2b558ec5-8cd5-43c1-95d7-6295eba1099e"
      },
      "source": [
        "data.info"
      ],
      "execution_count": null,
      "outputs": [
        {
          "data": {
            "text/plain": [
              "<bound method DataFrame.info of       patient_id     sex  age     country province         city  \\\n",
              "0     1000000001    male  50s       Korea    Seoul   Gangseo-gu   \n",
              "1     1000000002    male  30s       Korea    Seoul  Jungnang-gu   \n",
              "2     1000000003    male  50s       Korea    Seoul    Jongno-gu   \n",
              "3     1000000004    male  20s       Korea    Seoul      Mapo-gu   \n",
              "4     1000000005  female  20s       Korea    Seoul  Seongbuk-gu   \n",
              "...          ...     ...  ...         ...      ...          ...   \n",
              "5160  7000000015  female  30s       Korea  Jeju-do      Jeju-do   \n",
              "5161  7000000016     NaN  NaN       Korea  Jeju-do      Jeju-do   \n",
              "5162  7000000017     NaN  NaN  Bangladesh  Jeju-do      Jeju-do   \n",
              "5163  7000000018     NaN  NaN  Bangladesh  Jeju-do      Jeju-do   \n",
              "5164  7000000019     NaN  NaN  Bangladesh  Jeju-do      Jeju-do   \n",
              "\n",
              "            infection_case infected_by contact_number symptom_onset_date  \\\n",
              "0          overseas inflow         NaN             75         2020-01-22   \n",
              "1          overseas inflow         NaN             31                NaN   \n",
              "2     contact with patient  2002000001             17                NaN   \n",
              "3          overseas inflow         NaN              9         2020-01-26   \n",
              "4     contact with patient  1000000002              2                NaN   \n",
              "...                    ...         ...            ...                ...   \n",
              "5160       overseas inflow         NaN             25                NaN   \n",
              "5161       overseas inflow         NaN            NaN                NaN   \n",
              "5162       overseas inflow         NaN             72                NaN   \n",
              "5163       overseas inflow         NaN            NaN                NaN   \n",
              "5164       overseas inflow         NaN            NaN                NaN   \n",
              "\n",
              "     confirmed_date released_date deceased_date     state  \n",
              "0        2020-01-23    2020-02-05           NaN  released  \n",
              "1        2020-01-30    2020-03-02           NaN  released  \n",
              "2        2020-01-30    2020-02-19           NaN  released  \n",
              "3        2020-01-30    2020-02-15           NaN  released  \n",
              "4        2020-01-31    2020-02-24           NaN  released  \n",
              "...             ...           ...           ...       ...  \n",
              "5160     2020-05-30    2020-06-13           NaN  released  \n",
              "5161     2020-06-16    2020-06-24           NaN  released  \n",
              "5162     2020-06-18           NaN           NaN  isolated  \n",
              "5163     2020-06-18           NaN           NaN  isolated  \n",
              "5164     2020-06-18           NaN           NaN  isolated  \n",
              "\n",
              "[5165 rows x 14 columns]>"
            ]
          },
          "execution_count": 4,
          "metadata": {},
          "output_type": "execute_result"
        }
      ]
    },
    {
      "cell_type": "markdown",
      "metadata": {
        "id": "LXcFRAk1QsLQ",
        "papermill": {
          "duration": 0.042203,
          "end_time": "2021-08-27T07:07:30.546730",
          "exception": false,
          "start_time": "2021-08-27T07:07:30.504527",
          "status": "completed"
        },
        "tags": []
      },
      "source": [
        "The detailed info of data."
      ]
    },
    {
      "cell_type": "code",
      "metadata": {
        "execution": {
          "iopub.execute_input": "2021-08-27T07:07:30.634631Z",
          "iopub.status.busy": "2021-08-27T07:07:30.633687Z",
          "iopub.status.idle": "2021-08-27T07:07:30.640723Z",
          "shell.execute_reply": "2021-08-27T07:07:30.641254Z"
        },
        "id": "6ddP8qmh5Dc9",
        "papermill": {
          "duration": 0.052252,
          "end_time": "2021-08-27T07:07:30.641384",
          "exception": false,
          "start_time": "2021-08-27T07:07:30.589132",
          "status": "completed"
        },
        "tags": [],
        "outputId": "4fdef7a4-d63a-47d8-dc60-1c57960133b5"
      },
      "source": [
        "data.dtypes"
      ],
      "execution_count": null,
      "outputs": [
        {
          "data": {
            "text/plain": [
              "patient_id             int64\n",
              "sex                   object\n",
              "age                   object\n",
              "country               object\n",
              "province              object\n",
              "city                  object\n",
              "infection_case        object\n",
              "infected_by           object\n",
              "contact_number        object\n",
              "symptom_onset_date    object\n",
              "confirmed_date        object\n",
              "released_date         object\n",
              "deceased_date         object\n",
              "state                 object\n",
              "dtype: object"
            ]
          },
          "execution_count": 5,
          "metadata": {},
          "output_type": "execute_result"
        }
      ]
    },
    {
      "cell_type": "markdown",
      "metadata": {
        "id": "todVkGUtQw22",
        "papermill": {
          "duration": 0.0421,
          "end_time": "2021-08-27T07:07:30.725664",
          "exception": false,
          "start_time": "2021-08-27T07:07:30.683564",
          "status": "completed"
        },
        "tags": []
      },
      "source": [
        "The data types of various columns."
      ]
    },
    {
      "cell_type": "markdown",
      "metadata": {
        "id": "VLzb_D0k1Inv",
        "papermill": {
          "duration": 0.042343,
          "end_time": "2021-08-27T07:07:30.809769",
          "exception": false,
          "start_time": "2021-08-27T07:07:30.767426",
          "status": "completed"
        },
        "tags": []
      },
      "source": [
        "## ***Cleaning data*** "
      ]
    },
    {
      "cell_type": "code",
      "metadata": {
        "execution": {
          "iopub.execute_input": "2021-08-27T07:07:30.900338Z",
          "iopub.status.busy": "2021-08-27T07:07:30.899396Z",
          "iopub.status.idle": "2021-08-27T07:07:30.914242Z",
          "shell.execute_reply": "2021-08-27T07:07:30.913534Z"
        },
        "id": "nNccJD9y1X72",
        "papermill": {
          "duration": 0.060209,
          "end_time": "2021-08-27T07:07:30.914371",
          "exception": false,
          "start_time": "2021-08-27T07:07:30.854162",
          "status": "completed"
        },
        "tags": [],
        "outputId": "8a430c91-69e1-46cc-88db-1ec77d986499"
      },
      "source": [
        "data.isnull().sum()"
      ],
      "execution_count": null,
      "outputs": [
        {
          "data": {
            "text/plain": [
              "patient_id               0\n",
              "sex                   1122\n",
              "age                   1380\n",
              "country                  0\n",
              "province                 0\n",
              "city                    94\n",
              "infection_case         919\n",
              "infected_by           3819\n",
              "contact_number        4374\n",
              "symptom_onset_date    4475\n",
              "confirmed_date           3\n",
              "released_date         3578\n",
              "deceased_date         5099\n",
              "state                    0\n",
              "dtype: int64"
            ]
          },
          "execution_count": 6,
          "metadata": {},
          "output_type": "execute_result"
        }
      ]
    },
    {
      "cell_type": "markdown",
      "metadata": {
        "id": "Qtcogh5PQ5iK",
        "papermill": {
          "duration": 0.04348,
          "end_time": "2021-08-27T07:07:31.001388",
          "exception": false,
          "start_time": "2021-08-27T07:07:30.957908",
          "status": "completed"
        },
        "tags": []
      },
      "source": [
        "The sum of null values are depicted above."
      ]
    },
    {
      "cell_type": "markdown",
      "metadata": {
        "papermill": {
          "duration": 0.043049,
          "end_time": "2021-08-27T07:07:31.088005",
          "exception": false,
          "start_time": "2021-08-27T07:07:31.044956",
          "status": "completed"
        },
        "tags": [],
        "id": "pY4CljnftolS"
      },
      "source": [
        "<br><b>Extracting the numeric value from range -</b>"
      ]
    },
    {
      "cell_type": "code",
      "metadata": {
        "execution": {
          "iopub.execute_input": "2021-08-27T07:07:31.190171Z",
          "iopub.status.busy": "2021-08-27T07:07:31.189503Z",
          "iopub.status.idle": "2021-08-27T07:07:31.215731Z",
          "shell.execute_reply": "2021-08-27T07:07:31.216235Z"
        },
        "id": "PPvvQh2RX0TW",
        "papermill": {
          "duration": 0.084856,
          "end_time": "2021-08-27T07:07:31.216372",
          "exception": false,
          "start_time": "2021-08-27T07:07:31.131516",
          "status": "completed"
        },
        "tags": [],
        "outputId": "f6fe9b7d-4b1e-4adc-c508-9e9fbbec44cb"
      },
      "source": [
        "data['age_range_numeric'] = data.age.str[:2]\n",
        "data.head()"
      ],
      "execution_count": null,
      "outputs": [
        {
          "data": {
            "text/html": [
              "<div>\n",
              "<style scoped>\n",
              "    .dataframe tbody tr th:only-of-type {\n",
              "        vertical-align: middle;\n",
              "    }\n",
              "\n",
              "    .dataframe tbody tr th {\n",
              "        vertical-align: top;\n",
              "    }\n",
              "\n",
              "    .dataframe thead th {\n",
              "        text-align: right;\n",
              "    }\n",
              "</style>\n",
              "<table border=\"1\" class=\"dataframe\">\n",
              "  <thead>\n",
              "    <tr style=\"text-align: right;\">\n",
              "      <th></th>\n",
              "      <th>patient_id</th>\n",
              "      <th>sex</th>\n",
              "      <th>age</th>\n",
              "      <th>country</th>\n",
              "      <th>province</th>\n",
              "      <th>city</th>\n",
              "      <th>infection_case</th>\n",
              "      <th>infected_by</th>\n",
              "      <th>contact_number</th>\n",
              "      <th>symptom_onset_date</th>\n",
              "      <th>confirmed_date</th>\n",
              "      <th>released_date</th>\n",
              "      <th>deceased_date</th>\n",
              "      <th>state</th>\n",
              "      <th>age_range_numeric</th>\n",
              "    </tr>\n",
              "  </thead>\n",
              "  <tbody>\n",
              "    <tr>\n",
              "      <td>0</td>\n",
              "      <td>1000000001</td>\n",
              "      <td>male</td>\n",
              "      <td>50s</td>\n",
              "      <td>Korea</td>\n",
              "      <td>Seoul</td>\n",
              "      <td>Gangseo-gu</td>\n",
              "      <td>overseas inflow</td>\n",
              "      <td>NaN</td>\n",
              "      <td>75</td>\n",
              "      <td>2020-01-22</td>\n",
              "      <td>2020-01-23</td>\n",
              "      <td>2020-02-05</td>\n",
              "      <td>NaN</td>\n",
              "      <td>released</td>\n",
              "      <td>50</td>\n",
              "    </tr>\n",
              "    <tr>\n",
              "      <td>1</td>\n",
              "      <td>1000000002</td>\n",
              "      <td>male</td>\n",
              "      <td>30s</td>\n",
              "      <td>Korea</td>\n",
              "      <td>Seoul</td>\n",
              "      <td>Jungnang-gu</td>\n",
              "      <td>overseas inflow</td>\n",
              "      <td>NaN</td>\n",
              "      <td>31</td>\n",
              "      <td>NaN</td>\n",
              "      <td>2020-01-30</td>\n",
              "      <td>2020-03-02</td>\n",
              "      <td>NaN</td>\n",
              "      <td>released</td>\n",
              "      <td>30</td>\n",
              "    </tr>\n",
              "    <tr>\n",
              "      <td>2</td>\n",
              "      <td>1000000003</td>\n",
              "      <td>male</td>\n",
              "      <td>50s</td>\n",
              "      <td>Korea</td>\n",
              "      <td>Seoul</td>\n",
              "      <td>Jongno-gu</td>\n",
              "      <td>contact with patient</td>\n",
              "      <td>2002000001</td>\n",
              "      <td>17</td>\n",
              "      <td>NaN</td>\n",
              "      <td>2020-01-30</td>\n",
              "      <td>2020-02-19</td>\n",
              "      <td>NaN</td>\n",
              "      <td>released</td>\n",
              "      <td>50</td>\n",
              "    </tr>\n",
              "    <tr>\n",
              "      <td>3</td>\n",
              "      <td>1000000004</td>\n",
              "      <td>male</td>\n",
              "      <td>20s</td>\n",
              "      <td>Korea</td>\n",
              "      <td>Seoul</td>\n",
              "      <td>Mapo-gu</td>\n",
              "      <td>overseas inflow</td>\n",
              "      <td>NaN</td>\n",
              "      <td>9</td>\n",
              "      <td>2020-01-26</td>\n",
              "      <td>2020-01-30</td>\n",
              "      <td>2020-02-15</td>\n",
              "      <td>NaN</td>\n",
              "      <td>released</td>\n",
              "      <td>20</td>\n",
              "    </tr>\n",
              "    <tr>\n",
              "      <td>4</td>\n",
              "      <td>1000000005</td>\n",
              "      <td>female</td>\n",
              "      <td>20s</td>\n",
              "      <td>Korea</td>\n",
              "      <td>Seoul</td>\n",
              "      <td>Seongbuk-gu</td>\n",
              "      <td>contact with patient</td>\n",
              "      <td>1000000002</td>\n",
              "      <td>2</td>\n",
              "      <td>NaN</td>\n",
              "      <td>2020-01-31</td>\n",
              "      <td>2020-02-24</td>\n",
              "      <td>NaN</td>\n",
              "      <td>released</td>\n",
              "      <td>20</td>\n",
              "    </tr>\n",
              "  </tbody>\n",
              "</table>\n",
              "</div>"
            ],
            "text/plain": [
              "   patient_id     sex  age country province         city  \\\n",
              "0  1000000001    male  50s   Korea    Seoul   Gangseo-gu   \n",
              "1  1000000002    male  30s   Korea    Seoul  Jungnang-gu   \n",
              "2  1000000003    male  50s   Korea    Seoul    Jongno-gu   \n",
              "3  1000000004    male  20s   Korea    Seoul      Mapo-gu   \n",
              "4  1000000005  female  20s   Korea    Seoul  Seongbuk-gu   \n",
              "\n",
              "         infection_case infected_by contact_number symptom_onset_date  \\\n",
              "0       overseas inflow         NaN             75         2020-01-22   \n",
              "1       overseas inflow         NaN             31                NaN   \n",
              "2  contact with patient  2002000001             17                NaN   \n",
              "3       overseas inflow         NaN              9         2020-01-26   \n",
              "4  contact with patient  1000000002              2                NaN   \n",
              "\n",
              "  confirmed_date released_date deceased_date     state age_range_numeric  \n",
              "0     2020-01-23    2020-02-05           NaN  released                50  \n",
              "1     2020-01-30    2020-03-02           NaN  released                30  \n",
              "2     2020-01-30    2020-02-19           NaN  released                50  \n",
              "3     2020-01-30    2020-02-15           NaN  released                20  \n",
              "4     2020-01-31    2020-02-24           NaN  released                20  "
            ]
          },
          "execution_count": 7,
          "metadata": {},
          "output_type": "execute_result"
        }
      ]
    },
    {
      "cell_type": "markdown",
      "metadata": {
        "papermill": {
          "duration": 0.042936,
          "end_time": "2021-08-27T07:07:31.306231",
          "exception": false,
          "start_time": "2021-08-27T07:07:31.263295",
          "status": "completed"
        },
        "tags": [],
        "id": "O5tu4yNItolZ"
      },
      "source": [
        "<br><br><b>Converting the numerical value to float: </b>"
      ]
    },
    {
      "cell_type": "code",
      "metadata": {
        "execution": {
          "iopub.execute_input": "2021-08-27T07:07:31.403254Z",
          "iopub.status.busy": "2021-08-27T07:07:31.402626Z",
          "iopub.status.idle": "2021-08-27T07:07:31.407398Z",
          "shell.execute_reply": "2021-08-27T07:07:31.408012Z"
        },
        "id": "jp6HY28IYxSE",
        "papermill": {
          "duration": 0.05827,
          "end_time": "2021-08-27T07:07:31.408149",
          "exception": false,
          "start_time": "2021-08-27T07:07:31.349879",
          "status": "completed"
        },
        "tags": []
      },
      "source": [
        "def stringremover(doc):\n",
        "    l = doc.split()\n",
        "    for i in l:\n",
        "        try:\n",
        "            num = float(i)\n",
        "            return num\n",
        "        except:\n",
        "            continue"
      ],
      "execution_count": null,
      "outputs": []
    },
    {
      "cell_type": "code",
      "metadata": {
        "execution": {
          "iopub.execute_input": "2021-08-27T07:07:31.503397Z",
          "iopub.status.busy": "2021-08-27T07:07:31.502775Z",
          "iopub.status.idle": "2021-08-27T07:07:31.564000Z",
          "shell.execute_reply": "2021-08-27T07:07:31.564541Z"
        },
        "id": "899eUvJbq516",
        "papermill": {
          "duration": 0.110722,
          "end_time": "2021-08-27T07:07:31.564716",
          "exception": false,
          "start_time": "2021-08-27T07:07:31.453994",
          "status": "completed"
        },
        "tags": []
      },
      "source": [
        "contactn=[]\n",
        "data['contact_number'] = data['contact_number'].fillna(\"0.0\")\n",
        "for i in range(len(data['contact_number'])):\n",
        "    doc = data['contact_number'][i]\n",
        "    res = stringremover(doc)\n",
        "    contactn.append(res)\n",
        "data['contact_number']=contactn"
      ],
      "execution_count": null,
      "outputs": []
    },
    {
      "cell_type": "code",
      "metadata": {
        "execution": {
          "iopub.execute_input": "2021-08-27T07:07:31.678702Z",
          "iopub.status.busy": "2021-08-27T07:07:31.678054Z",
          "iopub.status.idle": "2021-08-27T07:07:31.739010Z",
          "shell.execute_reply": "2021-08-27T07:07:31.739527Z"
        },
        "id": "axyL2cQMYyDu",
        "papermill": {
          "duration": 0.121033,
          "end_time": "2021-08-27T07:07:31.739674",
          "exception": false,
          "start_time": "2021-08-27T07:07:31.618641",
          "status": "completed"
        },
        "tags": []
      },
      "source": [
        "age = []\n",
        "data['age_range_numeric'] = data['age_range_numeric'].fillna(\"0.0\")\n",
        "for i in range(len(data['age_range_numeric'])):\n",
        "    doc = data['age_range_numeric'][i]\n",
        "    res = stringremover(doc)\n",
        "    age.append(res)\n",
        "data['age_range_numeric'] = age\n"
      ],
      "execution_count": null,
      "outputs": []
    },
    {
      "cell_type": "code",
      "metadata": {
        "execution": {
          "iopub.execute_input": "2021-08-27T07:07:31.830891Z",
          "iopub.status.busy": "2021-08-27T07:07:31.830283Z",
          "iopub.status.idle": "2021-08-27T07:07:31.863660Z",
          "shell.execute_reply": "2021-08-27T07:07:31.864130Z"
        },
        "id": "D1pYlFe8hAoj",
        "papermill": {
          "duration": 0.080575,
          "end_time": "2021-08-27T07:07:31.864287",
          "exception": false,
          "start_time": "2021-08-27T07:07:31.783712",
          "status": "completed"
        },
        "tags": []
      },
      "source": [
        "data.drop(data[data['age'] == \"0s\"].index, inplace = True)\n",
        "data.drop(data[data['age_range_numeric'] == 0.0].index, inplace = True)\n",
        "data.drop(data[data['contact_number'] == 0.0].index, inplace = True)"
      ],
      "execution_count": null,
      "outputs": []
    },
    {
      "cell_type": "markdown",
      "metadata": {
        "id": "ZES6hCUi3MRy",
        "papermill": {
          "duration": 0.043869,
          "end_time": "2021-08-27T07:07:32.039788",
          "exception": false,
          "start_time": "2021-08-27T07:07:31.995919",
          "status": "completed"
        },
        "tags": []
      },
      "source": [
        "<br><b>ANALYSIS ON INFECTION CASE</b>"
      ]
    },
    {
      "cell_type": "code",
      "metadata": {
        "execution": {
          "iopub.execute_input": "2021-08-27T07:07:32.131506Z",
          "iopub.status.busy": "2021-08-27T07:07:32.130893Z",
          "iopub.status.idle": "2021-08-27T07:07:32.136129Z",
          "shell.execute_reply": "2021-08-27T07:07:32.136637Z"
        },
        "id": "fbWQp2Ws1ZIJ",
        "papermill": {
          "duration": 0.052721,
          "end_time": "2021-08-27T07:07:32.136783",
          "exception": false,
          "start_time": "2021-08-27T07:07:32.084062",
          "status": "completed"
        },
        "tags": [],
        "outputId": "4efa8ecb-86ce-43f6-b1b2-2dde39156d5b"
      },
      "source": [
        "data['infection_case'].unique()"
      ],
      "execution_count": null,
      "outputs": [
        {
          "data": {
            "text/plain": [
              "array(['overseas inflow', 'contact with patient', 'Seongdong-gu APT',\n",
              "       'Onchun Church', 'etc', 'Shincheonji Church',\n",
              "       'Cheongdo Daenam Hospital', 'Suyeong-gu Kindergarten', nan,\n",
              "       'Orange Town', 'Dunsan Electronics Town',\n",
              "       'gym facility in Cheonan', 'gym facility in Sejong',\n",
              "       'Ministry of Oceans and Fisheries', 'Itaewon Clubs',\n",
              "       'River of Grace Community Church', 'Richway'], dtype=object)"
            ]
          },
          "execution_count": 12,
          "metadata": {},
          "output_type": "execute_result"
        }
      ]
    },
    {
      "cell_type": "markdown",
      "metadata": {
        "id": "R6rYC_zSP-hN",
        "papermill": {
          "duration": 0.044434,
          "end_time": "2021-08-27T07:07:32.227464",
          "exception": false,
          "start_time": "2021-08-27T07:07:32.183030",
          "status": "completed"
        },
        "tags": []
      },
      "source": [
        "This is the list of factors of infection."
      ]
    },
    {
      "cell_type": "code",
      "metadata": {
        "execution": {
          "iopub.execute_input": "2021-08-27T07:07:32.320861Z",
          "iopub.status.busy": "2021-08-27T07:07:32.320218Z",
          "iopub.status.idle": "2021-08-27T07:07:32.581884Z",
          "shell.execute_reply": "2021-08-27T07:07:32.582380Z"
        },
        "id": "mLAEZD8G2Ced",
        "papermill": {
          "duration": 0.310577,
          "end_time": "2021-08-27T07:07:32.582530",
          "exception": false,
          "start_time": "2021-08-27T07:07:32.271953",
          "status": "completed"
        },
        "tags": [],
        "outputId": "9a379f3e-d3b5-4304-8c9a-42490e034b63"
      },
      "source": [
        "data.infection_case.value_counts().plot.bar()\n",
        "plt.title(\"INFECTION CASE\")\n",
        "plt.xlabel(\"infection case\")\n",
        "plt.ylabel(\"count\")"
      ],
      "execution_count": null,
      "outputs": [
        {
          "data": {
            "text/plain": [
              "Text(0, 0.5, 'count')"
            ]
          },
          "execution_count": 13,
          "metadata": {},
          "output_type": "execute_result"
        },
        {
          "data": {
            "image/png": "[encoded data removed]",
            "text/plain": [
              "<Figure size 432x288 with 1 Axes>"
            ]
          },
          "metadata": {
            "needs_background": "light"
          },
          "output_type": "display_data"
        }
      ]
    },
    {
      "cell_type": "markdown",
      "metadata": {
        "id": "Dl1BlPMTEeR4",
        "papermill": {
          "duration": 0.045571,
          "end_time": "2021-08-27T07:07:32.676246",
          "exception": false,
          "start_time": "2021-08-27T07:07:32.630675",
          "status": "completed"
        },
        "tags": []
      },
      "source": [
        "The graph shows the various infection cases from which people got infected and their respective frequency.\n",
        "On analyzing the infection case, it can be observed that more number of patients are affected by coming in contact with the other patients followed by overseas inflow"
      ]
    },
    {
      "cell_type": "markdown",
      "metadata": {
        "id": "19jJbrMP9xzg",
        "papermill": {
          "duration": 0.045764,
          "end_time": "2021-08-27T07:07:32.767745",
          "exception": false,
          "start_time": "2021-08-27T07:07:32.721981",
          "status": "completed"
        },
        "tags": []
      },
      "source": [
        "<br><b>ANALYSIS ON GENDER</b>"
      ]
    },
    {
      "cell_type": "code",
      "metadata": {
        "execution": {
          "iopub.execute_input": "2021-08-27T07:07:32.863272Z",
          "iopub.status.busy": "2021-08-27T07:07:32.862664Z",
          "iopub.status.idle": "2021-08-27T07:07:32.918266Z",
          "shell.execute_reply": "2021-08-27T07:07:32.918765Z"
        },
        "id": "fZxNDA0z2cFX",
        "papermill": {
          "duration": 0.105569,
          "end_time": "2021-08-27T07:07:32.918902",
          "exception": false,
          "start_time": "2021-08-27T07:07:32.813333",
          "status": "completed"
        },
        "tags": [],
        "outputId": "c93b6058-fc05-4516-ba01-4dfed8a82aa7"
      },
      "source": [
        "data.sex.value_counts().plot.pie(autopct=\"%0.2f%%\")\n",
        "plt.title(\"Gender ratio\")"
      ],
      "execution_count": null,
      "outputs": [
        {
          "data": {
            "text/plain": [
              "Text(0.5, 1.0, 'Gender ratio')"
            ]
          },
          "execution_count": 14,
          "metadata": {},
          "output_type": "execute_result"
        },
        {
          "data": {
            "image/png": "[encoded data removed]",
            "text/plain": [
              "<Figure size 432x288 with 1 Axes>"
            ]
          },
          "metadata": {},
          "output_type": "display_data"
        }
      ]
    },
    {
      "cell_type": "markdown",
      "metadata": {
        "id": "pS2S-0oFEwby",
        "papermill": {
          "duration": 0.04778,
          "end_time": "2021-08-27T07:07:33.014086",
          "exception": false,
          "start_time": "2021-08-27T07:07:32.966306",
          "status": "completed"
        },
        "tags": []
      },
      "source": [
        "The plot gives us an understanding of sex ratio of patients. It can be noticed that nearly equal number of men and women are becoming victim of this pandemic."
      ]
    },
    {
      "cell_type": "markdown",
      "metadata": {
        "id": "FcmeY_PW3Vuu",
        "papermill": {
          "duration": 0.047156,
          "end_time": "2021-08-27T07:07:33.109014",
          "exception": false,
          "start_time": "2021-08-27T07:07:33.061858",
          "status": "completed"
        },
        "tags": []
      },
      "source": [
        "<br><b>ANALYSIS ON CITY</b>"
      ]
    },
    {
      "cell_type": "code",
      "metadata": {
        "execution": {
          "iopub.execute_input": "2021-08-27T07:07:33.222717Z",
          "iopub.status.busy": "2021-08-27T07:07:33.221898Z",
          "iopub.status.idle": "2021-08-27T07:07:33.230256Z",
          "shell.execute_reply": "2021-08-27T07:07:33.230852Z"
        },
        "id": "64NP1w423Y-4",
        "papermill": {
          "duration": 0.069808,
          "end_time": "2021-08-27T07:07:33.231086",
          "exception": false,
          "start_time": "2021-08-27T07:07:33.161278",
          "status": "completed"
        },
        "tags": [],
        "outputId": "0cccd309-6da3-4c68-b229-7c8f0c101cf8"
      },
      "source": [
        "data['city'].unique()"
      ],
      "execution_count": null,
      "outputs": [
        {
          "data": {
            "text/plain": [
              "array(['Gangseo-gu', 'Jungnang-gu', 'Jongno-gu', 'Mapo-gu', 'Seongbuk-gu',\n",
              "       'Songpa-gu', 'Seodaemun-gu', 'Seongdong-gu', 'Dongjak-gu', 'etc',\n",
              "       'Gangnam-gu', 'Dongnae-gu', 'Haeundae-gu', nan, 'Buk-gu', 'Nam-gu',\n",
              "       'Seo-gu', 'Geumjeong-gu', 'Saha-gu', 'Suyeong-gu', 'Sasang-gu',\n",
              "       'Busanjin-gu', 'Yeonje-gu', 'Gijang-gun', 'Dong-gu', 'Yuseong-gu',\n",
              "       'Daedeok-gu', 'Suwon-si', 'Sejong', 'Jung-gu', 'Goyang-si',\n",
              "       'Pyeongtaek-si', 'Bucheon-si', 'Guri-si', 'Siheung-si',\n",
              "       'Anyang-si', 'Gimpo-si', 'Seongnam-si', 'Yongin-si',\n",
              "       'Namyangju-si', 'Gwangju-si', 'Anseong-si', 'Gwacheon-si',\n",
              "       'Dongducheon-si', 'Gunpo-si', 'Wonju-si', 'Hoengseong-gun',\n",
              "       'Cheorwon-gun', 'Gyeryong-si', 'Cheonan-si', 'Asan-si',\n",
              "       'Seosan-si', 'Hongseong-gun', 'Buyeo-gun', 'Seocheon-gun',\n",
              "       'Nonsan-si', 'Gongju-si', 'Gunsan-si', 'Suncheon-si', 'Yeosu-si',\n",
              "       'Gwangyang-si', 'Hwasun-gun', 'Mokpo-si', 'Muan-gun',\n",
              "       'Gyeongsan-si', 'Yeongju-si', 'Jinju-si', 'Jeju-do'], dtype=object)"
            ]
          },
          "execution_count": 15,
          "metadata": {},
          "output_type": "execute_result"
        }
      ]
    },
    {
      "cell_type": "code",
      "metadata": {
        "execution": {
          "iopub.execute_input": "2021-08-27T07:07:33.342971Z",
          "iopub.status.busy": "2021-08-27T07:07:33.342320Z",
          "iopub.status.idle": "2021-08-27T07:07:33.348435Z",
          "shell.execute_reply": "2021-08-27T07:07:33.347849Z"
        },
        "id": "7PSKTa--Pr6J",
        "papermill": {
          "duration": 0.059876,
          "end_time": "2021-08-27T07:07:33.348595",
          "exception": false,
          "start_time": "2021-08-27T07:07:33.288719",
          "status": "completed"
        },
        "tags": [],
        "outputId": "d96f1b77-9565-4b2a-9eca-eed3df854c3e"
      },
      "source": [
        "data['city'].nunique()"
      ],
      "execution_count": null,
      "outputs": [
        {
          "data": {
            "text/plain": [
              "67"
            ]
          },
          "execution_count": 16,
          "metadata": {},
          "output_type": "execute_result"
        }
      ]
    },
    {
      "cell_type": "markdown",
      "metadata": {
        "id": "j8uqUmYlPxB5",
        "papermill": {
          "duration": 0.047959,
          "end_time": "2021-08-27T07:07:33.445876",
          "exception": false,
          "start_time": "2021-08-27T07:07:33.397917",
          "status": "completed"
        },
        "tags": []
      },
      "source": [
        "There are total 67 cities from which people are affected."
      ]
    },
    {
      "cell_type": "code",
      "metadata": {
        "execution": {
          "iopub.execute_input": "2021-08-27T07:07:33.555681Z",
          "iopub.status.busy": "2021-08-27T07:07:33.548144Z",
          "iopub.status.idle": "2021-08-27T07:07:34.564892Z",
          "shell.execute_reply": "2021-08-27T07:07:34.564329Z"
        },
        "id": "VXqtrQQU3fyW",
        "papermill": {
          "duration": 1.070605,
          "end_time": "2021-08-27T07:07:34.565005",
          "exception": false,
          "start_time": "2021-08-27T07:07:33.494400",
          "status": "completed"
        },
        "tags": [],
        "outputId": "c20d249a-a89c-41de-e39e-4a18d719626e"
      },
      "source": [
        "plt.figure(figsize=(25,50))\n",
        "data.city.value_counts().plot(kind='barh')\n",
        "plt.title(\"City count\")\n",
        "plt.xlabel(\"count\")\n",
        "plt.ylabel(\"city\")"
      ],
      "execution_count": null,
      "outputs": [
        {
          "data": {
            "text/plain": [
              "Text(0, 0.5, 'city')"
            ]
          },
          "execution_count": 17,
          "metadata": {},
          "output_type": "execute_result"
        },
        {
          "data": {
            "image/png": "[encoded data removed]",
            "text/plain": [
              "<Figure size 1800x3600 with 1 Axes>"
            ]
          },
          "metadata": {
            "needs_background": "light"
          },
          "output_type": "display_data"
        }
      ]
    },
    {
      "cell_type": "markdown",
      "metadata": {
        "id": "G5OkOl2jE0Th",
        "papermill": {
          "duration": 0.052637,
          "end_time": "2021-08-27T07:07:34.669577",
          "exception": false,
          "start_time": "2021-08-27T07:07:34.616940",
          "status": "completed"
        },
        "tags": []
      },
      "source": [
        "The above bar graph represents the number of people affected city wise.\n",
        "It can be observed that Songpa-gu is the least affected and Cheonan-si  is the most affected(approx 70 people)."
      ]
    },
    {
      "cell_type": "markdown",
      "metadata": {
        "id": "DQqyPn8A32eE",
        "papermill": {
          "duration": 0.05055,
          "end_time": "2021-08-27T07:07:34.771425",
          "exception": false,
          "start_time": "2021-08-27T07:07:34.720875",
          "status": "completed"
        },
        "tags": []
      },
      "source": [
        "<br><b>ANALYSIS ON COUNTRY</b>"
      ]
    },
    {
      "cell_type": "code",
      "metadata": {
        "execution": {
          "iopub.execute_input": "2021-08-27T07:07:34.963656Z",
          "iopub.status.busy": "2021-08-27T07:07:34.962703Z",
          "iopub.status.idle": "2021-08-27T07:07:35.115597Z",
          "shell.execute_reply": "2021-08-27T07:07:35.115064Z"
        },
        "id": "YDJd8zhJ34N4",
        "papermill": {
          "duration": 0.292306,
          "end_time": "2021-08-27T07:07:35.115718",
          "exception": false,
          "start_time": "2021-08-27T07:07:34.823412",
          "status": "completed"
        },
        "tags": [],
        "outputId": "53c6ec1f-0930-48f3-c233-a8a339cbeb91"
      },
      "source": [
        "data.country.value_counts().plot.bar()\n",
        "plt.title(\"Most affected Country\")\n",
        "plt.xlabel(\"country\")\n",
        "plt.ylabel(\"count\")"
      ],
      "execution_count": null,
      "outputs": [
        {
          "data": {
            "text/plain": [
              "Text(0, 0.5, 'count')"
            ]
          },
          "execution_count": 18,
          "metadata": {},
          "output_type": "execute_result"
        },
        {
          "data": {
            "image/png": "[encoded data removed]",
            "text/plain": [
              "<Figure size 432x288 with 1 Axes>"
            ]
          },
          "metadata": {
            "needs_background": "light"
          },
          "output_type": "display_data"
        }
      ]
    },
    {
      "cell_type": "markdown",
      "metadata": {
        "id": "_ii5szFYE2OA",
        "papermill": {
          "duration": 0.051767,
          "end_time": "2021-08-27T07:07:35.219753",
          "exception": false,
          "start_time": "2021-08-27T07:07:35.167986",
          "status": "completed"
        },
        "tags": []
      },
      "source": [
        "The graph shows - Country wise no. of patients. Korea is the most affected country which can be observed on the Y-axis. The number of people from other countries are almost negligible probably because the survey was conducted in Korea."
      ]
    },
    {
      "cell_type": "markdown",
      "metadata": {
        "id": "pAOlGhCQ9-rp",
        "papermill": {
          "duration": 0.05179,
          "end_time": "2021-08-27T07:07:35.323679",
          "exception": false,
          "start_time": "2021-08-27T07:07:35.271889",
          "status": "completed"
        },
        "tags": []
      },
      "source": [
        "<br><b>ANALYSIS ON STATE</b>"
      ]
    },
    {
      "cell_type": "code",
      "metadata": {
        "execution": {
          "iopub.execute_input": "2021-08-27T07:07:35.440262Z",
          "iopub.status.busy": "2021-08-27T07:07:35.439596Z",
          "iopub.status.idle": "2021-08-27T07:07:35.491905Z",
          "shell.execute_reply": "2021-08-27T07:07:35.492410Z"
        },
        "id": "J-ygGdJv369l",
        "papermill": {
          "duration": 0.116807,
          "end_time": "2021-08-27T07:07:35.492558",
          "exception": false,
          "start_time": "2021-08-27T07:07:35.375751",
          "status": "completed"
        },
        "tags": [],
        "outputId": "d55db5a7-3060-4440-b846-c2b6f7ee6cec"
      },
      "source": [
        "plt.title(\"State ratio\")\n",
        "data.state.value_counts().plot.pie()\n",
        "centre_circle = plt.Circle((0,0),0.5,color='black', fc='white',linewidth=1.25)\n",
        "fig = plt.gcf()\n",
        "fig.gca().add_artist(centre_circle)"
      ],
      "execution_count": null,
      "outputs": [
        {
          "data": {
            "text/plain": [
              "<matplotlib.patches.Circle at 0x1a2e193d7c8>"
            ]
          },
          "execution_count": 19,
          "metadata": {},
          "output_type": "execute_result"
        },
        {
          "data": {
            "image/png": "[encoded data removed]",
            "text/plain": [
              "<Figure size 432x288 with 1 Axes>"
            ]
          },
          "metadata": {},
          "output_type": "display_data"
        }
      ]
    },
    {
      "cell_type": "markdown",
      "metadata": {
        "id": "efD_T5f2E6Q4",
        "papermill": {
          "duration": 0.053032,
          "end_time": "2021-08-27T07:07:35.598906",
          "exception": false,
          "start_time": "2021-08-27T07:07:35.545874",
          "status": "completed"
        },
        "tags": []
      },
      "source": [
        "The donut plot gives information about the number of patients released, deceased and isolated. It can be seen that more number of patients are released from the isolation center, then comes the number of patients being isolated and very less number of patients died."
      ]
    },
    {
      "cell_type": "markdown",
      "metadata": {
        "id": "vTSgKzC5979a",
        "papermill": {
          "duration": 0.053046,
          "end_time": "2021-08-27T07:07:35.704914",
          "exception": false,
          "start_time": "2021-08-27T07:07:35.651868",
          "status": "completed"
        },
        "tags": []
      },
      "source": [
        "<br><b>ANALYSIS ON AGE</b>"
      ]
    },
    {
      "cell_type": "code",
      "metadata": {
        "execution": {
          "iopub.execute_input": "2021-08-27T07:07:35.814818Z",
          "iopub.status.busy": "2021-08-27T07:07:35.814198Z",
          "iopub.status.idle": "2021-08-27T07:07:35.989856Z",
          "shell.execute_reply": "2021-08-27T07:07:35.990471Z"
        },
        "id": "uz-QjRuN4d34",
        "papermill": {
          "duration": 0.232131,
          "end_time": "2021-08-27T07:07:35.990647",
          "exception": false,
          "start_time": "2021-08-27T07:07:35.758516",
          "status": "completed"
        },
        "tags": [],
        "outputId": "3ef6832e-c561-431a-dc3d-6996bbd58c27"
      },
      "source": [
        "data.age_range_numeric.plot.hist()\n",
        "plt.title(\"Age Histogram\")\n",
        "plt.xlabel(\"Age range\")"
      ],
      "execution_count": null,
      "outputs": [
        {
          "data": {
            "text/plain": [
              "Text(0.5, 0, 'Age range')"
            ]
          },
          "execution_count": 20,
          "metadata": {},
          "output_type": "execute_result"
        },
        {
          "data": {
            "image/png": "[encoded data removed]",
            "text/plain": [
              "<Figure size 432x288 with 1 Axes>"
            ]
          },
          "metadata": {
            "needs_background": "light"
          },
          "output_type": "display_data"
        }
      ]
    },
    {
      "cell_type": "markdown",
      "metadata": {
        "id": "YCKH3IDvE9Gi",
        "papermill": {
          "duration": 0.054243,
          "end_time": "2021-08-27T07:07:36.100367",
          "exception": false,
          "start_time": "2021-08-27T07:07:36.046124",
          "status": "completed"
        },
        "tags": []
      },
      "source": [
        "It can be observed that people who belong to the age in the range of 20’s are most affected.There is nobody affected in the range of 40 to 50."
      ]
    },
    {
      "cell_type": "code",
      "metadata": {
        "execution": {
          "iopub.execute_input": "2021-08-27T07:07:36.214306Z",
          "iopub.status.busy": "2021-08-27T07:07:36.213678Z",
          "iopub.status.idle": "2021-08-27T07:07:36.381850Z",
          "shell.execute_reply": "2021-08-27T07:07:36.382383Z"
        },
        "id": "8dUDMMLsshjs",
        "papermill": {
          "duration": 0.226563,
          "end_time": "2021-08-27T07:07:36.382549",
          "exception": false,
          "start_time": "2021-08-27T07:07:36.155986",
          "status": "completed"
        },
        "tags": [],
        "outputId": "3e209211-ea77-46bc-f8ee-276ce42f1053"
      },
      "source": [
        "sns.distplot(data['age_range_numeric'])\n",
        "plt.title(\"Age distribution plot\")"
      ],
      "execution_count": null,
      "outputs": [
        {
          "data": {
            "text/plain": [
              "Text(0.5, 1.0, 'Age distribution plot')"
            ]
          },
          "execution_count": 21,
          "metadata": {},
          "output_type": "execute_result"
        },
        {
          "data": {
            "image/png": "[encoded data removed]",
            "text/plain": [
              "<Figure size 432x288 with 1 Axes>"
            ]
          },
          "metadata": {
            "needs_background": "light"
          },
          "output_type": "display_data"
        }
      ]
    },
    {
      "cell_type": "markdown",
      "metadata": {
        "id": "U6WAHYlVOUnp",
        "papermill": {
          "duration": 0.056251,
          "end_time": "2021-08-27T07:07:36.495753",
          "exception": false,
          "start_time": "2021-08-27T07:07:36.439502",
          "status": "completed"
        },
        "tags": []
      },
      "source": [
        "The graph shows the propbability of the ages and the line in the graph the maximum concentration in that particular range."
      ]
    },
    {
      "cell_type": "markdown",
      "metadata": {
        "id": "YKvlQE-ofYWA",
        "papermill": {
          "duration": 0.055884,
          "end_time": "2021-08-27T07:07:36.607843",
          "exception": false,
          "start_time": "2021-08-27T07:07:36.551959",
          "status": "completed"
        },
        "tags": []
      },
      "source": [
        "<br><b>ANALYSIS ON PROVINCE</b>"
      ]
    },
    {
      "cell_type": "code",
      "metadata": {
        "execution": {
          "iopub.execute_input": "2021-08-27T07:07:36.723379Z",
          "iopub.status.busy": "2021-08-27T07:07:36.722800Z",
          "iopub.status.idle": "2021-08-27T07:07:36.935063Z",
          "shell.execute_reply": "2021-08-27T07:07:36.934549Z"
        },
        "id": "5jB3VlX6_FMe",
        "papermill": {
          "duration": 0.27098,
          "end_time": "2021-08-27T07:07:36.935176",
          "exception": false,
          "start_time": "2021-08-27T07:07:36.664196",
          "status": "completed"
        },
        "tags": [],
        "outputId": "b9849d53-527e-4e49-e41a-54f939b1dd8c"
      },
      "source": [
        "plt.figure(figsize=(20,5))\n",
        "data.province.value_counts().plot.bar()\n",
        "plt.xlabel(\"Province\")\n",
        "plt.ylabel(\"count\")\n",
        "plt.title(\"Province with the respective patient count\")"
      ],
      "execution_count": null,
      "outputs": [
        {
          "data": {
            "text/plain": [
              "Text(0.5, 1.0, 'Province with the respective patient count')"
            ]
          },
          "execution_count": 22,
          "metadata": {},
          "output_type": "execute_result"
        },
        {
          "data": {
            "image/png": "[encoded data removed]",
            "text/plain": [
              "<Figure size 1440x360 with 1 Axes>"
            ]
          },
          "metadata": {
            "needs_background": "light"
          },
          "output_type": "display_data"
        }
      ]
    },
    {
      "cell_type": "markdown",
      "metadata": {
        "id": "XgJDhXbMFG4e",
        "papermill": {
          "duration": 0.057691,
          "end_time": "2021-08-27T07:07:37.050727",
          "exception": false,
          "start_time": "2021-08-27T07:07:36.993036",
          "status": "completed"
        },
        "tags": []
      },
      "source": [
        "Gyeonggi-do is the most affected province while Jeju-do is least affected. The graph is clearly decreasing in nature."
      ]
    },
    {
      "cell_type": "markdown",
      "metadata": {
        "id": "uNoV3107fgnc",
        "papermill": {
          "duration": 0.058465,
          "end_time": "2021-08-27T07:07:37.167232",
          "exception": false,
          "start_time": "2021-08-27T07:07:37.108767",
          "status": "completed"
        },
        "tags": []
      },
      "source": [
        "<br><b>ANALYSIS ON CONTACT NUMBER</b>"
      ]
    },
    {
      "cell_type": "code",
      "metadata": {
        "execution": {
          "iopub.execute_input": "2021-08-27T07:07:37.290452Z",
          "iopub.status.busy": "2021-08-27T07:07:37.289812Z",
          "iopub.status.idle": "2021-08-27T07:07:38.133317Z",
          "shell.execute_reply": "2021-08-27T07:07:38.132821Z"
        },
        "id": "mKayldr0DYZk",
        "papermill": {
          "duration": 0.907601,
          "end_time": "2021-08-27T07:07:38.133420",
          "exception": false,
          "start_time": "2021-08-27T07:07:37.225819",
          "status": "completed"
        },
        "tags": [],
        "outputId": "d09a474d-240f-4963-823b-3a8967431652"
      },
      "source": [
        "plt.figure(figsize=(25,10))\n",
        "data.contact_number.value_counts().plot.bar()\n",
        "plt.title(\"The count of Number of people patients made contact with\")"
      ],
      "execution_count": null,
      "outputs": [
        {
          "data": {
            "text/plain": [
              "Text(0.5, 1.0, 'The count of Number of people patients made contact with')"
            ]
          },
          "execution_count": 23,
          "metadata": {},
          "output_type": "execute_result"
        },
        {
          "data": {
            "image/png": "[encoded data removed]",
            "text/plain": [
              "<Figure size 1800x720 with 1 Axes>"
            ]
          },
          "metadata": {
            "needs_background": "light"
          },
          "output_type": "display_data"
        }
      ]
    },
    {
      "cell_type": "markdown",
      "metadata": {
        "id": "07pYtL2bG5qA",
        "papermill": {
          "duration": 0.058869,
          "end_time": "2021-08-27T07:07:38.251708",
          "exception": false,
          "start_time": "2021-08-27T07:07:38.192839",
          "status": "completed"
        },
        "tags": []
      },
      "source": [
        "This shows that most of the patients made contact with at least 2 people."
      ]
    },
    {
      "cell_type": "markdown",
      "metadata": {
        "id": "o7CoGDcUa559",
        "papermill": {
          "duration": 0.059586,
          "end_time": "2021-08-27T07:07:38.371267",
          "exception": false,
          "start_time": "2021-08-27T07:07:38.311681",
          "status": "completed"
        },
        "tags": []
      },
      "source": [
        "<br><b>CONVERTING CATEGORICAL TO NUMERICAL VARIABLES</b>"
      ]
    },
    {
      "cell_type": "code",
      "metadata": {
        "execution": {
          "iopub.execute_input": "2021-08-27T07:07:38.512398Z",
          "iopub.status.busy": "2021-08-27T07:07:38.511446Z",
          "iopub.status.idle": "2021-08-27T07:07:38.515759Z",
          "shell.execute_reply": "2021-08-27T07:07:38.515255Z"
        },
        "id": "zcXzOjOjR1qa",
        "papermill": {
          "duration": 0.085055,
          "end_time": "2021-08-27T07:07:38.515870",
          "exception": false,
          "start_time": "2021-08-27T07:07:38.430815",
          "status": "completed"
        },
        "tags": [],
        "outputId": "2be75d5d-652b-4fef-ea02-e82a3f3a0149"
      },
      "source": [
        "data[\"infection_case\"] = data[\"infection_case\"].astype('category')\n",
        "data[\"infection_case\"] = data[\"infection_case\"].cat.codes\n",
        "data.head()"
      ],
      "execution_count": null,
      "outputs": [
        {
          "data": {
            "text/html": [
              "<div>\n",
              "<style scoped>\n",
              "    .dataframe tbody tr th:only-of-type {\n",
              "        vertical-align: middle;\n",
              "    }\n",
              "\n",
              "    .dataframe tbody tr th {\n",
              "        vertical-align: top;\n",
              "    }\n",
              "\n",
              "    .dataframe thead th {\n",
              "        text-align: right;\n",
              "    }\n",
              "</style>\n",
              "<table border=\"1\" class=\"dataframe\">\n",
              "  <thead>\n",
              "    <tr style=\"text-align: right;\">\n",
              "      <th></th>\n",
              "      <th>patient_id</th>\n",
              "      <th>sex</th>\n",
              "      <th>age</th>\n",
              "      <th>country</th>\n",
              "      <th>province</th>\n",
              "      <th>city</th>\n",
              "      <th>infection_case</th>\n",
              "      <th>infected_by</th>\n",
              "      <th>contact_number</th>\n",
              "      <th>symptom_onset_date</th>\n",
              "      <th>confirmed_date</th>\n",
              "      <th>released_date</th>\n",
              "      <th>deceased_date</th>\n",
              "      <th>state</th>\n",
              "      <th>age_range_numeric</th>\n",
              "    </tr>\n",
              "  </thead>\n",
              "  <tbody>\n",
              "    <tr>\n",
              "      <td>0</td>\n",
              "      <td>1000000001</td>\n",
              "      <td>male</td>\n",
              "      <td>50s</td>\n",
              "      <td>Korea</td>\n",
              "      <td>Seoul</td>\n",
              "      <td>Gangseo-gu</td>\n",
              "      <td>15</td>\n",
              "      <td>NaN</td>\n",
              "      <td>75.0</td>\n",
              "      <td>2020-01-22</td>\n",
              "      <td>2020-01-23</td>\n",
              "      <td>2020-02-05</td>\n",
              "      <td>NaN</td>\n",
              "      <td>released</td>\n",
              "      <td>50.0</td>\n",
              "    </tr>\n",
              "    <tr>\n",
              "      <td>1</td>\n",
              "      <td>1000000002</td>\n",
              "      <td>male</td>\n",
              "      <td>30s</td>\n",
              "      <td>Korea</td>\n",
              "      <td>Seoul</td>\n",
              "      <td>Jungnang-gu</td>\n",
              "      <td>15</td>\n",
              "      <td>NaN</td>\n",
              "      <td>31.0</td>\n",
              "      <td>NaN</td>\n",
              "      <td>2020-01-30</td>\n",
              "      <td>2020-03-02</td>\n",
              "      <td>NaN</td>\n",
              "      <td>released</td>\n",
              "      <td>30.0</td>\n",
              "    </tr>\n",
              "    <tr>\n",
              "      <td>2</td>\n",
              "      <td>1000000003</td>\n",
              "      <td>male</td>\n",
              "      <td>50s</td>\n",
              "      <td>Korea</td>\n",
              "      <td>Seoul</td>\n",
              "      <td>Jongno-gu</td>\n",
              "      <td>11</td>\n",
              "      <td>2002000001</td>\n",
              "      <td>17.0</td>\n",
              "      <td>NaN</td>\n",
              "      <td>2020-01-30</td>\n",
              "      <td>2020-02-19</td>\n",
              "      <td>NaN</td>\n",
              "      <td>released</td>\n",
              "      <td>50.0</td>\n",
              "    </tr>\n",
              "    <tr>\n",
              "      <td>3</td>\n",
              "      <td>1000000004</td>\n",
              "      <td>male</td>\n",
              "      <td>20s</td>\n",
              "      <td>Korea</td>\n",
              "      <td>Seoul</td>\n",
              "      <td>Mapo-gu</td>\n",
              "      <td>15</td>\n",
              "      <td>NaN</td>\n",
              "      <td>9.0</td>\n",
              "      <td>2020-01-26</td>\n",
              "      <td>2020-01-30</td>\n",
              "      <td>2020-02-15</td>\n",
              "      <td>NaN</td>\n",
              "      <td>released</td>\n",
              "      <td>20.0</td>\n",
              "    </tr>\n",
              "    <tr>\n",
              "      <td>4</td>\n",
              "      <td>1000000005</td>\n",
              "      <td>female</td>\n",
              "      <td>20s</td>\n",
              "      <td>Korea</td>\n",
              "      <td>Seoul</td>\n",
              "      <td>Seongbuk-gu</td>\n",
              "      <td>11</td>\n",
              "      <td>1000000002</td>\n",
              "      <td>2.0</td>\n",
              "      <td>NaN</td>\n",
              "      <td>2020-01-31</td>\n",
              "      <td>2020-02-24</td>\n",
              "      <td>NaN</td>\n",
              "      <td>released</td>\n",
              "      <td>20.0</td>\n",
              "    </tr>\n",
              "  </tbody>\n",
              "</table>\n",
              "</div>"
            ],
            "text/plain": [
              "   patient_id     sex  age country province         city  infection_case  \\\n",
              "0  1000000001    male  50s   Korea    Seoul   Gangseo-gu              15   \n",
              "1  1000000002    male  30s   Korea    Seoul  Jungnang-gu              15   \n",
              "2  1000000003    male  50s   Korea    Seoul    Jongno-gu              11   \n",
              "3  1000000004    male  20s   Korea    Seoul      Mapo-gu              15   \n",
              "4  1000000005  female  20s   Korea    Seoul  Seongbuk-gu              11   \n",
              "\n",
              "  infected_by  contact_number symptom_onset_date confirmed_date released_date  \\\n",
              "0         NaN            75.0         2020-01-22     2020-01-23    2020-02-05   \n",
              "1         NaN            31.0                NaN     2020-01-30    2020-03-02   \n",
              "2  2002000001            17.0                NaN     2020-01-30    2020-02-19   \n",
              "3         NaN             9.0         2020-01-26     2020-01-30    2020-02-15   \n",
              "4  1000000002             2.0                NaN     2020-01-31    2020-02-24   \n",
              "\n",
              "  deceased_date     state  age_range_numeric  \n",
              "0           NaN  released               50.0  \n",
              "1           NaN  released               30.0  \n",
              "2           NaN  released               50.0  \n",
              "3           NaN  released               20.0  \n",
              "4           NaN  released               20.0  "
            ]
          },
          "execution_count": 24,
          "metadata": {},
          "output_type": "execute_result"
        }
      ]
    },
    {
      "cell_type": "code",
      "metadata": {
        "execution": {
          "iopub.execute_input": "2021-08-27T07:07:38.643489Z",
          "iopub.status.busy": "2021-08-27T07:07:38.642671Z",
          "iopub.status.idle": "2021-08-27T07:07:38.662728Z",
          "shell.execute_reply": "2021-08-27T07:07:38.663164Z"
        },
        "id": "tbUfsEKIzeUf",
        "papermill": {
          "duration": 0.087701,
          "end_time": "2021-08-27T07:07:38.663302",
          "exception": false,
          "start_time": "2021-08-27T07:07:38.575601",
          "status": "completed"
        },
        "tags": [],
        "outputId": "68301408-c56e-4f5a-a229-57bfbf722252"
      },
      "source": [
        "data.describe()"
      ],
      "execution_count": null,
      "outputs": [
        {
          "data": {
            "text/html": [
              "<div>\n",
              "<style scoped>\n",
              "    .dataframe tbody tr th:only-of-type {\n",
              "        vertical-align: middle;\n",
              "    }\n",
              "\n",
              "    .dataframe tbody tr th {\n",
              "        vertical-align: top;\n",
              "    }\n",
              "\n",
              "    .dataframe thead th {\n",
              "        text-align: right;\n",
              "    }\n",
              "</style>\n",
              "<table border=\"1\" class=\"dataframe\">\n",
              "  <thead>\n",
              "    <tr style=\"text-align: right;\">\n",
              "      <th></th>\n",
              "      <th>patient_id</th>\n",
              "      <th>infection_case</th>\n",
              "      <th>contact_number</th>\n",
              "      <th>age_range_numeric</th>\n",
              "    </tr>\n",
              "  </thead>\n",
              "  <tbody>\n",
              "    <tr>\n",
              "      <td>count</td>\n",
              "      <td>6.910000e+02</td>\n",
              "      <td>691.000000</td>\n",
              "      <td>6.870000e+02</td>\n",
              "      <td>691.000000</td>\n",
              "    </tr>\n",
              "    <tr>\n",
              "      <td>mean</td>\n",
              "      <td>2.660229e+09</td>\n",
              "      <td>10.140376</td>\n",
              "      <td>1.775839e+07</td>\n",
              "      <td>40.028944</td>\n",
              "    </tr>\n",
              "    <tr>\n",
              "      <td>std</td>\n",
              "      <td>1.704343e+09</td>\n",
              "      <td>4.664293</td>\n",
              "      <td>3.288893e+08</td>\n",
              "      <td>17.577960</td>\n",
              "    </tr>\n",
              "    <tr>\n",
              "      <td>min</td>\n",
              "      <td>1.000000e+09</td>\n",
              "      <td>-1.000000</td>\n",
              "      <td>1.000000e+00</td>\n",
              "      <td>10.000000</td>\n",
              "    </tr>\n",
              "    <tr>\n",
              "      <td>25%</td>\n",
              "      <td>1.300000e+09</td>\n",
              "      <td>11.000000</td>\n",
              "      <td>2.000000e+00</td>\n",
              "      <td>20.000000</td>\n",
              "    </tr>\n",
              "    <tr>\n",
              "      <td>50%</td>\n",
              "      <td>2.000000e+09</td>\n",
              "      <td>11.000000</td>\n",
              "      <td>5.000000e+00</td>\n",
              "      <td>40.000000</td>\n",
              "    </tr>\n",
              "    <tr>\n",
              "      <td>75%</td>\n",
              "      <td>4.100000e+09</td>\n",
              "      <td>12.000000</td>\n",
              "      <td>1.600000e+01</td>\n",
              "      <td>50.000000</td>\n",
              "    </tr>\n",
              "    <tr>\n",
              "      <td>max</td>\n",
              "      <td>7.000000e+09</td>\n",
              "      <td>15.000000</td>\n",
              "      <td>6.100000e+09</td>\n",
              "      <td>90.000000</td>\n",
              "    </tr>\n",
              "  </tbody>\n",
              "</table>\n",
              "</div>"
            ],
            "text/plain": [
              "         patient_id  infection_case  contact_number  age_range_numeric\n",
              "count  6.910000e+02      691.000000    6.870000e+02         691.000000\n",
              "mean   2.660229e+09       10.140376    1.775839e+07          40.028944\n",
              "std    1.704343e+09        4.664293    3.288893e+08          17.577960\n",
              "min    1.000000e+09       -1.000000    1.000000e+00          10.000000\n",
              "25%    1.300000e+09       11.000000    2.000000e+00          20.000000\n",
              "50%    2.000000e+09       11.000000    5.000000e+00          40.000000\n",
              "75%    4.100000e+09       12.000000    1.600000e+01          50.000000\n",
              "max    7.000000e+09       15.000000    6.100000e+09          90.000000"
            ]
          },
          "execution_count": 25,
          "metadata": {},
          "output_type": "execute_result"
        }
      ]
    },
    {
      "cell_type": "code",
      "metadata": {
        "execution": {
          "iopub.execute_input": "2021-08-27T07:07:38.917187Z",
          "iopub.status.busy": "2021-08-27T07:07:38.916189Z",
          "iopub.status.idle": "2021-08-27T07:07:39.046781Z",
          "shell.execute_reply": "2021-08-27T07:07:39.046014Z"
        },
        "id": "Q_kTykkfhl3b",
        "papermill": {
          "duration": 0.202956,
          "end_time": "2021-08-27T07:07:39.046913",
          "exception": false,
          "start_time": "2021-08-27T07:07:38.843957",
          "status": "completed"
        },
        "tags": [],
        "outputId": "10f6629b-0ba8-4972-b157-f336ced2557c"
      },
      "source": [
        "data.groupby('sex')['contact_number'].mean().plot.bar()\n",
        "plt.ylabel(\"Contact numbers mean\")\n",
        "plt.title(\"Male vs Female wrt Contact number\")"
      ],
      "execution_count": null,
      "outputs": [
        {
          "data": {
            "text/plain": [
              "Text(0.5, 1.0, 'Male vs Female wrt Contact number')"
            ]
          },
          "execution_count": 26,
          "metadata": {},
          "output_type": "execute_result"
        },
        {
          "data": {
            "image/png": "[encoded data removed]",
            "text/plain": [
              "<Figure size 432x288 with 1 Axes>"
            ]
          },
          "metadata": {
            "needs_background": "light"
          },
          "output_type": "display_data"
        }
      ]
    },
    {
      "cell_type": "markdown",
      "metadata": {
        "id": "YMTkhIQ7lzyD",
        "papermill": {
          "duration": 0.061331,
          "end_time": "2021-08-27T07:07:39.172248",
          "exception": false,
          "start_time": "2021-08-27T07:07:39.110917",
          "status": "completed"
        },
        "tags": []
      },
      "source": [
        "The graph gives us an idea of the gender wise mean of the number of people who came in contact with patients. The males have greater contact numbers that means the number of people who came in contact with males is higher than in female."
      ]
    },
    {
      "cell_type": "code",
      "metadata": {
        "execution": {
          "iopub.execute_input": "2021-08-27T07:07:39.307262Z",
          "iopub.status.busy": "2021-08-27T07:07:39.306255Z",
          "iopub.status.idle": "2021-08-27T07:07:39.575416Z",
          "shell.execute_reply": "2021-08-27T07:07:39.574834Z"
        },
        "id": "7BYxUWQ-Dj3W",
        "papermill": {
          "duration": 0.340929,
          "end_time": "2021-08-27T07:07:39.575544",
          "exception": false,
          "start_time": "2021-08-27T07:07:39.234615",
          "status": "completed"
        },
        "tags": [],
        "outputId": "f57dfa7e-6330-49b5-8570-9d363d89e4c4"
      },
      "source": [
        "plt.figure(figsize=(20,10))\n",
        "plt.title('age wise state frequency',fontsize = 15)\n",
        "sns.countplot(y='age', hue='state',data=data)"
      ],
      "execution_count": null,
      "outputs": [
        {
          "data": {
            "text/plain": [
              "<matplotlib.axes._subplots.AxesSubplot at 0x1a2e24735c8>"
            ]
          },
          "execution_count": 27,
          "metadata": {},
          "output_type": "execute_result"
        },
        {
          "data": {
            "image/png": "[encoded data removed]",
            "text/plain": [
              "<Figure size 1440x720 with 1 Axes>"
            ]
          },
          "metadata": {
            "needs_background": "light"
          },
          "output_type": "display_data"
        }
      ]
    },
    {
      "cell_type": "markdown",
      "metadata": {
        "id": "5vMyzDrYHkT7",
        "papermill": {
          "duration": 0.066238,
          "end_time": "2021-08-27T07:07:39.705006",
          "exception": false,
          "start_time": "2021-08-27T07:07:39.638768",
          "status": "completed"
        },
        "tags": []
      },
      "source": [
        "This graph depicts that most of the people in their 20's are released or are isolated while the maximum number of deceased people were in their 70s and 80s  "
      ]
    },
    {
      "cell_type": "code",
      "metadata": {
        "execution": {
          "iopub.execute_input": "2021-08-27T07:07:39.841958Z",
          "iopub.status.busy": "2021-08-27T07:07:39.838944Z",
          "iopub.status.idle": "2021-08-27T07:07:40.046958Z",
          "shell.execute_reply": "2021-08-27T07:07:40.046337Z"
        },
        "id": "ZjSE1QvRbBz-",
        "papermill": {
          "duration": 0.278265,
          "end_time": "2021-08-27T07:07:40.047070",
          "exception": false,
          "start_time": "2021-08-27T07:07:39.768805",
          "status": "completed"
        },
        "tags": [],
        "outputId": "4cdc662b-ae09-4f64-bd85-ce7aa9d839e1"
      },
      "source": [
        "sns.countplot(data=data, x='age', hue='sex')\n",
        "plt.title(\"age wise sex ratio\")"
      ],
      "execution_count": null,
      "outputs": [
        {
          "data": {
            "text/plain": [
              "Text(0.5, 1.0, 'age wise sex ratio')"
            ]
          },
          "execution_count": 28,
          "metadata": {},
          "output_type": "execute_result"
        },
        {
          "data": {
            "image/png": "[encoded data removed]",
            "text/plain": [
              "<Figure size 432x288 with 1 Axes>"
            ]
          },
          "metadata": {
            "needs_background": "light"
          },
          "output_type": "display_data"
        }
      ]
    },
    {
      "cell_type": "markdown",
      "metadata": {
        "id": "tDk1T5X6IcBh",
        "papermill": {
          "duration": 0.06548,
          "end_time": "2021-08-27T07:07:40.178517",
          "exception": false,
          "start_time": "2021-08-27T07:07:40.113037",
          "status": "completed"
        },
        "tags": []
      },
      "source": [
        "This shows that how many male and female are there in a particular age range. The maximum number of males and females who were tested COVID19 are in their 20s. Also, in almost every age group there are more females affected than males."
      ]
    },
    {
      "cell_type": "markdown",
      "metadata": {
        "id": "9jilPKFXtonU"
      },
      "source": [
        "<br><br><b>Cases trend and timeline of policy implementation</b>"
      ]
    },
    {
      "cell_type": "code",
      "metadata": {
        "id": "b5vLNYj-tonW"
      },
      "source": [
        "df_policy = pd.read_csv('C:/Users/test/Downloads/archive(2)/Policy.csv')\n",
        "df_time = pd.read_csv('C:/Users/test/Downloads/archive(2)/Time.csv')\n",
        "df_patient_info = pd.read_csv('C:/Users/test/Downloads/archive(2)/PatientInfo.csv')\n",
        "\n"
      ],
      "execution_count": null,
      "outputs": []
    },
    {
      "cell_type": "code",
      "metadata": {
        "id": "JtmdapuGtona",
        "outputId": "ec11a8e8-6dcd-4a71-eccf-5338b28a6100"
      },
      "source": [
        "df_policy.dropna(inplace=True)\n",
        "\n",
        "\n",
        "df_policy.head()\n",
        "\n"
      ],
      "execution_count": null,
      "outputs": [
        {
          "data": {
            "text/html": [
              "<div>\n",
              "<style scoped>\n",
              "    .dataframe tbody tr th:only-of-type {\n",
              "        vertical-align: middle;\n",
              "    }\n",
              "\n",
              "    .dataframe tbody tr th {\n",
              "        vertical-align: top;\n",
              "    }\n",
              "\n",
              "    .dataframe thead th {\n",
              "        text-align: right;\n",
              "    }\n",
              "</style>\n",
              "<table border=\"1\" class=\"dataframe\">\n",
              "  <thead>\n",
              "    <tr style=\"text-align: right;\">\n",
              "      <th></th>\n",
              "      <th>policy_id</th>\n",
              "      <th>country</th>\n",
              "      <th>type</th>\n",
              "      <th>gov_policy</th>\n",
              "      <th>detail</th>\n",
              "      <th>start_date</th>\n",
              "      <th>end_date</th>\n",
              "    </tr>\n",
              "  </thead>\n",
              "  <tbody>\n",
              "    <tr>\n",
              "      <td>0</td>\n",
              "      <td>1</td>\n",
              "      <td>Korea</td>\n",
              "      <td>Alert</td>\n",
              "      <td>Infectious Disease Alert Level</td>\n",
              "      <td>Level 1 (Blue)</td>\n",
              "      <td>2020-01-03</td>\n",
              "      <td>2020-01-19</td>\n",
              "    </tr>\n",
              "    <tr>\n",
              "      <td>1</td>\n",
              "      <td>2</td>\n",
              "      <td>Korea</td>\n",
              "      <td>Alert</td>\n",
              "      <td>Infectious Disease Alert Level</td>\n",
              "      <td>Level 2 (Yellow)</td>\n",
              "      <td>2020-01-20</td>\n",
              "      <td>2020-01-27</td>\n",
              "    </tr>\n",
              "    <tr>\n",
              "      <td>2</td>\n",
              "      <td>3</td>\n",
              "      <td>Korea</td>\n",
              "      <td>Alert</td>\n",
              "      <td>Infectious Disease Alert Level</td>\n",
              "      <td>Level 3 (Orange)</td>\n",
              "      <td>2020-01-28</td>\n",
              "      <td>2020-02-22</td>\n",
              "    </tr>\n",
              "    <tr>\n",
              "      <td>28</td>\n",
              "      <td>29</td>\n",
              "      <td>Korea</td>\n",
              "      <td>Social</td>\n",
              "      <td>Social Distancing Campaign</td>\n",
              "      <td>Strong</td>\n",
              "      <td>2020-02-29</td>\n",
              "      <td>2020-03-21</td>\n",
              "    </tr>\n",
              "    <tr>\n",
              "      <td>29</td>\n",
              "      <td>30</td>\n",
              "      <td>Korea</td>\n",
              "      <td>Social</td>\n",
              "      <td>Social Distancing Campaign</td>\n",
              "      <td>Strong</td>\n",
              "      <td>2020-03-22</td>\n",
              "      <td>2020-04-19</td>\n",
              "    </tr>\n",
              "  </tbody>\n",
              "</table>\n",
              "</div>"
            ],
            "text/plain": [
              "    policy_id country    type                      gov_policy  \\\n",
              "0           1   Korea   Alert  Infectious Disease Alert Level   \n",
              "1           2   Korea   Alert  Infectious Disease Alert Level   \n",
              "2           3   Korea   Alert  Infectious Disease Alert Level   \n",
              "28         29   Korea  Social      Social Distancing Campaign   \n",
              "29         30   Korea  Social      Social Distancing Campaign   \n",
              "\n",
              "              detail  start_date    end_date  \n",
              "0     Level 1 (Blue)  2020-01-03  2020-01-19  \n",
              "1   Level 2 (Yellow)  2020-01-20  2020-01-27  \n",
              "2   Level 3 (Orange)  2020-01-28  2020-02-22  \n",
              "28            Strong  2020-02-29  2020-03-21  \n",
              "29            Strong  2020-03-22  2020-04-19  "
            ]
          },
          "execution_count": 34,
          "metadata": {},
          "output_type": "execute_result"
        }
      ]
    },
    {
      "cell_type": "code",
      "metadata": {
        "id": "CHHsG0WBtond"
      },
      "source": [
        "from datetime import datetime\n",
        "def convertDate(date):\n",
        "    d = datetime.fromisoformat(date)\n",
        "    return d"
      ],
      "execution_count": null,
      "outputs": []
    },
    {
      "cell_type": "code",
      "metadata": {
        "id": "fDN5gZ5Utonh"
      },
      "source": [
        "df_time['date'] = df_time.date.apply(lambda d: (datetime.strptime(d, \"%Y-%m-%d\")))"
      ],
      "execution_count": null,
      "outputs": []
    },
    {
      "cell_type": "code",
      "metadata": {
        "id": "OihCtLnttoni",
        "outputId": "b92f42b4-437d-4fd3-8f02-d420b1a3f95a"
      },
      "source": [
        "df_time.head()"
      ],
      "execution_count": null,
      "outputs": [
        {
          "data": {
            "text/html": [
              "<div>\n",
              "<style scoped>\n",
              "    .dataframe tbody tr th:only-of-type {\n",
              "        vertical-align: middle;\n",
              "    }\n",
              "\n",
              "    .dataframe tbody tr th {\n",
              "        vertical-align: top;\n",
              "    }\n",
              "\n",
              "    .dataframe thead th {\n",
              "        text-align: right;\n",
              "    }\n",
              "</style>\n",
              "<table border=\"1\" class=\"dataframe\">\n",
              "  <thead>\n",
              "    <tr style=\"text-align: right;\">\n",
              "      <th></th>\n",
              "      <th>date</th>\n",
              "      <th>time</th>\n",
              "      <th>test</th>\n",
              "      <th>negative</th>\n",
              "      <th>confirmed</th>\n",
              "      <th>released</th>\n",
              "      <th>deceased</th>\n",
              "    </tr>\n",
              "  </thead>\n",
              "  <tbody>\n",
              "    <tr>\n",
              "      <td>0</td>\n",
              "      <td>2020-01-20</td>\n",
              "      <td>16</td>\n",
              "      <td>1</td>\n",
              "      <td>0</td>\n",
              "      <td>1</td>\n",
              "      <td>0</td>\n",
              "      <td>0</td>\n",
              "    </tr>\n",
              "    <tr>\n",
              "      <td>1</td>\n",
              "      <td>2020-01-21</td>\n",
              "      <td>16</td>\n",
              "      <td>1</td>\n",
              "      <td>0</td>\n",
              "      <td>1</td>\n",
              "      <td>0</td>\n",
              "      <td>0</td>\n",
              "    </tr>\n",
              "    <tr>\n",
              "      <td>2</td>\n",
              "      <td>2020-01-22</td>\n",
              "      <td>16</td>\n",
              "      <td>4</td>\n",
              "      <td>3</td>\n",
              "      <td>1</td>\n",
              "      <td>0</td>\n",
              "      <td>0</td>\n",
              "    </tr>\n",
              "    <tr>\n",
              "      <td>3</td>\n",
              "      <td>2020-01-23</td>\n",
              "      <td>16</td>\n",
              "      <td>22</td>\n",
              "      <td>21</td>\n",
              "      <td>1</td>\n",
              "      <td>0</td>\n",
              "      <td>0</td>\n",
              "    </tr>\n",
              "    <tr>\n",
              "      <td>4</td>\n",
              "      <td>2020-01-24</td>\n",
              "      <td>16</td>\n",
              "      <td>27</td>\n",
              "      <td>25</td>\n",
              "      <td>2</td>\n",
              "      <td>0</td>\n",
              "      <td>0</td>\n",
              "    </tr>\n",
              "  </tbody>\n",
              "</table>\n",
              "</div>"
            ],
            "text/plain": [
              "        date  time  test  negative  confirmed  released  deceased\n",
              "0 2020-01-20    16     1         0          1         0         0\n",
              "1 2020-01-21    16     1         0          1         0         0\n",
              "2 2020-01-22    16     4         3          1         0         0\n",
              "3 2020-01-23    16    22        21          1         0         0\n",
              "4 2020-01-24    16    27        25          2         0         0"
            ]
          },
          "execution_count": 40,
          "metadata": {},
          "output_type": "execute_result"
        }
      ]
    },
    {
      "cell_type": "code",
      "metadata": {
        "id": "ehOFK0DBtonl",
        "outputId": "27d30d13-8dd0-404c-8a61-03c9ba162eb0"
      },
      "source": [
        "\n",
        "###Plot - Cases trend and timeline of policy implementation in Korea\n",
        "\n",
        "plt.figure(figsize=(15,6))\n",
        "\n",
        "plt.axvline(x=datetime.strptime('2020-01-03', \"%Y-%m-%d\"), label='Level 1 Alert Start time', color='blue')\n",
        "plt.axvline(x=datetime.strptime('2020-01-19', \"%Y-%m-%d\"), label='Level 1 Alert End time', color='blue')\n",
        "\n",
        "plt.axvline(x=datetime.strptime('2020-01-20', \"%Y-%m-%d\"), label='Level 2 Alert Start time', color='yellow')\n",
        "plt.axvline(x=datetime.strptime('2020-01-27', \"%Y-%m-%d\"), label='Level 2 Alert End time', color='yellow')\n",
        "\n",
        "plt.axvline(x=datetime.strptime('2020-01-28', \"%Y-%m-%d\"), label='Level 3 Alert Start time', color='brown')\n",
        "plt.axvline(x=datetime.strptime('2020-02-22', \"%Y-%m-%d\"), label='Level 3 Alert End time', color='brown')\n",
        "\n",
        "plt.axvline(x=datetime.strptime('2020-02-29', \"%Y-%m-%d\"), label='Social Distancing Campaign 1 Start time', color='red')\n",
        "plt.axvline(x=datetime.strptime('2020-03-21', \"%Y-%m-%d\"), label='Social Distancing Campaign 1 End time', color='red')\n",
        "\n",
        "plt.axvline(x=datetime.strptime('2020-03-22', \"%Y-%m-%d\"), label='Social Distancing Campaign 2 Start time', color='grey')\n",
        "plt.axvline(x=datetime.strptime('2020-04-19', \"%Y-%m-%d\"), label='Social Distancing Campaign 2 End time', color='grey')\n",
        "\n",
        "plt.xlabel('Date', size=20)\n",
        "plt.ylabel('Number of cases', size=20)\n",
        "plt.xticks(size=15)\n",
        "plt.yticks(size=15)\n",
        "plt.title(\"Covid cases trend with policy timelines\", size=25)\n",
        "\n",
        "plt.legend(loc = \"best\"\n",
        "           , frameon = True\n",
        "           , fancybox = True\n",
        "           , framealpha = 0.95\n",
        "           , shadow = True\n",
        "           , borderpad = 1\n",
        "           , prop={'size': 12})\n",
        "\n",
        "plt.plot(df_time.date, df_time.confirmed, color='black')\n",
        "plt.show()\n",
        "\n"
      ],
      "execution_count": null,
      "outputs": [
        {
          "data": {
            "image/png": "[encoded data removed]",
            "text/plain": [
              "<Figure size 1080x432 with 1 Axes>"
            ]
          },
          "metadata": {
            "needs_background": "light"
          },
          "output_type": "display_data"
        }
      ]
    },
    {
      "cell_type": "markdown",
      "metadata": {
        "id": "d9dlj8DDtonn"
      },
      "source": [
        "\n",
        "\n",
        "We can notice that the following policies have had a huge positive impact in containing the spread of COVID-19 in South Korea:\n",
        "\n",
        "    Level 1 Alert - Blue zone\n",
        "    Level 2 Alert - Yellow zone\n",
        "    Level 3 Alert - Orange zone\n",
        "    Social Distancing campaign 1\n",
        "    Social Distancing campaign 2\n",
        "\n",
        "From the above plot, we can see that the rate of growth of cases reduced After Social Distancing Campaign was implemented in South Korea.\n"
      ]
    },
    {
      "cell_type": "markdown",
      "metadata": {
        "id": "3bVB09_Jtono"
      },
      "source": [
        "\n",
        "<b>Infection spread due to close contact</b>"
      ]
    },
    {
      "cell_type": "code",
      "metadata": {
        "id": "BQ1KRfdMtonr"
      },
      "source": [
        "df_patient_info = df_patient_info[df_patient_info['infected_by'].notna()]\n",
        "df_patient_by_infected = pd.DataFrame(df_patient_info[['contact_number', 'infected_by', 'patient_id']]).groupby(df_patient_info['infected_by']).agg('count')"
      ],
      "execution_count": null,
      "outputs": []
    },
    {
      "cell_type": "markdown",
      "metadata": {
        "id": "oOGQEca9tont"
      },
      "source": [
        "<br><b>\n",
        "\n",
        "Aggregating the total number of infected patients due to close contact</b>"
      ]
    },
    {
      "cell_type": "code",
      "metadata": {
        "id": "-kokk1TQtonv",
        "outputId": "0ec6d8d2-4e35-4187-c369-a6d4a0c14549"
      },
      "source": [
        "mean_infected_number = df_patient_by_infected['infected_by'].mean()\n",
        "\n",
        "print('Average transmission rate is {:.2f}'.format(mean_infected_number))"
      ],
      "execution_count": null,
      "outputs": [
        {
          "name": "stdout",
          "output_type": "stream",
          "text": [
            "Average transmission rate is 2.22\n"
          ]
        }
      ]
    },
    {
      "cell_type": "markdown",
      "metadata": {
        "id": "iIlyYOv2tony"
      },
      "source": [
        "We can notice that, on an average, one person is spreading the infection to 3 more people. This rate of spread is very low when compared to other countries. And the population of Brazil is 5x of South Korea's. And also the Demographics change between them. As the Trasnmition rate is very low than that of world average, we can conclude that this close contact tracing cant be applied with that of Brazil's case. \n",
        "<br>\n",
        "Because Brazil has more population than that of South Korea's, So the Transmission rate will be much more and would be a tedious process to implement it at a scale of that of Brazil."
      ]
    }
  ]
}